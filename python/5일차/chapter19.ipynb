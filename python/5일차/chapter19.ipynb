{
 "cells": [
  {
   "cell_type": "markdown",
   "id": "265388dc",
   "metadata": {},
   "source": [
    "## 파일 입출력\n",
    "\n",
    "# 웹 -> 크롤링 -> 데이터베이스 -> 1차 클렌징 -> 출력 후 담당자에게 전달"
   ]
  },
  {
   "cell_type": "code",
   "execution_count": null,
   "id": "8b551b35",
   "metadata": {},
   "outputs": [],
   "source": []
  },
  {
   "cell_type": "markdown",
   "id": "9ecb5f65",
   "metadata": {},
   "source": [
    "r-읽기\n",
    "w-쓰기(주의:덮어쓰기)\n",
    "a-추가"
   ]
  },
  {
   "cell_type": "code",
   "execution_count": 2,
   "id": "d54dfdbf",
   "metadata": {},
   "outputs": [],
   "source": [
    "f = open('test.txt','w')\n",
    "f.write('수강생 여러분')\n",
    "f.close()"
   ]
  },
  {
   "cell_type": "code",
   "execution_count": 6,
   "id": "c95c882c",
   "metadata": {},
   "outputs": [],
   "source": [
    "f = open('test.txt','w')\n",
    "메시지 = ''\n",
    "\n",
    "for i in range(10):\n",
    "    메시지 += \"개발자 여러분\\n\"\n",
    "\n",
    "f.write(메시지)\n",
    "f.close()"
   ]
  },
  {
   "cell_type": "code",
   "execution_count": 7,
   "id": "f7e82805",
   "metadata": {},
   "outputs": [
    {
     "name": "stdout",
     "output_type": "stream",
     "text": [
      "개발자 여러분\n",
      "개발자 여러분\n",
      "개발자 여러분\n",
      "개발자 여러분\n",
      "개발자 여러분\n",
      "개발자 여러분\n",
      "개발자 여러분\n",
      "개발자 여러분\n",
      "개발자 여러분\n",
      "개발자 여러분\n",
      "\n"
     ]
    },
    {
     "data": {
      "text/plain": [
       "<function TextIOWrapper.close()>"
      ]
     },
     "execution_count": 7,
     "metadata": {},
     "output_type": "execute_result"
    }
   ],
   "source": [
    "f = open('test.txt','r')\n",
    "s = f.read()\n",
    "print(s)\n",
    "f.close"
   ]
  },
  {
   "cell_type": "code",
   "execution_count": 9,
   "id": "132f6184",
   "metadata": {},
   "outputs": [
    {
     "name": "stdout",
     "output_type": "stream",
     "text": [
      "개발자 여러분\n",
      "\n",
      "<class 'str'>\n"
     ]
    }
   ],
   "source": [
    "f = open('test.txt','r')\n",
    "line = f.readline()\n",
    "print(line)\n",
    "print(type(line))\n",
    "f.close()"
   ]
  },
  {
   "cell_type": "code",
   "execution_count": 12,
   "id": "30afce06",
   "metadata": {},
   "outputs": [
    {
     "name": "stdout",
     "output_type": "stream",
     "text": [
      "개발자 여러분\n",
      "\n",
      "개발자 여러분\n",
      "\n",
      "개발자 여러분\n",
      "\n",
      "개발자 여러분\n",
      "\n",
      "개발자 여러분\n",
      "\n",
      "개발자 여러분\n",
      "\n",
      "개발자 여러분\n",
      "\n",
      "개발자 여러분\n",
      "\n",
      "개발자 여러분\n",
      "\n",
      "개발자 여러분\n",
      "\n",
      "\n"
     ]
    }
   ],
   "source": [
    "f = open('test.txt','r')\n",
    "while line:\n",
    "    line = f.readline()\n",
    "    print(line)\n",
    "f.close()"
   ]
  },
  {
   "cell_type": "code",
   "execution_count": 13,
   "id": "7ee6a035",
   "metadata": {},
   "outputs": [],
   "source": [
    "f = open('test.txt','a')\n",
    "f.write('힘내자')\n",
    "f.close()"
   ]
  },
  {
   "cell_type": "code",
   "execution_count": 14,
   "id": "5a9b1ac1",
   "metadata": {},
   "outputs": [],
   "source": [
    "with open('text.txt','a')as f:\n",
    "    f.write('힘내자')"
   ]
  },
  {
   "cell_type": "code",
   "execution_count": null,
   "id": "5d582e8d",
   "metadata": {},
   "outputs": [],
   "source": [
    "list = [10,20,30]\n",
    "\n",
    "with open('text.txt','a')as f:\n",
    "    f.write(str(list))"
   ]
  },
  {
   "cell_type": "code",
   "execution_count": null,
   "id": "80c71e67",
   "metadata": {},
   "outputs": [],
   "source": [
    "list = [10,20,30]\n",
    "with open('text.txt','w')as f:\n",
    "    f.write('let test ='+str(list))"
   ]
  },
  {
   "cell_type": "code",
   "execution_count": 17,
   "id": "8bf33811",
   "metadata": {},
   "outputs": [],
   "source": [
    "list = ['10','20','30']\n",
    "with open('test.txt','w')as f:\n",
    "    f.writelines(list)"
   ]
  },
  {
   "cell_type": "code",
   "execution_count": 22,
   "id": "1f032f4a",
   "metadata": {},
   "outputs": [],
   "source": [
    "#csv \n",
    "list = ['10','20','30']\n",
    "\n",
    "with open('test3.csv','w') as f:\n",
    "    f.write(','.join(list))"
   ]
  },
  {
   "cell_type": "code",
   "execution_count": null,
   "id": "ab0df8b9",
   "metadata": {},
   "outputs": [],
   "source": []
  }
 ],
 "metadata": {
  "kernelspec": {
   "display_name": "Python 3",
   "language": "python",
   "name": "python3"
  },
  "language_info": {
   "codemirror_mode": {
    "name": "ipython",
    "version": 3
   },
   "file_extension": ".py",
   "mimetype": "text/x-python",
   "name": "python",
   "nbconvert_exporter": "python",
   "pygments_lexer": "ipython3",
   "version": "3.12.6"
  }
 },
 "nbformat": 4,
 "nbformat_minor": 5
}
