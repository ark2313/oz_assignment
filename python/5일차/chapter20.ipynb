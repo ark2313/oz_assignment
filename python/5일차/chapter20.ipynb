{
 "cells": [
  {
   "cell_type": "code",
   "execution_count": null,
   "id": "b82c3b31",
   "metadata": {},
   "outputs": [
    {
     "name": "stdout",
     "output_type": "stream",
     "text": [
      "예외가 발생했습ㄴ다.\n"
     ]
    }
   ],
   "source": [
    "#예외코드 작성\n",
    "\n",
    "try:\n",
    "    x=int(input('나눌 숫자를 입력하세요'))\n",
    "    y = 10/x\n",
    "    print(x)\n",
    "except:\n",
    "    print(\"예외가 발생했습니다.\")"
   ]
  },
  {
   "cell_type": "code",
   "execution_count": 14,
   "id": "ab9a9453",
   "metadata": {},
   "outputs": [
    {
     "name": "stdout",
     "output_type": "stream",
     "text": [
      "잘못된 인덱스\n"
     ]
    }
   ],
   "source": [
    "y = [10, 20, 30]\n",
    "try:\n",
    "    index, x= map(int, input('나눌 숫자를 입력: ').split('.'))\n",
    "    print(y[index]/x)\n",
    "except ZeroDivisionError:\n",
    "    print('숫자를 0으로 나눌수 없다')\n",
    "except IndexError:\n",
    "    print(\"잘못된 인덱스\")"
   ]
  },
  {
   "cell_type": "code",
   "execution_count": 17,
   "id": "bda817c4",
   "metadata": {},
   "outputs": [
    {
     "name": "stdout",
     "output_type": "stream",
     "text": [
      "3\n",
      "성공\n"
     ]
    }
   ],
   "source": [
    "try:\n",
    "    x=int(input('나눌 숫자를 입력하세요'))\n",
    "    y = 10/x\n",
    "    print(x)\n",
    "except:\n",
    "    print(\"예외가 발생했습니다.\")\n",
    "else:\n",
    "    print('성공')"
   ]
  },
  {
   "cell_type": "code",
   "execution_count": 21,
   "id": "0c6355f9",
   "metadata": {},
   "outputs": [
    {
     "name": "stdout",
     "output_type": "stream",
     "text": [
      "예외가 발생했습니다.\n",
      "코드 실행이 종료되었습니다\n"
     ]
    }
   ],
   "source": [
    "try:\n",
    "    x=int(input('나눌 숫자를 입력하세요'))\n",
    "    y = 10/x\n",
    "    raise\n",
    "    print(x)\n",
    "except:\n",
    "    print(\"예외가 발생했습니다.\")\n",
    "else:\n",
    "    print('성공')\n",
    "\n",
    "finally:\n",
    "    print(\"코드 실행이 종료되었습니다\")"
   ]
  }
 ],
 "metadata": {
  "kernelspec": {
   "display_name": "Python 3",
   "language": "python",
   "name": "python3"
  },
  "language_info": {
   "codemirror_mode": {
    "name": "ipython",
    "version": 3
   },
   "file_extension": ".py",
   "mimetype": "text/x-python",
   "name": "python",
   "nbconvert_exporter": "python",
   "pygments_lexer": "ipython3",
   "version": "3.12.6"
  }
 },
 "nbformat": 4,
 "nbformat_minor": 5
}
