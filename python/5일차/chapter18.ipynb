{
 "cells": [
  {
   "cell_type": "markdown",
   "id": "a709cdab",
   "metadata": {},
   "source": [
    "#클래스 \n",
    "\n",
    "객체에 해당하는 것들\n",
    "-게임 캐릭터\n",
    "-집, 나무 자동차\n",
    "-네이버 홈페이지 버튼들"
   ]
  },
  {
   "cell_type": "code",
   "execution_count": 1,
   "id": "a16724e5",
   "metadata": {},
   "outputs": [
    {
     "ename": "SyntaxError",
     "evalue": "invalid syntax (1223982884.py, line 1)",
     "output_type": "error",
     "traceback": [
      "  \u001b[36mCell\u001b[39m\u001b[36m \u001b[39m\u001b[32mIn[1]\u001b[39m\u001b[32m, line 1\u001b[39m\n\u001b[31m    \u001b[39m\u001b[31mclass 클래스 이름 :\u001b[39m\n              ^\n\u001b[31mSyntaxError\u001b[39m\u001b[31m:\u001b[39m invalid syntax\n"
     ]
    }
   ],
   "source": [
    "class 클래스 이름 :\n",
    "    def 매서드(self):\n",
    "        코드"
   ]
  },
  {
   "cell_type": "code",
   "execution_count": null,
   "id": "d6556757",
   "metadata": {},
   "outputs": [
    {
     "name": "stdout",
     "output_type": "stream",
     "text": [
      "수강생 여러분\n"
     ]
    }
   ],
   "source": [
    "class Person:\n",
    "    def hello(self):\n",
    "        print(\"수강생 여러분\")\n",
    "\n",
    "호출 = Person()  #인스턴스\n",
    "호출.hello()  # index() count()\n"
   ]
  },
  {
   "cell_type": "code",
   "execution_count": null,
   "id": "5053ee8a",
   "metadata": {},
   "outputs": [
    {
     "name": "stdout",
     "output_type": "stream",
     "text": [
      "10\n",
      "[0, 1, 2, 3, 4, 5, 6, 7, 8, 9]\n"
     ]
    }
   ],
   "source": [
    "a = int(10)\n",
    "\n",
    "print(a)\n",
    "\n",
    "b=list(range(10))\n",
    "\n",
    "print(b)\n",
    "\n",
    "#인스턴스와 객체 무슨차이? 사실 같음     인스턴스 + 클래스 객체 자체를 언급할때는 객체"
   ]
  },
  {
   "cell_type": "code",
   "execution_count": 5,
   "id": "477bf4fb",
   "metadata": {},
   "outputs": [
    {
     "name": "stdout",
     "output_type": "stream",
     "text": [
      "안녕하세요\n"
     ]
    }
   ],
   "source": [
    "class Person:\n",
    "    def __init__(self):\n",
    "        self.hello = \"안녕하세요\"\n",
    "\n",
    "    def greeting(self):\n",
    "        print(self.hello)\n",
    "\n",
    "호출 = Person()\n",
    "호출.greeting()"
   ]
  },
  {
   "cell_type": "code",
   "execution_count": 6,
   "id": "e02cbcc3",
   "metadata": {},
   "outputs": [
    {
     "name": "stdout",
     "output_type": "stream",
     "text": [
      "['__abs__', '__add__', '__and__', '__bool__', '__ceil__', '__class__', '__delattr__', '__dir__', '__divmod__', '__doc__', '__eq__', '__float__', '__floor__', '__floordiv__', '__format__', '__ge__', '__getattribute__', '__getnewargs__', '__getstate__', '__gt__', '__hash__', '__index__', '__init__', '__init_subclass__', '__int__', '__invert__', '__le__', '__lshift__', '__lt__', '__mod__', '__mul__', '__ne__', '__neg__', '__new__', '__or__', '__pos__', '__pow__', '__radd__', '__rand__', '__rdivmod__', '__reduce__', '__reduce_ex__', '__repr__', '__rfloordiv__', '__rlshift__', '__rmod__', '__rmul__', '__ror__', '__round__', '__rpow__', '__rrshift__', '__rshift__', '__rsub__', '__rtruediv__', '__rxor__', '__setattr__', '__sizeof__', '__str__', '__sub__', '__subclasshook__', '__truediv__', '__trunc__', '__xor__', 'as_integer_ratio', 'bit_count', 'bit_length', 'conjugate', 'denominator', 'from_bytes', 'imag', 'is_integer', 'numerator', 'real', 'to_bytes']\n"
     ]
    }
   ],
   "source": [
    "print(dir(int))"
   ]
  },
  {
   "cell_type": "code",
   "execution_count": 12,
   "id": "47e689a2",
   "metadata": {},
   "outputs": [
    {
     "ename": "ValueError",
     "evalue": "Invalid format specifier '마리아' for object of type 'str'",
     "output_type": "error",
     "traceback": [
      "\u001b[31m---------------------------------------------------------------------------\u001b[39m",
      "\u001b[31mValueError\u001b[39m                                Traceback (most recent call last)",
      "\u001b[36mCell\u001b[39m\u001b[36m \u001b[39m\u001b[32mIn[12]\u001b[39m\u001b[32m, line 12\u001b[39m\n\u001b[32m      9\u001b[39m         \u001b[38;5;28mprint\u001b[39m(\u001b[33m'\u001b[39m\u001b[38;5;132;01m{0}\u001b[39;00m\u001b[33m저는 \u001b[39m\u001b[38;5;132;01m{1}\u001b[39;00m\u001b[33m입니다\u001b[39m\u001b[33m'\u001b[39m,\u001b[38;5;28mformat\u001b[39m(\u001b[38;5;28mself\u001b[39m.hello,\u001b[38;5;28mself\u001b[39m.name))\n\u001b[32m     11\u001b[39m maria = Person(\u001b[33m'\u001b[39m\u001b[33m마리아\u001b[39m\u001b[33m'\u001b[39m,\u001b[32m20\u001b[39m,\u001b[33m'\u001b[39m\u001b[33m서울시 서초구 반포동\u001b[39m\u001b[33m'\u001b[39m)\n\u001b[32m---> \u001b[39m\u001b[32m12\u001b[39m \u001b[43mmaria\u001b[49m\u001b[43m.\u001b[49m\u001b[43mgreeting\u001b[49m\u001b[43m(\u001b[49m\u001b[43m)\u001b[49m\n\u001b[32m     14\u001b[39m \u001b[38;5;28mprint\u001b[39m(\u001b[33m'\u001b[39m\u001b[33m이름:\u001b[39m\u001b[33m'\u001b[39m, maria.name)   \u001b[38;5;66;03m#마리아\u001b[39;00m\n\u001b[32m     15\u001b[39m \u001b[38;5;28mprint\u001b[39m(\u001b[33m'\u001b[39m\u001b[33m나이:\u001b[39m\u001b[33m'\u001b[39m, maria.age)    \u001b[38;5;66;03m#20\u001b[39;00m\n",
      "\u001b[36mCell\u001b[39m\u001b[36m \u001b[39m\u001b[32mIn[12]\u001b[39m\u001b[32m, line 9\u001b[39m, in \u001b[36mPerson.greeting\u001b[39m\u001b[34m(self)\u001b[39m\n\u001b[32m      8\u001b[39m \u001b[38;5;28;01mdef\u001b[39;00m\u001b[38;5;250m \u001b[39m\u001b[34mgreeting\u001b[39m(\u001b[38;5;28mself\u001b[39m):\n\u001b[32m----> \u001b[39m\u001b[32m9\u001b[39m     \u001b[38;5;28mprint\u001b[39m(\u001b[33m'\u001b[39m\u001b[38;5;132;01m{0}\u001b[39;00m\u001b[33m저는 \u001b[39m\u001b[38;5;132;01m{1}\u001b[39;00m\u001b[33m입니다\u001b[39m\u001b[33m'\u001b[39m,\u001b[38;5;28;43mformat\u001b[39;49m\u001b[43m(\u001b[49m\u001b[38;5;28;43mself\u001b[39;49m\u001b[43m.\u001b[49m\u001b[43mhello\u001b[49m\u001b[43m,\u001b[49m\u001b[38;5;28;43mself\u001b[39;49m\u001b[43m.\u001b[49m\u001b[43mname\u001b[49m\u001b[43m)\u001b[49m)\n",
      "\u001b[31mValueError\u001b[39m: Invalid format specifier '마리아' for object of type 'str'"
     ]
    }
   ],
   "source": [
    "class Person:\n",
    "    def __init__(self,name,age,address):\n",
    "        self.hello = '안녕하세요'\n",
    "        self.name = name\n",
    "        self.age = age\n",
    "        self.address = address\n",
    "\n",
    "    def greeting(self):\n",
    "        print('{0}저는 {1}입니다',format(self.hello,self.name))\n",
    "\n",
    "maria = Person('마리아',20,'서울시 서초구 반포동')\n",
    "maria.greeting()\n",
    "\n",
    "print('이름:', maria.name)   #마리아\n",
    "print('나이:', maria.age)    #20\n",
    "print('주소 :',maria.address)#서울시 서초구 반포동"
   ]
  },
  {
   "cell_type": "markdown",
   "id": "82970ee3",
   "metadata": {},
   "source": [
    "## 클래스의 상속"
   ]
  },
  {
   "cell_type": "code",
   "execution_count": 21,
   "id": "e1e70ac4",
   "metadata": {},
   "outputs": [
    {
     "name": "stdout",
     "output_type": "stream",
     "text": [
      "300 만큼 달릴 수 있습니다.\n",
      "10 스피드로 달리고 있습니다.\n"
     ]
    }
   ],
   "source": [
    "class Car(object):\n",
    "    maxspeed = 300\n",
    "    maxpeople = 5\n",
    "    def move(self, x):\n",
    "        print(\"스피드로 달리고 있습니다.\")\n",
    "    def stop(self):\n",
    "        print(\"멈췄습니다.\")\n",
    "\n",
    "class HybridCar(Car):\n",
    "    battery = 1000\n",
    "    batteryKM = 300\n",
    "\n",
    "class ElectricCar(HybridCar):\n",
    "    battery =1000\n",
    "    batteryKM = 300\n",
    "    def move(self, x):\n",
    "        print(self.batteryKM, '만큼 달릴 수 있습니다.')\n",
    "        print(x,'스피드로 달리고 있습니다.')\n",
    "\n",
    "\n",
    "k5 = HybridCar()\n",
    "k5.maxspeed\n",
    "\n",
    "electricCark5 = ElectricCar()\n",
    "electricCark5.maxspeed\n",
    "electricCark5.battery\n",
    "electricCark5.move(10)\n",
    "    \n",
    "\n",
    "#print(dir(k5))\n"
   ]
  },
  {
   "cell_type": "code",
   "execution_count": null,
   "id": "cea00775",
   "metadata": {},
   "outputs": [],
   "source": []
  }
 ],
 "metadata": {
  "kernelspec": {
   "display_name": "Python 3",
   "language": "python",
   "name": "python3"
  },
  "language_info": {
   "codemirror_mode": {
    "name": "ipython",
    "version": 3
   },
   "file_extension": ".py",
   "mimetype": "text/x-python",
   "name": "python",
   "nbconvert_exporter": "python",
   "pygments_lexer": "ipython3",
   "version": "3.12.6"
  }
 },
 "nbformat": 4,
 "nbformat_minor": 5
}
