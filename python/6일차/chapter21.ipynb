{
 "cells": [
  {
   "cell_type": "markdown",
   "id": "eb95f7e6",
   "metadata": {},
   "source": [
    "# 함수: 목적이 있는 코드의 집합\n",
    "\n",
    "함수의 구조\n",
    "def 함수이름():\n",
    "    코드"
   ]
  },
  {
   "cell_type": "code",
   "execution_count": 1,
   "id": "11526269",
   "metadata": {},
   "outputs": [
    {
     "name": "stdout",
     "output_type": "stream",
     "text": [
      "oz코딩스쿨\n",
      "oz코딩스쿨\n",
      "oz코딩스쿨\n",
      "oz코딩스쿨\n",
      "oz코딩스쿨\n"
     ]
    }
   ],
   "source": [
    "def oz():\n",
    "    for i in range(5):\n",
    "        print(\"oz코딩스쿨\")\n",
    "\n",
    "oz()"
   ]
  },
  {
   "cell_type": "markdown",
   "id": "49f55acf",
   "metadata": {},
   "source": [
    "함수를 실행하는것을 개발 언어로 호출이라 한다"
   ]
  },
  {
   "cell_type": "code",
   "execution_count": 3,
   "id": "0046e1ee",
   "metadata": {},
   "outputs": [
    {
     "name": "stdout",
     "output_type": "stream",
     "text": [
      "박명수의 어떤가요\n"
     ]
    }
   ],
   "source": [
    "print(\"박명수의 어떤가요\")"
   ]
  },
  {
   "cell_type": "code",
   "execution_count": null,
   "id": "010a3de9",
   "metadata": {},
   "outputs": [],
   "source": [
    "#print()만 입력해서 확인해보기\n",
    "print()"
   ]
  },
  {
   "cell_type": "markdown",
   "id": "5bed468a",
   "metadata": {},
   "source": [
    "함수의 구조\n",
    "    def 함수이름(매개변수, 매개변수):\n",
    "        코드"
   ]
  },
  {
   "cell_type": "code",
   "execution_count": 6,
   "id": "dbf59033",
   "metadata": {},
   "outputs": [
    {
     "name": "stdout",
     "output_type": "stream",
     "text": [
      "oz코딩스쿨\n",
      "oz코딩스쿨\n",
      "oz코딩스쿨\n",
      "oz코딩스쿨\n",
      "oz코딩스쿨\n"
     ]
    }
   ],
   "source": [
    "def oz(message, n):\n",
    "    for i in range(n):\n",
    "        print(message)\n",
    "        \n",
    "oz('oz코딩스쿨', 5)"
   ]
  },
  {
   "cell_type": "code",
   "execution_count": null,
   "id": "d1df6f18",
   "metadata": {},
   "outputs": [],
   "source": [
    "def oz(message, n):\n",
    "    for i in range(n):\n",
    "        print(message)\n",
    "        \n",
    "oz('oz코딩스쿨', 5)\n",
    "\n",
    "# def oz(오즈코딩스쿨, 5):\n",
    "#     for i in range(5):\n",
    "#         print(오즈코딩스쿨)\n",
    "        \n",
    "# oz('oz코딩스쿨', 5)"
   ]
  },
  {
   "cell_type": "markdown",
   "id": "caa01a08",
   "metadata": {},
   "source": [
    "함수의 기본구조 : def 함수이름(매개변수, 매개변수)\n",
    "\n",
    "함수의 호출의 의미와 방법:함수의 호출은 개발에서 함수의 실행을 뜻하며 함수이름(매개변수) 식으로 호출 가능하다\n",
    "\n",
    "매개변수란 함수가 받는 값에 이름을 붙인것\n",
    "\n",
    "\n",
    "식별자란 파이썬에서 함수,변수 등을 만들었을때 그 함수와 변수를 식별하기 위한 이름\n",
    "\n",
    "식별자는 함수안에서 어떤식으로 사용되는가 : def (함수이름=식별자)"
   ]
  }
 ],
 "metadata": {
  "kernelspec": {
   "display_name": "Python 3",
   "language": "python",
   "name": "python3"
  },
  "language_info": {
   "codemirror_mode": {
    "name": "ipython",
    "version": 3
   },
   "file_extension": ".py",
   "mimetype": "text/x-python",
   "name": "python",
   "nbconvert_exporter": "python",
   "pygments_lexer": "ipython3",
   "version": "3.12.6"
  }
 },
 "nbformat": 4,
 "nbformat_minor": 5
}
