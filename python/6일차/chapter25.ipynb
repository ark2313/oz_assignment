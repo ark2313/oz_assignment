{
 "cells": [
  {
   "cell_type": "code",
   "execution_count": 1,
   "id": "2fa7f949",
   "metadata": {},
   "outputs": [
    {
     "name": "stdout",
     "output_type": "stream",
     "text": [
      "파이썬\n",
      "재밌음\n"
     ]
    }
   ],
   "source": [
    "# 값 없이 리턴하는 ㄱ여우\n",
    "\n",
    "def oz_return():\n",
    "    print(\"파이썬\")\n",
    "    print(\"재밌음\")\n",
    "    return\n",
    "    print(\"구라치네\")\n",
    "\n",
    "oz_return()"
   ]
  },
  {
   "cell_type": "code",
   "execution_count": 2,
   "id": "f57ee742",
   "metadata": {},
   "outputs": [
    {
     "name": "stdout",
     "output_type": "stream",
     "text": [
      "파이썬 재미있다\n"
     ]
    }
   ],
   "source": [
    "#값과 함께 리턴하는 경우\n",
    "def oz_return():\n",
    "    return \"파이썬 재미있다\"\n",
    "\n",
    "result = oz_return ()\n",
    "print(result)"
   ]
  },
  {
   "cell_type": "code",
   "execution_count": 4,
   "id": "7b95e89d",
   "metadata": {},
   "outputs": [
    {
     "name": "stdout",
     "output_type": "stream",
     "text": [
      "None\n"
     ]
    }
   ],
   "source": [
    "def oz_return():\n",
    "    return \n",
    "\n",
    "result = oz_return ()\n",
    "print(result)"
   ]
  },
  {
   "cell_type": "code",
   "execution_count": 5,
   "id": "4b0dbe48",
   "metadata": {},
   "outputs": [
    {
     "data": {
      "text/plain": [
       "False"
      ]
     },
     "execution_count": 5,
     "metadata": {},
     "output_type": "execute_result"
    }
   ],
   "source": [
    "bool(None)\n"
   ]
  },
  {
   "cell_type": "code",
   "execution_count": 6,
   "id": "f9688c16",
   "metadata": {},
   "outputs": [
    {
     "name": "stdout",
     "output_type": "stream",
     "text": [
      "2\n"
     ]
    }
   ],
   "source": [
    "result = input(\"1+1은 ?\")\n",
    "print(result)"
   ]
  },
  {
   "cell_type": "markdown",
   "id": "0e9d738e",
   "metadata": {},
   "source": [
    "input return 이란 무엇인가\n"
   ]
  }
 ],
 "metadata": {
  "kernelspec": {
   "display_name": "Python 3",
   "language": "python",
   "name": "python3"
  },
  "language_info": {
   "codemirror_mode": {
    "name": "ipython",
    "version": 3
   },
   "file_extension": ".py",
   "mimetype": "text/x-python",
   "name": "python",
   "nbconvert_exporter": "python",
   "pygments_lexer": "ipython3",
   "version": "3.12.6"
  }
 },
 "nbformat": 4,
 "nbformat_minor": 5
}
