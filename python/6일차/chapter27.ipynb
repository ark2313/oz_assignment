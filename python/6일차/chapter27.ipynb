{
 "cells": [
  {
   "cell_type": "code",
   "execution_count": 4,
   "id": "f31854f7",
   "metadata": {},
   "outputs": [
    {
     "name": "stdout",
     "output_type": "stream",
     "text": [
      "4의 결과는 24입니다.\n"
     ]
    }
   ],
   "source": [
    "#반복문을 이용한 팩토리얼 구현 코드\n",
    "#곱하기 연산이 진행되기 때문에 output의 초기값은 1이다 더하기 연산이 진행되는 경우는 0으로 초기값 설정\n",
    "\n",
    "def oz_factorial(n):\n",
    "    output = 1\n",
    "    for i in range(1, n+1):\n",
    "        output *=  i\n",
    "    return output \n",
    "\n",
    "n = int(input(\"구하고자 하는 팩토리얼의 수를 입력해줴요\"))\n",
    "print(f'{n}의 결과는 {oz_factorial(n)}입니다.')"
   ]
  },
  {
   "cell_type": "markdown",
   "id": "bcb3d108",
   "metadata": {},
   "source": [
    "재귀함수로 팩토리얼을 구현하는 방식\n",
    "\n",
    "oz_factorial(n)=n*factorial(n-1)\n",
    "oz_factorial(0) = 1 \n",
    "\n",
    "5!\n",
    "oz_factorial(5) = 5 *oz_factorial(4)\n",
    "                =5*4*oz_factorial(3)\n",
    "                =5*4*3*oz_factorial(2)\n",
    "                =5*4*3*2*oz_factorial(1)\n",
    "                =5*4*3*2*1oz_factorial(0)\n",
    "                =5*4*3*2*1*1"
   ]
  },
  {
   "cell_type": "code",
   "execution_count": 5,
   "id": "334b7e0d",
   "metadata": {},
   "outputs": [
    {
     "name": "stdout",
     "output_type": "stream",
     "text": [
      "5의 결과는 120입니다.\n"
     ]
    }
   ],
   "source": [
    "#재귀함수를 이용한 팩토리얼 구현 코드\n",
    "\n",
    "def oz_factorial(n):\n",
    "    if n == 0:\n",
    "        return 1 \n",
    "    else:\n",
    "        return n * oz_factorial(n-1)\n",
    "    \n",
    "n = int(input(\"구하고자 하는 팩토리얼의 수를 입력해줴요\"))\n",
    "print(f'{n}의 결과는 {oz_factorial(n)}입니다.')"
   ]
  },
  {
   "cell_type": "markdown",
   "id": "a907772a",
   "metadata": {},
   "source": [
    "피보나치 수열 :  첫째 및 둘째 항이 1이며 그 뒤에 모든 항은 바로 두 항의 합인 수열\n",
    "\n",
    "규칙\n",
    "시장은 한쌍의 토끼\n",
    "두달이상 된 토끼는 번식을 할수있고, 번식이 가능한 달부터 매달 새끼 한마리 출산가능"
   ]
  },
  {
   "cell_type": "code",
   "execution_count": 10,
   "id": "54af946f",
   "metadata": {},
   "outputs": [
    {
     "name": "stdout",
     "output_type": "stream",
     "text": [
      "피보나치 수열8을 구하는 중입니다\n",
      "피보나치 수열6을 구하는 중입니다\n",
      "피보나치 수열4을 구하는 중입니다\n",
      "피보나치 수열2을 구하는 중입니다\n",
      "피보나치 수열 8을 구하기 위해 계산된 횟수는 4입니다\n"
     ]
    }
   ],
   "source": [
    "#피보나치 수열 함수 실행시 계산되는 횟수를 파악학기 위한\n",
    "#파이썬은 함수 내부에서 함수 밖에 있는 변수를 사용할 수 없다\n",
    "#그래서 global 키워드 함수를 이용해 함수 내부에서 함수 밖에있는 변수를 쓸수있도록 해줌\n",
    "\n",
    "count = 0\n",
    "def oz_fibo(n):\n",
    "    print(f\"피보나치 수열{n}을 구하는 중입니다\")\n",
    "    global count\n",
    "    count += 1\n",
    "\n",
    "    if n == 1:\n",
    "        return\n",
    "    if n == 2:\n",
    "        return 1\n",
    "    else:\n",
    "        return oz_factorial(n-1)+oz_fibo(n-2)\n",
    "\n",
    "n = int(input(\"구하고자하는 피보나치의 수열의 수 입력해줘\"))\n",
    "oz_fibo(n)\n",
    "print(f'피보나치 수열 {n}을 구하기 위해 계산된 횟수는 {count}입니다')"
   ]
  },
  {
   "cell_type": "markdown",
   "id": "56180ed2",
   "metadata": {},
   "source": [
    "메모리제이션:\n",
    "* 컴퓨터 프로그램이 동일한 계싼을 반복적으로 해야 할때, 이전에 계산한것을 메모리에 저장하여 중복적인 계산을 반복적으로 해야할때 계산한 값을 메모리에 저장하여 중복적인 계싼을 제거하여 건설적인 실행속도를 빠르게 해주는 트랙의 핵심기술\n",
    "\n",
    "코드 핵심 설명\n",
    "\n",
    "*초기 값으로 설정했던 첫번째와 두번째 결과값 memo 변수에 dict형 자료형을 넣어 저장한다\n",
    "*oz_fibo()함수 실행 시 memo 변수에 계산할 피보니치 수열의 결과값이 있는지 확인. 있다면 계산을 하지 않고도 이미 계산되어 저장된것이다\n",
    "\n",
    "*만일 결과값이 저장되어 있지 않은경우 계산을 합시다 "
   ]
  },
  {
   "cell_type": "code",
   "execution_count": 15,
   "id": "4d4aa26b",
   "metadata": {},
   "outputs": [
    {
     "name": "stdout",
     "output_type": "stream",
     "text": [
      "피보나치 수열10을 구하는 중입니다\n",
      "피보나치 수열9을 구하는 중입니다\n",
      "피보나치 수열8을 구하는 중입니다\n",
      "피보나치 수열7을 구하는 중입니다\n",
      "피보나치 수열6을 구하는 중입니다\n",
      "피보나치 수열5을 구하는 중입니다\n",
      "피보나치 수열4을 구하는 중입니다\n",
      "피보나치 수열3을 구하는 중입니다\n",
      "피보나치 수열2을 구하는 중입니다\n",
      "피보나치 수열1을 구하는 중입니다\n",
      "피보나치 수열2을 구하는 중입니다\n",
      "피보나치 수열3을 구하는 중입니다\n",
      "피보나치 수열4을 구하는 중입니다\n",
      "피보나치 수열5을 구하는 중입니다\n",
      "피보나치 수열6을 구하는 중입니다\n",
      "피보나치 수열7을 구하는 중입니다\n",
      "피보나치 수열8을 구하는 중입니다\n",
      "피보나치 수열 10을 구하기 위해 계산된 횟수는 17입니다\n"
     ]
    }
   ],
   "source": [
    "memo = {\n",
    "    1:1,\n",
    "    2:1,\n",
    "}\n",
    "\n",
    "count = 0\n",
    "def oz_fibo(n):\n",
    "    print(f\"피보나치 수열{n}을 구하는 중입니다\")\n",
    "    global count\n",
    "    count += 1\n",
    "\n",
    "    if n in memo:\n",
    "        return memo[n]\n",
    "    if n == 2:\n",
    "        return 1\n",
    "    else:\n",
    "        output = oz_fibo(n-1) + oz_fibo(n-2)\n",
    "        memo[n] = output\n",
    "        return output\n",
    "\n",
    "n = int(input(\"구하고자하는 피보나치의 수열의 수 입력해줘\"))\n",
    "oz_fibo(n)\n",
    "print(f'피보나치 수열 {n}을 구하기 위해 계산된 횟수는 {count}입니다')"
   ]
  },
  {
   "cell_type": "markdown",
   "id": "331be319",
   "metadata": {},
   "source": [
    "재귀함수에 대한 설명 장단점\n",
    "\n",
    "재귀함수 사용시 발생할수있는 문제와 해결법\n",
    "\n",
    "메모리제이션이란?\n",
    "\n"
   ]
  }
 ],
 "metadata": {
  "kernelspec": {
   "display_name": "Python 3",
   "language": "python",
   "name": "python3"
  },
  "language_info": {
   "codemirror_mode": {
    "name": "ipython",
    "version": 3
   },
   "file_extension": ".py",
   "mimetype": "text/x-python",
   "name": "python",
   "nbconvert_exporter": "python",
   "pygments_lexer": "ipython3",
   "version": "3.12.6"
  }
 },
 "nbformat": 4,
 "nbformat_minor": 5
}
