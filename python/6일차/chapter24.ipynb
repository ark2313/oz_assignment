{
 "cells": [
  {
   "cell_type": "code",
   "execution_count": 1,
   "id": "1f14f859",
   "metadata": {},
   "outputs": [
    {
     "ename": "TypeError",
     "evalue": "'str' object cannot be interpreted as an integer",
     "output_type": "error",
     "traceback": [
      "\u001b[31m---------------------------------------------------------------------------\u001b[39m",
      "\u001b[31mTypeError\u001b[39m                                 Traceback (most recent call last)",
      "\u001b[36mCell\u001b[39m\u001b[36m \u001b[39m\u001b[32mIn[1]\u001b[39m\u001b[32m, line 9\u001b[39m\n\u001b[32m      6\u001b[39m             \u001b[38;5;28mprint\u001b[39m(value)\n\u001b[32m      7\u001b[39m         \u001b[38;5;28mprint\u001b[39m()\n\u001b[32m----> \u001b[39m\u001b[32m9\u001b[39m \u001b[43moz\u001b[49m\u001b[43m(\u001b[49m\u001b[33;43m\"\u001b[39;49m\u001b[33;43m기본 매개변수 다음에\u001b[39;49m\u001b[33;43m\"\u001b[39;49m\u001b[43m,\u001b[49m\u001b[43m \u001b[49m\u001b[33;43m\"\u001b[39;49m\u001b[33;43m가변 매개변수를\u001b[39;49m\u001b[33;43m\"\u001b[39;49m\u001b[43m,\u001b[49m\u001b[43m \u001b[49m\u001b[33;43m\"\u001b[39;49m\u001b[33;43m넣을수있나\u001b[39;49m\u001b[33;43m\"\u001b[39;49m\u001b[43m)\u001b[49m\n",
      "\u001b[36mCell\u001b[39m\u001b[36m \u001b[39m\u001b[32mIn[1]\u001b[39m\u001b[32m, line 4\u001b[39m, in \u001b[36moz\u001b[39m\u001b[34m(n, *values)\u001b[39m\n\u001b[32m      3\u001b[39m \u001b[38;5;28;01mdef\u001b[39;00m\u001b[38;5;250m \u001b[39m\u001b[34moz\u001b[39m(n=\u001b[32m3\u001b[39m, *values):\n\u001b[32m----> \u001b[39m\u001b[32m4\u001b[39m     \u001b[38;5;28;01mfor\u001b[39;00m i \u001b[38;5;129;01min\u001b[39;00m \u001b[38;5;28;43mrange\u001b[39;49m\u001b[43m(\u001b[49m\u001b[43mn\u001b[49m\u001b[43m)\u001b[49m:\n\u001b[32m      5\u001b[39m         \u001b[38;5;28;01mfor\u001b[39;00m value \u001b[38;5;129;01min\u001b[39;00m values:\n\u001b[32m      6\u001b[39m             \u001b[38;5;28mprint\u001b[39m(value)\n",
      "\u001b[31mTypeError\u001b[39m: 'str' object cannot be interpreted as an integer"
     ]
    }
   ],
   "source": [
    "#(기본 매개변수, 가변 매개변수)\n",
    "\n",
    "def oz(n=3, *values):\n",
    "    for i in range(n):\n",
    "        for value in values:\n",
    "            print(value)\n",
    "        print()\n",
    "\n",
    "oz(\"기본 매개변수 다음에\", \"가변 매개변수를\", \"넣을수있나\")"
   ]
  },
  {
   "cell_type": "markdown",
   "id": "86a107d2",
   "metadata": {},
   "source": [
    "기본 매개변수가 가변 매개 변수보다 앞으로 오게되면 기본 매개변수의 의미가 사라진다"
   ]
  },
  {
   "cell_type": "code",
   "execution_count": 2,
   "id": "72395641",
   "metadata": {},
   "outputs": [
    {
     "name": "stdout",
     "output_type": "stream",
     "text": [
      "기본 매개변수 다음에\n",
      "가변 매개변수를\n",
      "넣을수있나\n",
      "10\n",
      "\n",
      "기본 매개변수 다음에\n",
      "가변 매개변수를\n",
      "넣을수있나\n",
      "10\n",
      "\n",
      "기본 매개변수 다음에\n",
      "가변 매개변수를\n",
      "넣을수있나\n",
      "10\n",
      "\n"
     ]
    }
   ],
   "source": [
    "#(가변 매개변수, 기본 매개변수)\n",
    "\n",
    "def oz(*values, n=3):\n",
    "    for i in range(n):\n",
    "        for value in values:\n",
    "            print(value)\n",
    "        print()\n",
    "\n",
    "oz(\"기본 매개변수 다음에\", \"가변 매개변수를\", \"넣을수있나\",10)"
   ]
  },
  {
   "cell_type": "markdown",
   "id": "66566eba",
   "metadata": {},
   "source": []
  },
  {
   "cell_type": "code",
   "execution_count": null,
   "id": "5069f381",
   "metadata": {},
   "outputs": [
    {
     "name": "stdout",
     "output_type": "stream",
     "text": [
      "안\n",
      "녕\n",
      "하\n",
      "세\n",
      "요\n"
     ]
    }
   ],
   "source": [
    "#end =\\\n",
    "\n",
    "list = [\"안\",\"녕\",\"하\",\"세\",\"요\"]\n",
    "\n",
    "for i in list:\n",
    "    print(i)"
   ]
  },
  {
   "cell_type": "code",
   "execution_count": 4,
   "id": "12e8b4cb",
   "metadata": {},
   "outputs": [
    {
     "name": "stdout",
     "output_type": "stream",
     "text": [
      "안녕하세요"
     ]
    }
   ],
   "source": [
    "#end =\\\n",
    "\n",
    "list = [\"안\",\"녕\",\"하\",\"세\",\"요\"]\n",
    "\n",
    "for i in list:\n",
    "    print(i,end=\"\")"
   ]
  },
  {
   "cell_type": "code",
   "execution_count": null,
   "id": "40d7709a",
   "metadata": {},
   "outputs": [
    {
     "name": "stdout",
     "output_type": "stream",
     "text": [
      "<function oz at 0x10c84a0c0>\n"
     ]
    }
   ],
   "source": [
    "#직육면체 부피를 구하는 코드 : 가로 = x, 세로 = y, 높이 = h\n",
    "\n",
    "def oz(x,y=20,h=10):\n",
    "    print(x*y*h)\n",
    "\n",
    "    #x식별자에 매개변수 10을 넣은 이유\n",
    "    oz(10)\n",
    "    #x식별자와 y=10이라는 키워드 매개변수를 이용한 경우\n",
    "    print(oz(10, y=10))\n",
    "\n",
    "     #모든 매개변수를 키워드 매개변수로 넣은 경우\n",
    "    oz(x=5,y=5,h=5)\n"
   ]
  },
  {
   "cell_type": "markdown",
   "id": "0d295ecf",
   "metadata": {},
   "source": [
    "키워드 매개변수를 사용하는 이유?\n",
    "키워드 매개변수를 사용하기위한 문법?"
   ]
  }
 ],
 "metadata": {
  "kernelspec": {
   "display_name": "Python 3",
   "language": "python",
   "name": "python3"
  },
  "language_info": {
   "codemirror_mode": {
    "name": "ipython",
    "version": 3
   },
   "file_extension": ".py",
   "mimetype": "text/x-python",
   "name": "python",
   "nbconvert_exporter": "python",
   "pygments_lexer": "ipython3",
   "version": "3.12.6"
  }
 },
 "nbformat": 4,
 "nbformat_minor": 5
}
