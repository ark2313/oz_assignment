{
 "cells": [
  {
   "cell_type": "markdown",
   "id": "673438bf",
   "metadata": {},
   "source": [
    "# 함수를 정의할때 사용하는 매개변수와 호출시 입력되는 매개변수의 개수는 동일해야한다\n",
    "\n",
    "# 선언과 호출에 사용된 매개변수는 2개\n",
    "def oz(message, n):\n",
    "    for i in range(n):\n",
    "        print(message)\n",
    "\n",
    "oz('OZ코딩스쿨', 5)\n",
    "\n",
    "    1. 매개변수를 적게 입력했을때\n",
    "    2. 매개변수를 많이 입력했을때"
   ]
  },
  {
   "cell_type": "code",
   "execution_count": 2,
   "id": "5b74f0fe",
   "metadata": {},
   "outputs": [
    {
     "ename": "TypeError",
     "evalue": "oz() missing 1 required positional argument: 'n'",
     "output_type": "error",
     "traceback": [
      "\u001b[31m---------------------------------------------------------------------------\u001b[39m",
      "\u001b[31mTypeError\u001b[39m                                 Traceback (most recent call last)",
      "\u001b[36mCell\u001b[39m\u001b[36m \u001b[39m\u001b[32mIn[2]\u001b[39m\u001b[32m, line 6\u001b[39m\n\u001b[32m      3\u001b[39m     \u001b[38;5;28;01mfor\u001b[39;00m i \u001b[38;5;129;01min\u001b[39;00m \u001b[38;5;28mrange\u001b[39m(n):\n\u001b[32m      4\u001b[39m         \u001b[38;5;28mprint\u001b[39m(message)\n\u001b[32m----> \u001b[39m\u001b[32m6\u001b[39m \u001b[43moz\u001b[49m\u001b[43m(\u001b[49m\u001b[33;43m'\u001b[39;49m\u001b[33;43m오즈코딩스쿨\u001b[39;49m\u001b[33;43m'\u001b[39;49m\u001b[43m)\u001b[49m\n",
      "\u001b[31mTypeError\u001b[39m: oz() missing 1 required positional argument: 'n'"
     ]
    }
   ],
   "source": [
    "#매개변수를 적게 입력한 경우\n",
    "def oz(message, n):\n",
    "    for i in range(n):\n",
    "        print(message)\n",
    "\n",
    "oz('오즈코딩스쿨')"
   ]
  },
  {
   "cell_type": "code",
   "execution_count": null,
   "id": "315e5376",
   "metadata": {},
   "outputs": [
    {
     "ename": "TypeError",
     "evalue": "oz() takes 2 positional arguments but 3 were given",
     "output_type": "error",
     "traceback": [
      "\u001b[31m---------------------------------------------------------------------------\u001b[39m",
      "\u001b[31mTypeError\u001b[39m                                 Traceback (most recent call last)",
      "\u001b[36mCell\u001b[39m\u001b[36m \u001b[39m\u001b[32mIn[3]\u001b[39m\u001b[32m, line 6\u001b[39m\n\u001b[32m      3\u001b[39m     \u001b[38;5;28;01mfor\u001b[39;00m i \u001b[38;5;129;01min\u001b[39;00m \u001b[38;5;28mrange\u001b[39m(n):\n\u001b[32m      4\u001b[39m         \u001b[38;5;28mprint\u001b[39m(message)\n\u001b[32m----> \u001b[39m\u001b[32m6\u001b[39m \u001b[43moz\u001b[49m\u001b[43m(\u001b[49m\u001b[33;43m'\u001b[39;49m\u001b[33;43m오즈코딩스쿨\u001b[39;49m\u001b[33;43m'\u001b[39;49m\u001b[43m,\u001b[49m\u001b[32;43m2\u001b[39;49m\u001b[43m,\u001b[49m\u001b[32;43m2\u001b[39;49m\u001b[43m)\u001b[49m\n",
      "\u001b[31mTypeError\u001b[39m: oz() takes 2 positional arguments but 3 were given"
     ]
    }
   ],
   "source": [
    "#매개변수를 많이 입력한 경우\n",
    "def oz(message, n):\n",
    "    for i in range(n):\n",
    "        print(message)\n",
    "\n",
    "oz('오즈코딩스쿨',2,2)"
   ]
  },
  {
   "cell_type": "code",
   "execution_count": 5,
   "id": "1683f475",
   "metadata": {},
   "outputs": [
    {
     "name": "stdout",
     "output_type": "stream",
     "text": [
      "어떻게 많이 넣을 수 있는 방법은 2 3 이렇게 맘대로\n"
     ]
    }
   ],
   "source": [
    "print(\"어떻게 많이 넣을 수 있는 방법은\", 2,3, '이렇게 맘대로')"
   ]
  },
  {
   "cell_type": "code",
   "execution_count": 7,
   "id": "75dfd075",
   "metadata": {},
   "outputs": [
    {
     "name": "stdout",
     "output_type": "stream",
     "text": [
      "값1\n",
      "값2\n",
      "가변매개변수\n",
      "쩐다\n",
      "\n",
      "값1\n",
      "값2\n",
      "가변매개변수\n",
      "쩐다\n",
      "\n",
      "값1\n",
      "값2\n",
      "가변매개변수\n",
      "쩐다\n",
      "\n"
     ]
    }
   ],
   "source": [
    "def oz(n, *values):\n",
    "    for i in range(n):\n",
    "        for value in values:\n",
    "            print(value)\n",
    "\n",
    "        print()\n",
    "\n",
    "oz(3,'값1','값2','가변매개변수','쩐다')"
   ]
  },
  {
   "cell_type": "markdown",
   "id": "419f51d4",
   "metadata": {},
   "source": [
    "가변 매개변수의 주의점\n",
    "\n",
    "가변 매개변수의 뒤에는 일반 매개변수가 올 수 없다\n",
    "가변 매개변수는 하나만 사용가능"
   ]
  },
  {
   "cell_type": "code",
   "execution_count": 9,
   "id": "82a59602",
   "metadata": {},
   "outputs": [
    {
     "ename": "TypeError",
     "evalue": "oz() missing 1 required keyword-only argument: 'n'",
     "output_type": "error",
     "traceback": [
      "\u001b[31m---------------------------------------------------------------------------\u001b[39m",
      "\u001b[31mTypeError\u001b[39m                                 Traceback (most recent call last)",
      "\u001b[36mCell\u001b[39m\u001b[36m \u001b[39m\u001b[32mIn[9]\u001b[39m\u001b[32m, line 8\u001b[39m\n\u001b[32m      4\u001b[39m             \u001b[38;5;28mprint\u001b[39m(value)\n\u001b[32m      6\u001b[39m         \u001b[38;5;28mprint\u001b[39m()\n\u001b[32m----> \u001b[39m\u001b[32m8\u001b[39m \u001b[43moz\u001b[49m\u001b[43m(\u001b[49m\u001b[33;43m'\u001b[39;49m\u001b[33;43m값1\u001b[39;49m\u001b[33;43m'\u001b[39;49m\u001b[43m,\u001b[49m\u001b[33;43m'\u001b[39;49m\u001b[33;43m값2\u001b[39;49m\u001b[33;43m'\u001b[39;49m\u001b[43m,\u001b[49m\u001b[33;43m'\u001b[39;49m\u001b[33;43m가변매개변수\u001b[39;49m\u001b[33;43m'\u001b[39;49m\u001b[43m,\u001b[49m\u001b[33;43m'\u001b[39;49m\u001b[33;43m쩐다\u001b[39;49m\u001b[33;43m'\u001b[39;49m\u001b[43m,\u001b[49m\u001b[32;43m3\u001b[39;49m\u001b[43m)\u001b[49m\n",
      "\u001b[31mTypeError\u001b[39m: oz() missing 1 required keyword-only argument: 'n'"
     ]
    }
   ],
   "source": [
    "def oz(*values, n ):\n",
    "    for i in range(n):\n",
    "        for value in values:\n",
    "            print(value)\n",
    "\n",
    "        print()\n",
    "\n",
    "oz('값1','값2','가변매개변수','쩐다',3)"
   ]
  },
  {
   "cell_type": "markdown",
   "id": "259a80a7",
   "metadata": {},
   "source": [
    "가변 매개변수를 사용하는 이유는? 필요한 함수에 들어가는 인자 갯수가 정해져있지 않을때 유동적인 변수할당이 가능하다\n",
    "\n",
    "가변 매개변수를 쓰기위한 문법은? 함수에세 매개변수를 넣는자리에는 일반 매개변수를 먼저 넣고 그 뒤에 들어오는 매개변수는 모두 가변 매개변수 취급한다\n",
    "\n",
    "가변 매개변수를 사용하기 위한 제한조건 무조건 일반 매개변수 뒤에 가변매개변수를 넣어야한다"
   ]
  }
 ],
 "metadata": {
  "kernelspec": {
   "display_name": "Python 3",
   "language": "python",
   "name": "python3"
  },
  "language_info": {
   "codemirror_mode": {
    "name": "ipython",
    "version": 3
   },
   "file_extension": ".py",
   "mimetype": "text/x-python",
   "name": "python",
   "nbconvert_exporter": "python",
   "pygments_lexer": "ipython3",
   "version": "3.12.6"
  }
 },
 "nbformat": 4,
 "nbformat_minor": 5
}
