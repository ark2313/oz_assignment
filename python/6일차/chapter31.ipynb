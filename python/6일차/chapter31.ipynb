{
 "cells": [
  {
   "cell_type": "markdown",
   "id": "95cbc6df",
   "metadata": {},
   "source": [
    "제너레이터는 이터레이트를 생성하는 객체\n",
    "(이터레이터: 순순서대로 다음 값을 리턴할 수 있는 객체로 자체적으로 내장하고 있는 next 메소드를 통해 다음 값을 가져올 수 있)"
   ]
  },
  {
   "cell_type": "code",
   "execution_count": 1,
   "id": "725f5a90",
   "metadata": {},
   "outputs": [
    {
     "name": "stdout",
     "output_type": "stream",
     "text": [
      "첫번째 출력\n",
      "두번째 출력\n",
      "<generator object test at 0x1063c9fc0>\n"
     ]
    }
   ],
   "source": [
    "def test():\n",
    "    print(\"제너레이터 실습 코드입니다.\")\n",
    "    yield \"test\"\n",
    "\n",
    "print(\"첫번째 출력\") \n",
    "test()\n",
    "\n",
    "print(\"두번째 출력\") \n",
    "test()\n",
    "\n",
    "\n",
    "print(test()) \n"
   ]
  },
  {
   "cell_type": "code",
   "execution_count": 4,
   "id": "cf4760d5",
   "metadata": {},
   "outputs": [
    {
     "name": "stdout",
     "output_type": "stream",
     "text": [
      "4번째 출력\n",
      "첫번째 출력\n",
      "1\n",
      "다섯번째 출력\n",
      "두번째 출력\n",
      "2\n",
      "여섯번째 출력\n",
      "세번째 출력\n"
     ]
    },
    {
     "ename": "StopIteration",
     "evalue": "",
     "output_type": "error",
     "traceback": [
      "\u001b[31m---------------------------------------------------------------------------\u001b[39m",
      "\u001b[31mStopIteration\u001b[39m                             Traceback (most recent call last)",
      "\u001b[36mCell\u001b[39m\u001b[36m \u001b[39m\u001b[32mIn[4]\u001b[39m\u001b[32m, line 19\u001b[39m\n\u001b[32m     16\u001b[39m \u001b[38;5;28mprint\u001b[39m(y)\n\u001b[32m     17\u001b[39m \u001b[38;5;28mprint\u001b[39m(\u001b[33m\"\u001b[39m\u001b[33m여섯번째 출력\u001b[39m\u001b[33m\"\u001b[39m)\n\u001b[32m---> \u001b[39m\u001b[32m19\u001b[39m z = \u001b[38;5;28;43mnext\u001b[39;49m\u001b[43m(\u001b[49m\u001b[43moutput\u001b[49m\u001b[43m)\u001b[49m\n\u001b[32m     20\u001b[39m \u001b[38;5;28mprint\u001b[39m(z)\n",
      "\u001b[31mStopIteration\u001b[39m: "
     ]
    }
   ],
   "source": [
    "def test():\n",
    "    print(\"첫번째 출력\")\n",
    "    yield 1\n",
    "    print(\"두번째 출력\")\n",
    "    yield 2 \n",
    "    print(\"세번째 출력\")\n",
    "\n",
    "output = test()\n",
    "print(\"4번째 출력\")\n",
    "\n",
    "x = next(output)\n",
    "print(x)\n",
    "print(\"다섯번째 출력\")\n",
    "\n",
    "y=next(output)\n",
    "print(y)\n",
    "print(\"여섯번째 출력\")\n",
    "\n",
    "z = next(output)\n",
    "print(z)"
   ]
  },
  {
   "cell_type": "markdown",
   "id": "62fd1236",
   "metadata": {},
   "source": [
    "이터레이터와 제너레이터 란?\n",
    "제너레이터 함수를 만드는 방법은?\n",
    "제너레이터 함수를 실행하는 방법은?"
   ]
  }
 ],
 "metadata": {
  "kernelspec": {
   "display_name": "Python 3",
   "language": "python",
   "name": "python3"
  },
  "language_info": {
   "codemirror_mode": {
    "name": "ipython",
    "version": 3
   },
   "file_extension": ".py",
   "mimetype": "text/x-python",
   "name": "python",
   "nbconvert_exporter": "python",
   "pygments_lexer": "ipython3",
   "version": "3.12.6"
  }
 },
 "nbformat": 4,
 "nbformat_minor": 5
}
