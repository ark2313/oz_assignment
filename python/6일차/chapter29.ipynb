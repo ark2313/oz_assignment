{
 "cells": [
  {
   "cell_type": "markdown",
   "id": "fa9b7536",
   "metadata": {},
   "source": [
    "튜블은 list와 비슷한 시퀀스 자료형, 단 list와 차이는 요소를 바꿀수 없다\n",
    "튜플을 생설할때는 소괄호를 () 사용한다\n",
    "변수명 = (데이터1,데이터2,데이터3)"
   ]
  },
  {
   "cell_type": "code",
   "execution_count": 2,
   "id": "74b92f82",
   "metadata": {},
   "outputs": [
    {
     "name": "stdout",
     "output_type": "stream",
     "text": [
      "1\n",
      "2\n",
      "3\n"
     ]
    }
   ],
   "source": [
    "oz_tuple = (1,2,3)\n",
    "\n",
    "print(oz_tuple[0])\n",
    "print(oz_tuple[1])\n",
    "print(oz_tuple[2])"
   ]
  },
  {
   "cell_type": "code",
   "execution_count": 3,
   "id": "f744843f",
   "metadata": {},
   "outputs": [
    {
     "ename": "TypeError",
     "evalue": "'tuple' object does not support item assignment",
     "output_type": "error",
     "traceback": [
      "\u001b[31m---------------------------------------------------------------------------\u001b[39m",
      "\u001b[31mTypeError\u001b[39m                                 Traceback (most recent call last)",
      "\u001b[36mCell\u001b[39m\u001b[36m \u001b[39m\u001b[32mIn[3]\u001b[39m\u001b[32m, line 3\u001b[39m\n\u001b[32m      1\u001b[39m \u001b[38;5;66;03m#튜플에 데이터 변경이 불가하기에 아래 코드 실행시 오류 발생\u001b[39;00m\n\u001b[32m----> \u001b[39m\u001b[32m3\u001b[39m \u001b[43moz_tuple\u001b[49m\u001b[43m[\u001b[49m\u001b[32;43m2\u001b[39;49m\u001b[43m]\u001b[49m=\u001b[32m5\u001b[39m\n",
      "\u001b[31mTypeError\u001b[39m: 'tuple' object does not support item assignment"
     ]
    }
   ],
   "source": [
    "#튜플에 데이터 변경이 불가하기에 아래 코드 실행시 오류 발생\n",
    "\n",
    "oz_tuple[2]=5"
   ]
  },
  {
   "cell_type": "code",
   "execution_count": 4,
   "id": "ab9bb0b0",
   "metadata": {},
   "outputs": [
    {
     "name": "stdout",
     "output_type": "stream",
     "text": [
      "oz_tuple (1, 2, 3, 4)\n",
      "oz_tuple type:  <class 'tuple'>\n"
     ]
    }
   ],
   "source": [
    "oz_tuple = 1,2,3,4\n",
    "\n",
    "print(\"oz_tuple\",oz_tuple)\n",
    "print(\"oz_tuple type: \", type(oz_tuple))"
   ]
  },
  {
   "cell_type": "code",
   "execution_count": null,
   "id": "e0174eee",
   "metadata": {},
   "outputs": [],
   "source": [
    "x,y = 1,2\n",
    "\n",
    "print(\"x: \",x)\n",
    "print(\"y: \", y )\n",
    "\n",
    "print()\n",
    "\n",
    "x,y = y,x\n",
    "print(\"x: \", x)\n",
    "print(\"y: \", y)\n"
   ]
  },
  {
   "cell_type": "markdown",
   "id": "d3613ec6",
   "metadata": {},
   "source": [
    "튜플을 이요하면 여러개의 값을 리턴가능"
   ]
  },
  {
   "cell_type": "code",
   "execution_count": 5,
   "id": "61fb9ca5",
   "metadata": {},
   "outputs": [
    {
     "name": "stdout",
     "output_type": "stream",
     "text": [
      "x:  1\n",
      "y:  2\n"
     ]
    }
   ],
   "source": [
    "def oz_tuple():\n",
    "    return(1,2)\n",
    "\n",
    "x,y = oz_tuple()\n",
    "\n",
    "print(\"x: \", x)\n",
    "print(\"y: \", y)\n",
    "\n"
   ]
  },
  {
   "cell_type": "code",
   "execution_count": 6,
   "id": "cd0e9892",
   "metadata": {},
   "outputs": [
    {
     "name": "stdout",
     "output_type": "stream",
     "text": [
      "0 1\n",
      "1 2\n",
      "2 3\n",
      "3 4\n"
     ]
    }
   ],
   "source": [
    "#튜플을 이용한 내부함수들\n",
    "#enumerate()의 (i, fruit이나 괄호를 생략한 상태입니다.\n",
    "\n",
    "for i, fruit in enumerate([1,2,3,4]):\n",
    "    print(i, fruit)\n",
    "    "
   ]
  },
  {
   "cell_type": "code",
   "execution_count": 8,
   "id": "58efc63c",
   "metadata": {},
   "outputs": [
    {
     "name": "stdout",
     "output_type": "stream",
     "text": [
      "몫:  2\n",
      "나머지: 1\n"
     ]
    }
   ],
   "source": [
    "#divmode() 사용 시 튜플 형태로 몫과 나머지 반환\n",
    "a, b=7,3\n",
    "x, y = divmod(a,b)\n",
    "print(\"몫: \",  x)\n",
    "print(\"나머지:\",y)\n"
   ]
  },
  {
   "cell_type": "markdown",
   "id": "af519c39",
   "metadata": {},
   "source": [
    "튜플의 특징에 대해 설명\n",
    "\n",
    "괄호없이 여러개의 값을 할당하는 코드 작성법은?"
   ]
  },
  {
   "cell_type": "code",
   "execution_count": null,
   "id": "41412c75",
   "metadata": {},
   "outputs": [],
   "source": []
  }
 ],
 "metadata": {
  "kernelspec": {
   "display_name": "Python 3",
   "language": "python",
   "name": "python3"
  },
  "language_info": {
   "codemirror_mode": {
    "name": "ipython",
    "version": 3
   },
   "file_extension": ".py",
   "mimetype": "text/x-python",
   "name": "python",
   "nbconvert_exporter": "python",
   "pygments_lexer": "ipython3",
   "version": "3.12.6"
  }
 },
 "nbformat": 4,
 "nbformat_minor": 5
}
