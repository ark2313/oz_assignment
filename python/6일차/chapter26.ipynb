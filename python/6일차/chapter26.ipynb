{
 "cells": [
  {
   "cell_type": "markdown",
   "id": "38fbce11",
   "metadata": {},
   "source": [
    "return "
   ]
  },
  {
   "cell_type": "code",
   "execution_count": 1,
   "id": "63f3d984",
   "metadata": {},
   "outputs": [
    {
     "name": "stdout",
     "output_type": "stream",
     "text": [
      "1  3  \n",
      "1  7  13  19  25  31  37  43  49  \n",
      "10  20  30  40  50  60  70  80  90  \n"
     ]
    }
   ],
   "source": [
    "def oz(start , end , multiple ):\n",
    "    for i in range(start,end, multiple):\n",
    "        print(i,\" \", end=\"\")\n",
    "    print()\n",
    "oz(start=1, end=5, multiple=2)\n",
    "oz(start=1, end=50, multiple=6)\n",
    "oz(start=10, end=100, multiple=10)"
   ]
  },
  {
   "cell_type": "code",
   "execution_count": 2,
   "id": "95c89a41",
   "metadata": {},
   "outputs": [
    {
     "name": "stdout",
     "output_type": "stream",
     "text": [
      "1  3  5  7  9  11  13  15  17  19  21  23  25  27  29  31  33  35  37  39  41  43  45  47  49  \n",
      "1  7  13  \n",
      "10  20  30  40  50  60  70  80  90  \n"
     ]
    }
   ],
   "source": [
    "def oz(start=1 , end=14 , multiple=2 ):\n",
    "    for i in range(start,end, multiple):\n",
    "        print(i,\" \", end=\"\")\n",
    "    print()\n",
    "oz( end=50 )\n",
    "oz(multiple=6)\n",
    "oz(start=10, end=100, multiple=10)"
   ]
  },
  {
   "cell_type": "code",
   "execution_count": null,
   "id": "6ea4e539",
   "metadata": {},
   "outputs": [],
   "source": []
  }
 ],
 "metadata": {
  "kernelspec": {
   "display_name": "Python 3",
   "language": "python",
   "name": "python3"
  },
  "language_info": {
   "codemirror_mode": {
    "name": "ipython",
    "version": 3
   },
   "file_extension": ".py",
   "mimetype": "text/x-python",
   "name": "python",
   "nbconvert_exporter": "python",
   "pygments_lexer": "ipython3",
   "version": "3.12.6"
  }
 },
 "nbformat": 4,
 "nbformat_minor": 5
}
