{
 "cells": [
  {
   "cell_type": "markdown",
   "id": "5d48ea51",
   "metadata": {},
   "source": [
    "print()함수 필요 매개변수\n",
    "\n",
    "기본 매개변수는 매개변수를 입력하지 않으면 함수 정의시 설정해 놓은 기본값으로 대체된다\n",
    "기본 매개변수 사용시에도 제약이 있다\n",
    "\n",
    "* 기본 매개변수 뒤에는 일반 매개변수가 올수없다"
   ]
  },
  {
   "cell_type": "code",
   "execution_count": 1,
   "id": "88fbb717",
   "metadata": {},
   "outputs": [
    {
     "name": "stdout",
     "output_type": "stream",
     "text": [
      "일반 매개변수 다음에 기본 매개변수 배치\n",
      "일반 매개변수 다음에 기본 매개변수 배치\n"
     ]
    }
   ],
   "source": [
    "def oz(value, n=2):\n",
    "    for i in range(n):\n",
    "            print(value)\n",
    "\n",
    "oz(\"일반 매개변수 다음에 기본 매개변수 배치\")"
   ]
  },
  {
   "cell_type": "code",
   "execution_count": 2,
   "id": "65a7bb7a",
   "metadata": {},
   "outputs": [
    {
     "name": "stdout",
     "output_type": "stream",
     "text": [
      "일반 매개변수 다음에 기본 매개변수 배치\n",
      "일반 매개변수 다음에 기본 매개변수 배치\n",
      "일반 매개변수 다음에 기본 매개변수 배치\n",
      "일반 매개변수 다음에 기본 매개변수 배치\n",
      "일반 매개변수 다음에 기본 매개변수 배치\n",
      "일반 매개변수 다음에 기본 매개변수 배치\n",
      "일반 매개변수 다음에 기본 매개변수 배치\n",
      "일반 매개변수 다음에 기본 매개변수 배치\n",
      "일반 매개변수 다음에 기본 매개변수 배치\n",
      "일반 매개변수 다음에 기본 매개변수 배치\n"
     ]
    }
   ],
   "source": [
    "def oz(value, n=2):\n",
    "    for i in range(n):\n",
    "            print(value)\n",
    "\n",
    "oz(\"일반 매개변수 다음에 기본 매개변수 배치\", n=10)"
   ]
  },
  {
   "cell_type": "code",
   "execution_count": 3,
   "id": "73f501d5",
   "metadata": {},
   "outputs": [
    {
     "ename": "SyntaxError",
     "evalue": "parameter without a default follows parameter with a default (3597971783.py, line 1)",
     "output_type": "error",
     "traceback": [
      "  \u001b[36mCell\u001b[39m\u001b[36m \u001b[39m\u001b[32mIn[3]\u001b[39m\u001b[32m, line 1\u001b[39m\n\u001b[31m    \u001b[39m\u001b[31mdef oz(n=2, value):\u001b[39m\n                ^\n\u001b[31mSyntaxError\u001b[39m\u001b[31m:\u001b[39m parameter without a default follows parameter with a default\n"
     ]
    }
   ],
   "source": [
    "def oz(n=2, value):\n",
    "    for i in range(n):\n",
    "            print(value)\n",
    "\n",
    "oz(\"일반 매개변수 다음에 기본 매개변수 배치\")"
   ]
  },
  {
   "cell_type": "markdown",
   "id": "769866f9",
   "metadata": {},
   "source": [
    "기본 매개변수의 역할은?  함수 호출시 매개변수 값이 포함이 되어있지 않을때 알아서 들어갈 기본값을 정해준다\n",
    "\n",
    "기본 매개변수를 사용하기위한 문법은? def [함수이름=식별자] (default=\"기본 매개변수\")\n",
    "\n",
    "print(f\"{default} 테스트\")\n",
    "\n",
    "함수이름=식별자()\n",
    "\n",
    "기본 매개변수의 사용시 제약 조건은? 기본 매개변수는 항상 뒤쪽으로 가야 오류가 발생하지 않는다"
   ]
  },
  {
   "cell_type": "code",
   "execution_count": 13,
   "id": "d4760401",
   "metadata": {},
   "outputs": [
    {
     "name": "stdout",
     "output_type": "stream",
     "text": [
      "기본 매개변수 테스트\n"
     ]
    }
   ],
   "source": [
    "def 함수이름(default=\"기본 매개변수\"):\n",
    "    print(f\"{default} 테스트\")\n",
    "\n",
    "함수이름()"
   ]
  },
  {
   "cell_type": "code",
   "execution_count": null,
   "id": "d71a5ed3",
   "metadata": {},
   "outputs": [],
   "source": []
  }
 ],
 "metadata": {
  "kernelspec": {
   "display_name": "Python 3",
   "language": "python",
   "name": "python3"
  },
  "language_info": {
   "codemirror_mode": {
    "name": "ipython",
    "version": 3
   },
   "file_extension": ".py",
   "mimetype": "text/x-python",
   "name": "python",
   "nbconvert_exporter": "python",
   "pygments_lexer": "ipython3",
   "version": "3.12.6"
  }
 },
 "nbformat": 4,
 "nbformat_minor": 5
}
