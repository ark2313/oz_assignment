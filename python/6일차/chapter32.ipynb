{
 "cells": [
  {
   "cell_type": "markdown",
   "id": "9250c8da",
   "metadata": {},
   "source": [
    "동적 프로그래밍 언어인 파이썬은 인터프리터가 코드를 실행하면서 타입을 추론한다\n",
    "그리고 파이썬은 변수 타입이 고정되어있지 않아 개발자가 원하면 언제든지 수정가능\n"
   ]
  },
  {
   "cell_type": "code",
   "execution_count": 2,
   "id": "3445069d",
   "metadata": {},
   "outputs": [
    {
     "name": "stdout",
     "output_type": "stream",
     "text": [
      "<class 'int'>\n",
      "<class 'str'>\n"
     ]
    }
   ],
   "source": [
    "num = 10\n",
    "print(type(num))\n",
    "\n",
    "num = \"10\"\n",
    "print(type(num))"
   ]
  },
  {
   "cell_type": "code",
   "execution_count": 3,
   "id": "b90df4a4",
   "metadata": {},
   "outputs": [
    {
     "data": {
      "text/plain": [
       "1000"
      ]
     },
     "execution_count": 3,
     "metadata": {},
     "output_type": "execute_result"
    }
   ],
   "source": [
    "#직육면체의 부피를 구하는 함수\n",
    "def oz(x, y, h):\n",
    "    #tyoe(int, int, int)\n",
    "    return x * y* h\n",
    "\n",
    "oz(10,10,10)"
   ]
  },
  {
   "cell_type": "code",
   "execution_count": 4,
   "id": "fd60b30e",
   "metadata": {},
   "outputs": [
    {
     "data": {
      "text/plain": [
       "1000"
      ]
     },
     "execution_count": 4,
     "metadata": {},
     "output_type": "execute_result"
    }
   ],
   "source": [
    "#직육면체의 부피를 구하는 함수\n",
    "def oz(x:int,y:int,h:int)-> int:\n",
    "    return x*y*h\n",
    "\n",
    "oz(10,10,10)"
   ]
  },
  {
   "cell_type": "code",
   "execution_count": 6,
   "id": "77040c7b",
   "metadata": {},
   "outputs": [
    {
     "name": "stdout",
     "output_type": "stream",
     "text": [
      "hunt\n"
     ]
    }
   ],
   "source": [
    "#3.9버전과 3.9미만 버전의 타입 어노테이션 표현 방식의 차이가 있다\n",
    "#현재 코드는 3.9d이상 버전의 방식으로 작성\n",
    "#변수 타입 어노테이션 사용법\n",
    "my_dog : str = \"hunt\"\n",
    "my_dog_age : int = 7\n",
    "\n",
    "dogs : list[str] = [\"닥스훈트\",\"시바견\",\"웰시코기\",\"이탈리안그레이하운드\"]\n",
    "\n",
    "dogs: dict[str, int] = {\n",
    "\n",
    "    \"닥스훈트\" : 7,\n",
    "    \"시바견\" : 5,\n",
    "    \"웰시코기\" : 6,\n",
    "    \"이탈리안그레이하운드\" : 3\n",
    "\n",
    "}\n",
    "\n",
    "print(my_dog)"
   ]
  },
  {
   "cell_type": "markdown",
   "id": "c430b063",
   "metadata": {},
   "source": [
    "함수에 타입 헌팅을 적용할때는 인자 타입과 반환 타입 두곳에 추가할수있다\n",
    "인자에 타입 이노테이션을 추가할 때는 변수와 동일한 문법을 사용하며, 반환값에 대한 타입을 추가할때는 화살표를 사용"
   ]
  },
  {
   "cell_type": "code",
   "execution_count": 7,
   "id": "3d2d9d86",
   "metadata": {},
   "outputs": [],
   "source": [
    "def hunt(name : str) -> str:\n",
    "    return name[0]\n",
    "\n",
    "def hunt_info(name : str, age : int = 7) -> str:\n",
    "    return name + str(age)\n",
    "\n",
    "def hunt_happy_time(name : str) -> None:\n",
    "    print(\"간식줄게\" + name)\n",
    "\n",
    "def hunt_bow(message:str, times:int = 10) -> list[str]:\n",
    "    return [message] * times"
   ]
  },
  {
   "cell_type": "markdown",
   "id": "08a5a0cd",
   "metadata": {},
   "source": [
    "타입 헌팅 프로세스는 팀원간의 합의도 필요하며 합의 이후에도 많은 대화가 필요해서 무조건 도입한다고 좋을건 없다\n"
   ]
  }
 ],
 "metadata": {
  "kernelspec": {
   "display_name": "Python 3",
   "language": "python",
   "name": "python3"
  },
  "language_info": {
   "codemirror_mode": {
    "name": "ipython",
    "version": 3
   },
   "file_extension": ".py",
   "mimetype": "text/x-python",
   "name": "python",
   "nbconvert_exporter": "python",
   "pygments_lexer": "ipython3",
   "version": "3.12.6"
  }
 },
 "nbformat": 4,
 "nbformat_minor": 5
}
