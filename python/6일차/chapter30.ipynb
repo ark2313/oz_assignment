{
 "cells": [
  {
   "cell_type": "markdown",
   "id": "4eeb46ca",
   "metadata": {},
   "source": [
    "함수자체를 매개변수로 사용하기 쉽도록 하는 기능이 람다\n"
   ]
  },
  {
   "cell_type": "code",
   "execution_count": 2,
   "id": "b9611c32",
   "metadata": {},
   "outputs": [
    {
     "name": "stdout",
     "output_type": "stream",
     "text": [
      "파이썬 이건 또 무슨 개념이야?\n",
      "파이썬 이건 또 무슨 개념이야?\n",
      "파이썬 이건 또 무슨 개념이야?\n",
      "파이썬 이건 또 무슨 개념이야?\n",
      "파이썬 이건 또 무슨 개념이야?\n"
     ]
    }
   ],
   "source": [
    "def oz_call(function):\n",
    "    for i in range(5):\n",
    "        function()\n",
    "\n",
    "def talk():\n",
    "    print(\"파이썬 이건 또 무슨 개념이야?\")\n",
    "\n",
    "oz_call(talk)"
   ]
  },
  {
   "cell_type": "markdown",
   "id": "afbc01da",
   "metadata": {},
   "source": [
    "map():리스트의 요소를 함수에 넣고 리턴된 값으로 새로운 리스트를 구성\n",
    "filter():리스트의 요소를 함수에 넣고 리턴된 값이 Tru인 값 만ㅇ르 새로운 리스트로 구성해 줌\n"
   ]
  },
  {
   "cell_type": "code",
   "execution_count": 4,
   "id": "ea1c4426",
   "metadata": {},
   "outputs": [
    {
     "name": "stdout",
     "output_type": "stream",
     "text": [
      "map 결과 <map object at 0x1058f8610>\n",
      "map 결과의 list 행변환 [1, 4, 9, 16, 25, 36, 49, 64, 81, 100]\n"
     ]
    }
   ],
   "source": [
    "#자기 자신을 곱한 결과를 새로운 list를 만들어주는 map() 함수 코드\n",
    "def square(i):\n",
    "    return i * i\n",
    "\n",
    "number_list = [1,2,3,4,5,6,7,8,9,10]\n",
    "\n",
    "result = map(square, number_list)\n",
    "\n",
    "\n",
    "print(\"map 결과\", result)\n",
    "print(\"map 결과의 list 행변환\", list(result))"
   ]
  },
  {
   "cell_type": "code",
   "execution_count": 5,
   "id": "b38d2104",
   "metadata": {},
   "outputs": [
    {
     "name": "stdout",
     "output_type": "stream",
     "text": [
      "map 결과 <filter object at 0x1058faa70>\n",
      "map 결과의 list 행변환 [1, 2, 3, 4]\n"
     ]
    }
   ],
   "source": [
    "#조건에 맞는 값만을 이용해 새로운 list를 만들어주는 filter()함수 코드\n",
    "\n",
    "def square(i):\n",
    "    return i < 5\n",
    "\n",
    "number_list = [1,2,3,4,5,6,7,8,9,10]\n",
    "\n",
    "result = filter(square, number_list)\n",
    "\n",
    "\n",
    "print(\"map 결과\", result)\n",
    "print(\"map 결과의 list 행변환\", list(result))"
   ]
  },
  {
   "cell_type": "code",
   "execution_count": 6,
   "id": "7c8bffa6",
   "metadata": {},
   "outputs": [
    {
     "name": "stdout",
     "output_type": "stream",
     "text": [
      "map 결과 <map object at 0x1058fbaf0>\n",
      "map 결과의 list 행변환 [1, 4, 9, 16, 25, 36, 49, 64, 81, 100]\n"
     ]
    }
   ],
   "source": [
    "square = lambda i : i * i\n",
    "\n",
    "number_list = [1,2,3,4,5,6,7,8,9,10]\n",
    "\n",
    "result = map(square, number_list)\n",
    "\n",
    "print(\"map 결과\", result)\n",
    "print(\"map 결과의 list 행변환\", list(result))\n"
   ]
  },
  {
   "cell_type": "code",
   "execution_count": 7,
   "id": "7ec957da",
   "metadata": {},
   "outputs": [
    {
     "name": "stdout",
     "output_type": "stream",
     "text": [
      "map 결과 <filter object at 0x1058fbeb0>\n",
      "map 결과의 list 행변환 [1, 2, 3, 4, 5, 6, 7, 8, 9, 10]\n"
     ]
    }
   ],
   "source": [
    "under = lambda i : i < 5\n",
    "\n",
    "number_list = [1,2,3,4,5,6,7,8,9,10]\n",
    "\n",
    "result = filter(square, number_list)\n",
    "\n",
    "\n",
    "print(\"map 결과\", result)\n",
    "print(\"map 결과의 list 행변환\", list(result))"
   ]
  },
  {
   "cell_type": "code",
   "execution_count": 8,
   "id": "65ea121b",
   "metadata": {},
   "outputs": [
    {
     "name": "stdout",
     "output_type": "stream",
     "text": [
      "map 결과 <map object at 0x105c917b0>\n",
      "map 결과의 list 행변환 [1, 4, 9, 16, 25, 36, 49, 64, 81, 100]\n"
     ]
    }
   ],
   "source": [
    "number_list = [1,2,3,4,5,6,7,8,9,10]\n",
    "\n",
    "result = map(lambda i : i*i, number_list)\n",
    "\n",
    "print(\"map 결과\", result)\n",
    "print(\"map 결과의 list 행변환\", list(result))\n"
   ]
  },
  {
   "cell_type": "code",
   "execution_count": 10,
   "id": "2a5b6cfe",
   "metadata": {},
   "outputs": [
    {
     "name": "stdout",
     "output_type": "stream",
     "text": [
      "map 결과 <filter object at 0x105c917e0>\n",
      "map 결과의 list 행변환 [1, 2, 3, 4]\n"
     ]
    }
   ],
   "source": [
    "number_list = [1,2,3,4,5,6,7,8,9,10]\n",
    "\n",
    "result = filter(lambda i : i<5, number_list)\n",
    "\n",
    "print(\"map 결과\", result)\n",
    "print(\"map 결과의 list 행변환\", list(result))"
   ]
  },
  {
   "cell_type": "markdown",
   "id": "f0520cbd",
   "metadata": {},
   "source": [
    "map(),filter() 함수의 기능에 대해 설명\n",
    "lambda를 사용하는 이유\n",
    "lambda를 이용해 함수를 만드는 방법?"
   ]
  }
 ],
 "metadata": {
  "kernelspec": {
   "display_name": "Python 3",
   "language": "python",
   "name": "python3"
  },
  "language_info": {
   "codemirror_mode": {
    "name": "ipython",
    "version": 3
   },
   "file_extension": ".py",
   "mimetype": "text/x-python",
   "name": "python",
   "nbconvert_exporter": "python",
   "pygments_lexer": "ipython3",
   "version": "3.12.6"
  }
 },
 "nbformat": 4,
 "nbformat_minor": 5
}
