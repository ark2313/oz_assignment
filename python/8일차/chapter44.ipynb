{
 "cells": [
  {
   "cell_type": "markdown",
   "id": "45dfdb48",
   "metadata": {},
   "source": [
    "인스턴스\n",
    "\n",
    "인스턴스는 클래스에서 생성된 객체"
   ]
  },
  {
   "cell_type": "code",
   "execution_count": null,
   "id": "0c623a8f",
   "metadata": {},
   "outputs": [],
   "source": [
    "# 학생 정보를 저장하는 클래스 정의\n",
    "class Student:\n",
    "    def __init__(self):\n",
    "        pass\n",
    "\n",
    "# Student 클래스의 인스턴스를 생성\n",
    "student = Student()\n",
    "\n",
    "# student 객체가 Student 클래스의 인스턴스인지 확인하고 결과를 출력\n",
    "print(\"isinstance(student, Student):\", isinstance(student, Student))\n",
    "\n",
    "# 출력\n",
    "isinstance(student, Student): True"
   ]
  },
  {
   "cell_type": "code",
   "execution_count": null,
   "id": "1109c0db",
   "metadata": {},
   "outputs": [],
   "source": [
    "# Python 수업을 정의하는 클래스\n",
    "class Python:\n",
    "    def python(self):\n",
    "        print(\"파이썬을 수강중입니다.\")  # Python 수업을 수강 중임을 출력\n",
    "\n",
    "# Java 수업을 정의하는 클래스\n",
    "class Java:\n",
    "    def java(self):\n",
    "        print(\"자바를 수강중입니다.\")  # Java 수업을 수강 중임을 출력\n",
    "\n",
    "# 다양한 프로그래밍 과목의 인스턴스를 리스트로 생성\n",
    "programming_subjects = [Python(), Python(), Python(), Java(), Python()]\n",
    "\n",
    "# 각 프로그래밍 과목 인스턴스를 순회하며 해당 수업을 출력\n",
    "for subject in programming_subjects:\n",
    "    if isinstance(subject, Python):\n",
    "        subject.python()  # subject가 Python 클래스의 인스턴스인 경우, python 메서드 호출\n",
    "    elif isinstance(subject, Java):\n",
    "        subject.java()  # subject가 Java 클래스의 인스턴스인 경우, java 메서드 호출\n",
    "        \n",
    "# 출력\n",
    "파이썬을 수강중입니다.\n",
    "파이썬을 수강중입니다.\n",
    "파이썬을 수강중입니다.\n",
    "자바를 수강중입니다.\n",
    "파이썬을 수강중입니다."
   ]
  },
  {
   "cell_type": "code",
   "execution_count": null,
   "id": "f4c64d4c",
   "metadata": {},
   "outputs": [],
   "source": [
    "# __str__ 사용\n",
    "# 학생 정보를 저장하는 클래스 정의\n",
    "class CreateOzStudents:\n",
    "    def __init__(self, name, python, database, django, AWS):\n",
    "        self.name = name  # 학생 이름\n",
    "        self.python = python  # 파이썬 점수\n",
    "        self.database = database  # 데이터베이스 점수\n",
    "        self.Django = django  # 장고 점수\n",
    "        self.AWS = AWS  # AWS 점수\n",
    "\n",
    "    # 학생의 총점을 계산하는 메소드\n",
    "    def get_sum(self):\n",
    "        return self.python + self.database + self.Django + self.AWS\n",
    "\n",
    "    # 학생의 평균 점수를 계산하는 메소드\n",
    "    def get_average(self):\n",
    "        return self.get_sum() / 4\n",
    "\n",
    "    # 학생 정보를 문자열로 반환하는 메소드\n",
    "    def __str__(self):\n",
    "        return f'{self.name}\\t{self.get_sum()}\\t{self.get_average()}'\n",
    "\n",
    "# 학생들의 정보 리스트 생성\n",
    "oz_students = [\n",
    "    CreateOzStudents(\"백현우\", 4, 3, 3, 2),\n",
    "    CreateOzStudents(\"홍해인\", 4, 5, 2, 4),\n",
    "    CreateOzStudents(\"윤은성\", 3, 4, 4, 1),\n",
    "    CreateOzStudents(\"홍수철\", 2, 3, 1, 5)\n",
    "]\n",
    "\n",
    "# 학생들의 이름, 총점, 평균을 출력\n",
    "print(\"이름\", \"총점\", \"평균\", sep=\"\\t\")\n",
    "for student in oz_students:\n",
    "    print(str(student))  # 각 학생 객체의 문자열 표현을 출력\n",
    "\n",
    "# 출력\n",
    "이름    총점    평균\n",
    "백현우  12     3.0\n",
    "홍해인  15     3.75\n",
    "윤은성  12     3.0\n",
    "홍수철  11     2.75"
   ]
  }
 ],
 "metadata": {
  "kernelspec": {
   "display_name": "Python 3",
   "language": "python",
   "name": "python3"
  },
  "language_info": {
   "name": "python",
   "version": "3.12.6"
  }
 },
 "nbformat": 4,
 "nbformat_minor": 5
}
