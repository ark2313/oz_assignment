{
 "cells": [
  {
   "cell_type": "markdown",
   "id": "913500f4",
   "metadata": {},
   "source": [
    "클래스 변수"
   ]
  },
  {
   "cell_type": "code",
   "execution_count": null,
   "id": "45bd6414",
   "metadata": {},
   "outputs": [],
   "source": [
    "# 클래스 변수 만들기\n",
    "class 클래스 이름:\n",
    "\t클래스 변수 = 값\n",
    "\t\n",
    "# 클래스 변수에 접근하기\n",
    "클래스 이름.변수 이름"
   ]
  },
  {
   "cell_type": "code",
   "execution_count": null,
   "id": "5a8dbdb3",
   "metadata": {},
   "outputs": [],
   "source": [
    "# 클래스 변수 \n",
    "# 학생 정보를 저장하는 클래스 정의\n",
    "class CreateOzStudents:\n",
    "\n",
    "    count = 0  # 클래스 변수 정의, 모든 인스턴스가 공유하는 변수\n",
    "\n",
    "    def __init__(self, name, python, database, django, AWS):\n",
    "        self.name = name  # 학생 이름\n",
    "        self.python = python  # 파이썬 점수\n",
    "        self.database = database  # 데이터베이스 점수\n",
    "        self.Django = django  # 장고 점수\n",
    "        self.AWS = AWS  # AWS 점수\n",
    "\n",
    "        CreateOzStudents.count += 1  # 인스턴스가 생성될 때마다 클래스 변수 count 증가\n",
    "        print(f'{CreateOzStudents.count}번째 수강생의 정보가 추가되었습니다.')  # 현재 인스턴스가 몇 번째인지 출력\n",
    "\n",
    "# 학생들의 정보 리스트 생성\n",
    "oz_students = [\n",
    "    CreateOzStudents(\"백현우\", 4, 3, 3, 2),\n",
    "    CreateOzStudents(\"홍해인\", 4, 5, 2, 4),\n",
    "    CreateOzStudents(\"윤은성\", 3, 4, 4, 1),\n",
    "    CreateOzStudents(\"홍수철\", 2, 3, 1, 5)\n",
    "]\n",
    "\n",
    "# 현재까지 입력된 총 수강생 수 출력\n",
    "print(f'현재 데이터가 입력된 총 수강생은 {CreateOzStudents.count}명 입니다.')\n",
    "\n",
    "# 출력\n",
    "1번째 수강생의 정보가 추가되었습니다.\n",
    "2번째 수강생의 정보가 추가되었습니다.\n",
    "3번째 수강생의 정보가 추가되었습니다.\n",
    "4번째 수강생의 정보가 추가되었습니다.\n",
    "현재 데이터가 입력된 총 수강생은 4명 입니다."
   ]
  },
  {
   "cell_type": "markdown",
   "id": "151d64ac",
   "metadata": {},
   "source": [
    "클래드 메서드 "
   ]
  },
  {
   "cell_type": "code",
   "execution_count": null,
   "id": "cf0972a9",
   "metadata": {},
   "outputs": [],
   "source": [
    "class 클래스 이름:\n",
    "\t@classmethod\n",
    "\tdef 클래스 함수명(cls, 매개변수):\n",
    "\t\tpass\n",
    "\n",
    "\n",
    "# 클래스 함수를 작성한 코드\n",
    "# 학생 정보를 저장하는 클래스 정의\n",
    "class CreateOzStudents:\n",
    "    \n",
    "    student = []  # 클래스 변수, 모든 인스턴스가 공유하는 학생 리스트\n",
    "\n",
    "    @classmethod\n",
    "    def print(cls):\n",
    "        # 클래스 메서드, 모든 학생 정보를 출력\n",
    "        print(\"수강생 데이터베이스 정보\")\n",
    "        print(\"이름\\t총점\\t평균\")\n",
    "        for student in cls.student:\n",
    "            print(str(student))\n",
    "    \n",
    "    def __init__(self, name, python, database, django, AWS):\n",
    "        # 인스턴스 초기화 메서드, 각 학생의 정보를 설정\n",
    "        self.name = name  # 학생 이름\n",
    "        self.python = python  # 파이썬 점수\n",
    "        self.database = database  # 데이터베이스 점수\n",
    "        self.Django = django  # 장고 점수\n",
    "        self.AWS = AWS  # AWS 점수\n",
    "\n",
    "        # 새로운 학생이 추가될 때마다 student 리스트에 추가\n",
    "        CreateOzStudents.student.append(self)\n",
    "\n",
    "    # 학생의 총점을 계산하는 메소드\n",
    "    def get_sum(self):\n",
    "        return self.python + self.database + self.Django + self.AWS\n",
    "\n",
    "    # 학생의 평균 점수를 계산하는 메소드\n",
    "    def get_average(self):\n",
    "        return self.get_sum() / 4\n",
    "\n",
    "    # 학생 정보를 문자열로 반환하는 메소드\n",
    "    def __str__(self):\n",
    "        return f'{self.name}\\t{self.get_sum()}\\t{self.get_average()}'\n",
    "\n",
    "# 학생들의 정보 리스트 생성\n",
    "CreateOzStudents(\"백현우\", 4, 3, 3, 2)\n",
    "CreateOzStudents(\"홍해인\", 4, 5, 2, 4)\n",
    "CreateOzStudents(\"윤은성\", 3, 4, 4, 1)\n",
    "CreateOzStudents(\"홍수철\", 2, 3, 1, 5)\n",
    "\n",
    "# 클래스 메서드를 사용하여 모든 학생 정보 출력\n",
    "CreateOzStudents.print()"
   ]
  }
 ],
 "metadata": {
  "kernelspec": {
   "display_name": "Python 3",
   "language": "python",
   "name": "python3"
  },
  "language_info": {
   "name": "python",
   "version": "3.12.6"
  }
 },
 "nbformat": 4,
 "nbformat_minor": 5
}
