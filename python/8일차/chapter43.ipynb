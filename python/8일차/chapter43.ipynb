{
 "cells": [
  {
   "cell_type": "markdown",
   "id": "d35b3d0f",
   "metadata": {},
   "source": [
    "생성자함수"
   ]
  },
  {
   "cell_type": "code",
   "execution_count": null,
   "id": "fbd08d5b",
   "metadata": {},
   "outputs": [],
   "source": [
    "# 클래스를 선언합니다.\n",
    "class CreateOzStudent:\n",
    "\tpass\n",
    "\t\n",
    "student = CreateOzStudent()\n",
    "\n",
    "oz_students = [\n",
    "\tCreateOzStudent(\"백현우\", 4, 3, 3, 2),\n",
    "\tCreateOzStudent(\"홍해인\", 4, 5, 2, 4),\n",
    "\tCreateOzStudent(\"윤은성\", 3, 4, 4, 1),\n",
    "\tCreateOzStudent(\"홍수철\", 2, 3, 1, 5)\n",
    "]"
   ]
  },
  {
   "cell_type": "code",
   "execution_count": null,
   "id": "ed260952",
   "metadata": {},
   "outputs": [],
   "source": [
    "class MyClass:\n",
    "    def __init__(self, value):\n",
    "        self.value = value  # self를 사용하여 인스턴스 변수에 접근\n",
    "\n",
    "    def print_value(self):\n",
    "        print(self.value)  # self를 사용하여 인스턴스 변수에 접근\n",
    "\n",
    "obj = MyClass(10)  # MyClass의 인스턴스 생성\n",
    "obj.print_value()  # 메소드 호출, 출력: 10"
   ]
  },
  {
   "cell_type": "code",
   "execution_count": null,
   "id": "d4bc6142",
   "metadata": {},
   "outputs": [],
   "source": [
    "import os\n",
    "\n",
    "os.listdir()\n",
    "\n",
    "# os는 파이썬의 표준 라이브러리 모듈이고, \n",
    "# listdir()은 os 모듈의 메소드입니다. \n",
    "# os.listdir()은 현재 디렉토리의 파일과 폴더 목록을 반환합니다."
   ]
  },
  {
   "cell_type": "code",
   "execution_count": null,
   "id": "12f0e995",
   "metadata": {},
   "outputs": [],
   "source": [
    "# 학생 정보를 저장하는 클래스 정의\n",
    "class CreateOzStudents:\n",
    "    def __init__(self, name, python, database, django, AWS):\n",
    "        self.name = name  # 학생 이름\n",
    "        self.python = python  # 파이썬 점수\n",
    "        self.database = database  # 데이터베이스 점수\n",
    "        self.Django = django  # 장고 점수\n",
    "        self.AWS = AWS  # AWS 점수\n",
    "\n",
    "# 학생들의 정보 리스트 생성\n",
    "oz_students = [\n",
    "    CreateOzStudents(\"백현우\", 4, 3, 3, 2),\n",
    "    CreateOzStudents(\"홍해인\", 4, 5, 2, 4),\n",
    "    CreateOzStudents(\"윤은성\", 3, 4, 4, 1),\n",
    "    CreateOzStudents(\"홍수철\", 2, 3, 1, 5)\n",
    "]\n",
    "\n",
    "# oz_students 인스턴스 속성에 접근하는 방법\n",
    "print(oz_students[0].name)    # 첫 번째 학생 이름 출력\n",
    "print(oz_students[0].python)  # 첫 번째 학생의 파이썬 점수 출력\n",
    "print(oz_students[0].database)# 첫 번째 학생의 데이터베이스 점수 출력\n",
    "print(oz_students[0].Django)  # 첫 번째 학생의 장고 점수 출력\n",
    "print(oz_students[0].AWS)     # 첫 번째 학생의 AWS 점수 출력\n",
    "\n",
    "# 출력\n",
    "백현우\n",
    "4\n",
    "3\n",
    "3\n",
    "2"
   ]
  },
  {
   "cell_type": "code",
   "execution_count": null,
   "id": "d864c1bc",
   "metadata": {},
   "outputs": [],
   "source": [
    "# 학생 정보를 저장하는 클래스 정의\n",
    "class CreateOzStudents:\n",
    "    def __init__(self, name, python, database, django, AWS):\n",
    "        self.name = name  # 학생 이름\n",
    "        self.python = python  # 파이썬 점수\n",
    "        self.database = database  # 데이터베이스 점수\n",
    "        self.Django = django  # 장고 점수\n",
    "        self.AWS = AWS  # AWS 점수\n",
    "\n",
    "    # 학생의 총점을 계산하는 메소드\n",
    "    def get_sum(self):\n",
    "        return self.python + self.database + self.Django + self.AWS\n",
    "\n",
    "    # 학생의 평균 점수를 계산하는 메소드\n",
    "    def get_average(self):\n",
    "        return self.get_sum() / 4\n",
    "\n",
    "    # 학생 정보를 문자열로 반환하는 메소드\n",
    "    def to_string(self):\n",
    "        return f'{self.name}\\t{self.get_sum()}\\t{self.get_average()}'\n",
    "\n",
    "# 학생들의 정보 리스트 생성\n",
    "oz_students = [\n",
    "    CreateOzStudents(\"백현우\", 4, 3, 3, 2),\n",
    "    CreateOzStudents(\"홍해인\", 4, 5, 2, 4),\n",
    "    CreateOzStudents(\"윤은성\", 3, 4, 4, 1),\n",
    "    CreateOzStudents(\"홍수철\", 2, 3, 1, 5)\n",
    "]\n",
    "\n",
    "# 학생들의 이름, 총점, 평균을 출력\n",
    "print(\"이름\", \"총점\", \"평균\", sep=\"\\t\")\n",
    "for student in oz_students:\n",
    "    print(student.to_string())\n",
    "    \n",
    "# 출력\n",
    "이름    총점    평균\n",
    "백현우  12     3.0\n",
    "홍해인  15     3.75\n",
    "윤은성  12     3.0\n",
    "홍수철  11     2.75"
   ]
  }
 ],
 "metadata": {
  "kernelspec": {
   "display_name": "Python 3",
   "language": "python",
   "name": "python3"
  },
  "language_info": {
   "name": "python",
   "version": "3.12.6"
  }
 },
 "nbformat": 4,
 "nbformat_minor": 5
}
