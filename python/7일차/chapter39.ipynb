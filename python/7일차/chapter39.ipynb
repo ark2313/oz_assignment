{
 "cells": [
  {
   "cell_type": "markdown",
   "id": "a8d410aa",
   "metadata": {},
   "source": [
    "데코레이터\n",
    "    @으로 시작하는 구문\n",
    "    데코레이터는 만드는 방법에 따라 함수 데코레이터와 클래스 데코레이터로 나뉨"
   ]
  },
  {
   "cell_type": "markdown",
   "id": "9f032716",
   "metadata": {},
   "source": [
    "함수데코레이터\n",
    "\n",
    "함수에서 사용되는 데코레이터는 함수 앞뒤에 붙일 내용이나 반복할 내용이 있을때"
   ]
  },
  {
   "cell_type": "code",
   "execution_count": 2,
   "id": "c7aeefd8",
   "metadata": {},
   "outputs": [
    {
     "name": "stdout",
     "output_type": "stream",
     "text": [
      "파이썬 진짜 재미있다\n"
     ]
    }
   ],
   "source": [
    "def oz():\n",
    "    print(\"파이썬 진짜 재미있다\")\n",
    "\n",
    "oz()"
   ]
  },
  {
   "cell_type": "code",
   "execution_count": 4,
   "id": "f36b8a22",
   "metadata": {},
   "outputs": [
    {
     "name": "stdout",
     "output_type": "stream",
     "text": [
      "허언증이 재발했다\n",
      "파이썬 진짜 재미있다\n",
      "격리 되었습니다.\n"
     ]
    }
   ],
   "source": [
    "def test(function):\n",
    "    def wrapper():\n",
    "        print(\"허언증이 재발했다\")\n",
    "        function()\n",
    "        print(\"격리 되었습니다.\")\n",
    "    return wrapper\n",
    "\n",
    "@test\n",
    "def oz():\n",
    "    print(\"파이썬 진짜 재미있다\")\n",
    "\n",
    "oz()"
   ]
  }
 ],
 "metadata": {
  "kernelspec": {
   "display_name": "Python 3",
   "language": "python",
   "name": "python3"
  },
  "language_info": {
   "codemirror_mode": {
    "name": "ipython",
    "version": 3
   },
   "file_extension": ".py",
   "mimetype": "text/x-python",
   "name": "python",
   "nbconvert_exporter": "python",
   "pygments_lexer": "ipython3",
   "version": "3.12.6"
  }
 },
 "nbformat": 4,
 "nbformat_minor": 5
}
