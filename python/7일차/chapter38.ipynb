{
 "cells": [
  {
   "cell_type": "markdown",
   "id": "553fef2b",
   "metadata": {},
   "source": [
    "외부모듈"
   ]
  },
  {
   "cell_type": "code",
   "execution_count": 5,
   "id": "3becc788",
   "metadata": {},
   "outputs": [
    {
     "ename": "ModuleNotFoundError",
     "evalue": "No module named 'bs4'",
     "output_type": "error",
     "traceback": [
      "\u001b[31m---------------------------------------------------------------------------\u001b[39m",
      "\u001b[31mModuleNotFoundError\u001b[39m                       Traceback (most recent call last)",
      "\u001b[36mCell\u001b[39m\u001b[36m \u001b[39m\u001b[32mIn[5]\u001b[39m\u001b[32m, line 2\u001b[39m\n\u001b[32m      1\u001b[39m \u001b[38;5;28;01mfrom\u001b[39;00m\u001b[38;5;250m \u001b[39m\u001b[34;01murllib\u001b[39;00m\u001b[38;5;250m \u001b[39m\u001b[38;5;28;01mimport\u001b[39;00m request\n\u001b[32m----> \u001b[39m\u001b[32m2\u001b[39m \u001b[38;5;28;01mfrom\u001b[39;00m\u001b[38;5;250m \u001b[39m\u001b[34;01mbs4\u001b[39;00m\u001b[38;5;250m \u001b[39m\u001b[38;5;28;01mimport\u001b[39;00m BeautifulSoup\n\u001b[32m      4\u001b[39m target = request.urlopen(\u001b[33m\"\u001b[39m\u001b[33mhttp://www.kma.go.kr/repositary/xml/fct/mon/img/fct_mon1rss_108_20250424.xml\u001b[39m\u001b[33m\"\u001b[39m)\n\u001b[32m      6\u001b[39m soup = BeautifulSoup(target, \u001b[33m\"\u001b[39m\u001b[33mhtml.parser\u001b[39m\u001b[33m\"\u001b[39m)\n",
      "\u001b[31mModuleNotFoundError\u001b[39m: No module named 'bs4'"
     ]
    }
   ],
   "source": [
    "from urllib import request\n",
    "from bs4 import BeautifulSoup\n",
    "\n",
    "target = request.urlopen(\"http://www.kma.go.kr/repositary/xml/fct/mon/img/fct_mon1rss_108_20250424.xml\")\n",
    "\n",
    "soup = BeautifulSoup(target, \"html.parser\")\n",
    "\n",
    "for location in soup.select(\"location\"):\n",
    "    print(\"도시:\", location.select_one(\"city\").string)\n",
    "    print(\"날씨:\", location.select_one(\"wf\").string)\n",
    "    print(\"최저기온:\", location.select_one(\"tmn\").string)\n",
    "    print(\"최고기온:\", location.select_one(\"tmx\").string)\n",
    "    print()\n"
   ]
  }
 ],
 "metadata": {
  "kernelspec": {
   "display_name": "Python 3",
   "language": "python",
   "name": "python3"
  },
  "language_info": {
   "codemirror_mode": {
    "name": "ipython",
    "version": 3
   },
   "file_extension": ".py",
   "mimetype": "text/x-python",
   "name": "python",
   "nbconvert_exporter": "python",
   "pygments_lexer": "ipython3",
   "version": "3.12.6"
  }
 },
 "nbformat": 4,
 "nbformat_minor": 5
}
