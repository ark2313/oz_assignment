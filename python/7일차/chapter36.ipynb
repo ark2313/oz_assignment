{
 "cells": [
  {
   "cell_type": "markdown",
   "id": "5d4f3466",
   "metadata": {},
   "source": [
    "raise 구문\n",
    "    예외를 강제로 발생시키는 기능, 우리가 의도하지 않게 작동하는 상황을 방지하기 위해 사용\n",
    "\n",
    "사용 방법 : raise 뒤에 예외 이름을 입력\n",
    "\n",
    "raise 예외 객체"
   ]
  },
  {
   "cell_type": "code",
   "execution_count": 2,
   "id": "6a021427",
   "metadata": {},
   "outputs": [
    {
     "ename": "NotImplementedError",
     "evalue": "",
     "output_type": "error",
     "traceback": [
      "\u001b[31m---------------------------------------------------------------------------\u001b[39m",
      "\u001b[31mNotImplementedError\u001b[39m                       Traceback (most recent call last)",
      "\u001b[36mCell\u001b[39m\u001b[36m \u001b[39m\u001b[32mIn[2]\u001b[39m\u001b[32m, line 9\u001b[39m\n\u001b[32m      6\u001b[39m     \u001b[38;5;28;01mraise\u001b[39;00m \u001b[38;5;167;01mNotImplementedError\u001b[39;00m \u001b[38;5;66;03m#아직 미구현 상태다\u001b[39;00m\n\u001b[32m      8\u001b[39m \u001b[38;5;28;01melse\u001b[39;00m:\n\u001b[32m----> \u001b[39m\u001b[32m9\u001b[39m     \u001b[38;5;28;01mraise\u001b[39;00m \u001b[38;5;167;01mNotImplementedError\u001b[39;00m\n",
      "\u001b[31mNotImplementedError\u001b[39m: "
     ]
    }
   ],
   "source": [
    "number = input(\"숫자를 입력해주세요\")\n",
    "\n",
    "number = int(number)\n",
    "\n",
    "if number > 8 :\n",
    "    raise NotImplementedError #아직 미구현 상태다\n",
    "    \n",
    "else:\n",
    "    raise NotImplementedError"
   ]
  },
  {
   "cell_type": "code",
   "execution_count": null,
   "id": "6433ac23",
   "metadata": {},
   "outputs": [],
   "source": []
  },
  {
   "cell_type": "markdown",
   "id": "ba295684",
   "metadata": {},
   "source": []
  }
 ],
 "metadata": {
  "kernelspec": {
   "display_name": "Python 3",
   "language": "python",
   "name": "python3"
  },
  "language_info": {
   "codemirror_mode": {
    "name": "ipython",
    "version": 3
   },
   "file_extension": ".py",
   "mimetype": "text/x-python",
   "name": "python",
   "nbconvert_exporter": "python",
   "pygments_lexer": "ipython3",
   "version": "3.12.6"
  }
 },
 "nbformat": 4,
 "nbformat_minor": 5
}
