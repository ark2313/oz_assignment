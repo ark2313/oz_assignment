{
 "cells": [
  {
   "cell_type": "markdown",
   "id": "d92d54c3",
   "metadata": {},
   "source": [
    " 표준 모듈\n",
    "\n",
    "모듈 : 여러 변수와 함수를 가지고 있는 집합체\n",
    "\n",
    "파이썬에 기본적으로 내장되어 있는 모듈을 표준 모듈이라고 합니다."
   ]
  },
  {
   "cell_type": "markdown",
   "id": "97e45193",
   "metadata": {},
   "source": [
    "묘듈의 사용 방법\n",
    "\n",
    "import ‘모듈명’을 사용하여 모듈을 불러와 사용할 수 있습니다."
   ]
  },
  {
   "cell_type": "code",
   "execution_count": null,
   "id": "f9c7ca9a",
   "metadata": {},
   "outputs": [],
   "source": [
    "# math 모듈 : 수학과 관련된 기능을 가집니다.\n",
    "\n",
    "# math 모듈 내 함수\n",
    "- sin(x) : 사인 값을 구합니다.\n",
    "- cos(x) : 코사인 값을 구합니다.\n",
    "- tan(x) : 탄젠트 값을 구함\n",
    "- ceil(x) : 올림\n",
    "- floor(x) : 내림"
   ]
  },
  {
   "cell_type": "code",
   "execution_count": null,
   "id": "c9929147",
   "metadata": {},
   "outputs": [],
   "source": [
    "import math  # math 모듈을 임포트합니다.\n",
    "\n",
    "print(math.sin(5))  # 5 라디안의 사인 값을 출력합니다.\n",
    "print(math.cos(5))  # 5 라디안의 코사인 값을 출력합니다.\n",
    "print(math.ceil(3.6))  # 3.6 이상의 가장 작은 정수를 출력합니다.\n",
    "print(math.floor(4.1))  # 4.1 이하의 가장 큰 정수를 출력합니다.\n",
    "\n",
    "#출력\n",
    "-0.9589242746631385\n",
    "0.28366218546322625\n",
    "4\n",
    "4"
   ]
  },
  {
   "cell_type": "markdown",
   "id": "eb42e932",
   "metadata": {},
   "source": [
    "from 구문\n",
    "\n",
    "모듈 안의 수 많은 함수 중 우리가 원하는 함수만을 가져와서 사용하면 문법적으로 굉장히 편해집니다."
   ]
  },
  {
   "cell_type": "code",
   "execution_count": null,
   "id": "8a78c443",
   "metadata": {},
   "outputs": [],
   "source": [
    "# 구조\n",
    "from 모듈 이름 import 가져오고 싶은 변수 또는 함수\n",
    "\n",
    "# 예시\n",
    "from math import sin\n",
    "\n",
    "# math 모듈을 전체 임포트합니다.\n",
    "import math\n",
    "# math 모듈의 sin 함수를 사용하여 5 라디안의 사인 값을 계산합니다.\n",
    "result1 = math.sin(5)\n",
    "print(result1)\n",
    "\n",
    "# math 모듈에서 sin 함수만을 임포트합니다.\n",
    "from math import sin\n",
    "# 임포트된 sin 함수를 사용하여 5 라디안의 사인 값을 계산합니다.\n",
    "result2 = sin(5)\n",
    "print(result2)"
   ]
  },
  {
   "cell_type": "markdown",
   "id": "e4734145",
   "metadata": {},
   "source": [
    "as 구문\n",
    "\n",
    "모듈을 가져오다 보면 이름의 충돌이 발생하거나 너무 길어 짧게 줄여서 사용하고 싶은 경우가 있습니다.\n",
    "\n",
    "이럴 때 모듈의 식별자를 만들어 사용할 수 있는 문법이 as구문입니다."
   ]
  },
  {
   "cell_type": "code",
   "execution_count": null,
   "id": "f0b4f46b",
   "metadata": {},
   "outputs": [],
   "source": [
    "# math 모듈을 'm'이라는 별칭으로 임포트합니다.\n",
    "import math as m\n",
    "\n",
    "# 'm' 별칭을 사용하여 math 모듈의 sin 함수를 호출합니다.\n",
    "# 5 라디안의 사인 값을 계산하고 출력합니다.\n",
    "print(m.sin(5))  # 출력: 약 -0.9589242746631385\n",
    "\n",
    "# 'm' 별칭을 사용하여 math 모듈의 cos 함수를 호출합니다.\n",
    "# 5 라디안의 코사인 값을 계산하고 출력합니다.\n",
    "print(m.cos(5))  # 출력: 약 0.28366218546322625\n",
    "\n",
    "# 'm' 별칭을 사용하여 math 모듈의 ceil 함수를 호출합니다.\n",
    "# 3.6 이상의 가장 작은 정수를 계산하고 출력합니다.\n",
    "print(m.ceil(3.6))  # 출력: 4\n",
    "\n",
    "# 'm' 별칭을 사용하여 math 모듈의 floor 함수를 호출합니다.\n",
    "# 4.1 이하의 가장 큰 정수를 계산하고 출력합니다.\n",
    "print(m.floor(4.1))  # 출력: 4"
   ]
  },
  {
   "cell_type": "markdown",
   "id": "5cd164a6",
   "metadata": {},
   "source": [
    "os 모듈\n",
    "\n",
    "os모듈은 운영체제와 관련된 기능을 가진 모듈입니다.\n",
    "\n",
    "os.system 명령어는 시스템과 관련된 명렁어기 때문에 사용 시 주의가 필요합니다."
   ]
  },
  {
   "cell_type": "code",
   "execution_count": null,
   "id": "982c42cb",
   "metadata": {},
   "outputs": [],
   "source": [
    "# os 모듈을 임포트합니다. 이 모듈은 운영체제와 상호작용할 수 있는 기능을 제공합니다.\n",
    "import os\n",
    "\n",
    "# 현재 운영체제의 이름을 출력합니다.\n",
    "# posix는 유닉스/리눅스 계열, nt는 윈도우를 의미합니다.\n",
    "print(\"현재 운영체제:\", os.name)\n",
    "\n",
    "# 현재 작업 디렉토리의 경로를 출력합니다.\n",
    "print(\"현재 폴더:\", os.getcwd())\n",
    "\n",
    "# 현재 작업 디렉토리에 있는 파일과 디렉토리 목록을 출력합니다.\n",
    "print(\"현재 폴더 정보:\", os.listdir())"
   ]
  },
  {
   "cell_type": "code",
   "execution_count": null,
   "id": "ac6727c1",
   "metadata": {},
   "outputs": [],
   "source": [
    "# os 모듈을 임포트합니다. 이 모듈은 운영체제와 상호작용할 수 있는 기능을 제공합니다.\n",
    "import os\n",
    "\n",
    "# 현재 작업 디렉토리에 \"oz\"라는 이름의 새로운 디렉토리를 생성합니다.\n",
    "os.mkdir(\"oz\")\n",
    "\n",
    "# 현재 작업 디렉토리에서 \"oz\" 디렉토리를 삭제합니다.\n",
    "os.rmdir(\"oz\")\n",
    "\n",
    "# \"oz.txt\"라는 이름의 새로운 파일을 쓰기 모드로 엽니다.\n",
    "# 파일이 없으면 새로 생성하고, 있으면 내용을 덮어씁니다.\n",
    "with open(\"oz.txt\", \"w\") as file:\n",
    "    # 파일에 \"수강생 여러분 안녕하세요\"라는 문자열을 씁니다.\n",
    "    file.write(\"수강생 여러분 안녕하세요\")\n",
    "\n",
    "# \"oz.txt\" 파일의 이름을 \"oz2.txt\"로 변경합니다.\n",
    "os.rename(\"oz.txt\", \"oz2.txt\")\n",
    "\n",
    "# \"oz2.txt\" 파일을 삭제합니다.\n",
    "os.remove(\"oz2.txt\")\n",
    "\n",
    "# 현재 작업 디렉토리의 파일 및 디렉토리 목록을 출력합니다. (macOS/리눅스)\n",
    "os.system(\"ls\")\n",
    "\n",
    "# 현재 작업 디렉토리의 파일 및 디렉토리 목록을 출력합니다. (Windows)\n",
    "os.system(\"dir\")"
   ]
  },
  {
   "cell_type": "markdown",
   "id": "0b553a6b",
   "metadata": {},
   "source": [
    "datetime 모듈\n",
    "\n",
    "datetime 모듈은 날짜와 시간에 관련된 모듈입니다."
   ]
  },
  {
   "cell_type": "code",
   "execution_count": null,
   "id": "1abaaf67",
   "metadata": {},
   "outputs": [],
   "source": [
    "# datetime 모듈을 임포트합니다. 이 모듈은 날짜와 시간을 다루는 기능을 제공합니다.\n",
    "import datetime\n",
    "\n",
    "# 현재 날짜와 시간 출력\n",
    "print(\"오늘 날짜와 시간 출력\")\n",
    "\n",
    "# 현재 날짜와 시간을 가져와 now 변수에 저장합니다.\n",
    "now = datetime.datetime.now()\n",
    "\n",
    "# 현재 연도를 출력합니다.\n",
    "print(now.year, \"년\")\n",
    "\n",
    "# 현재 월을 출력합니다.\n",
    "print(now.month, \"월\")\n",
    "\n",
    "# 현재 일을 출력합니다.\n",
    "print(now.day, \"일\")\n",
    "\n",
    "# 현재 시각을 출력합니다.\n",
    "print(now.hour, \"시\")\n",
    "\n",
    "# 현재 분을 출력합니다.\n",
    "print(now.minute, \"분\")\n",
    "\n",
    "# 현재 초를 출력합니다.\n",
    "print(now.second, \"초\")"
   ]
  },
  {
   "cell_type": "code",
   "execution_count": null,
   "id": "ee068a9f",
   "metadata": {},
   "outputs": [],
   "source": [
    "# datetime 모듈을 임포트합니다. 이 모듈은 날짜와 시간을 다루는 기능을 제공합니다.\n",
    "import datetime\n",
    "\n",
    "# 다양한 시간 포맷을 출력합니다.\n",
    "print(\"다양한 시간 포멧\")\n",
    "\n",
    "# 현재 날짜와 시간을 가져와 now 변수에 저장합니다.\n",
    "now = datetime.datetime.now()\n",
    "\n",
    "# 첫 번째 출력 형식: '년.월.일 시:분:초' 형식으로 포맷팅합니다.\n",
    "output_1 = now.strftime(\"%Y.%m.%d %H:%M:%S\")\n",
    "\n",
    "# 두 번째 출력 형식: f-string을 사용하여 '년 월 일 시 분 초' 형식으로 포맷팅합니다.\n",
    "output_2 = f'{now.year}년 {now.month}월 {now.day}일 {now.hour}시 {now.minute}분 {now.second}초'\n",
    "\n",
    "# 세 번째 출력 형식: '년 월 일 시 분 초' 형식을 사용하여 strftime과 format 메서드를 결합하여 포맷팅합니다.\n",
    "output_3 = now.strftime(\"%Y{} %m{} %d{} %H{} %M{} %S{}\").format(*\"년월일시분초\")\n",
    "\n",
    "# 첫 번째 출력 형식을 출력합니다.\n",
    "print(output_1)  # 예시: 2024.06.28 14:23:45\n",
    "\n",
    "# 두 번째 출력 형식을 출력합니다.\n",
    "print(output_2)  # 예시: 2024년 6월 28일 14시 23분 45초\n",
    "\n",
    "# 세 번째 출력 형식을 출력합니다.\n",
    "print(output_3)  # 예시: 2024년 06월 28일 14시 23분 45초"
   ]
  },
  {
   "cell_type": "markdown",
   "id": "f8b14a34",
   "metadata": {},
   "source": [
    "time 모듈\n",
    "\n",
    "time은 시간과 관련된 기능을 다루는 모듈입니다.\n",
    "\n",
    "특정 시간 동안 코드를 정지할 수 있는 기능이 있습니다."
   ]
  },
  {
   "cell_type": "code",
   "execution_count": null,
   "id": "c8a816e5",
   "metadata": {},
   "outputs": [],
   "source": [
    "# time 모듈을 임포트합니다. 이 모듈은 시간 관련 함수들을 제공합니다.\n",
    "import time\n",
    "\n",
    "print(\"3초 뒤에 어떤일이 일어날까요?\")\n",
    "\n",
    "# 프로그램 실행을 3초 동안 일시 정지시킵니다.\n",
    "time.sleep(3)\n",
    "\n",
    "# 3초 후에 출력할 메시지입니다.\n",
    "print(\"아무일도 없었다\")  # 예시: 아무일도 없었다"
   ]
  },
  {
   "cell_type": "markdown",
   "id": "3cbc0411",
   "metadata": {},
   "source": [
    "urllib 모듈\n",
    "\n",
    "urllib는 URL을 다루는 라이브러리입니다"
   ]
  },
  {
   "cell_type": "code",
   "execution_count": null,
   "id": "8fe45f32",
   "metadata": {},
   "outputs": [],
   "source": [
    "# urllib.request 모듈을 임포트합니다. 이 모듈은 URL을 열고 읽는 기능을 제공합니다.\n",
    "from urllib import request\n",
    "\n",
    "# 지정된 URL(\"https://www.naver.com\")을 엽니다.\n",
    "target = request.urlopen(\"https://www.naver.com\")\n",
    "\n",
    "# URL에서 읽은 웹 페이지의 내용을 변수에 저장합니다.\n",
    "web_code = target.read()\n",
    "\n",
    "# 웹 페이지의 내용을 출력합니다.\n",
    "print(web_code)  # 예시: b'<!doctype html><html lang=\"ko\">...</html>'"
   ]
  }
 ],
 "metadata": {
  "kernelspec": {
   "display_name": "Python 3",
   "language": "python",
   "name": "python3"
  },
  "language_info": {
   "name": "python",
   "version": "3.12.6"
  }
 },
 "nbformat": 4,
 "nbformat_minor": 5
}
