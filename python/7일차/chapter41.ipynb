{
 "cells": [
  {
   "cell_type": "markdown",
   "id": "6f164631",
   "metadata": {},
   "source": [
    "패키지\n",
    "패키지는 모듈의 집합이다\n",
    "\n",
    "1. module_package 폴더 만들기\n",
    "2. module_package 안에 oz_package폴더 만들기\n",
    "3. oz_module_1.py, oz_module_2.py 파일 만들기\n",
    "\n",
    "oz_module_1.py\n",
    "val_1 = \"module_1의 변수\"\n",
    "\n",
    "oz_module_2.py\n",
    "\n",
    "val_2 = \"module_2의 변수\"\n",
    "\n",
    "\n",
    "4. main.py 파일을 만들어주세요\n",
    "\n",
    "import oz_package.oz_module_1 as one\n",
    "import oz_package.oz_module_2 as two\n",
    "\n",
    "print(one.val_1)\n",
    "print(two.val_2)"
   ]
  }
 ],
 "metadata": {
  "language_info": {
   "name": "python"
  }
 },
 "nbformat": 4,
 "nbformat_minor": 5
}
