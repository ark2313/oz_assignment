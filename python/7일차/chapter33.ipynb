{
 "cells": [
  {
   "cell_type": "markdown",
   "id": "3962c20e",
   "metadata": {},
   "source": [
    "오류 종류\n",
    "\n",
    "프로그램 실행전 발생오류를 구문 오류\n",
    "프로그램 실행중에 발생하는 오류는 예외 또는 런타임 오류\n"
   ]
  },
  {
   "cell_type": "markdown",
   "id": "b75ff65f",
   "metadata": {},
   "source": [
    "구문오류\n",
    "괄호 개수나 들여쓰기 문제 등의 오류\n"
   ]
  },
  {
   "cell_type": "code",
   "execution_count": 3,
   "id": "37c7bad4",
   "metadata": {},
   "outputs": [
    {
     "name": "stdout",
     "output_type": "stream",
     "text": [
      "오류는 아주 사소한것부터 발생한다\n"
     ]
    }
   ],
   "source": [
    "#구문오류 예제\n",
    "print(\"오류는 아주 사소한것부터 발생한다\")"
   ]
  },
  {
   "cell_type": "code",
   "execution_count": 2,
   "id": "5835a219",
   "metadata": {},
   "outputs": [
    {
     "ename": "SyntaxError",
     "evalue": "incomplete input (2731357007.py, line 2)",
     "output_type": "error",
     "traceback": [
      "  \u001b[36mCell\u001b[39m\u001b[36m \u001b[39m\u001b[32mIn[2]\u001b[39m\u001b[32m, line 2\u001b[39m\n\u001b[31m    \u001b[39m\u001b[31mprint(\"오류는 아주 사소한것부터 발생한다\"\u001b[39m\n                              ^\n\u001b[31mSyntaxError\u001b[39m\u001b[31m:\u001b[39m incomplete input\n"
     ]
    }
   ],
   "source": [
    "#닫는괄호를 생략한 경우\n",
    "print(\"오류는 아주 사소한것부터 발생한다\""
   ]
  },
  {
   "cell_type": "markdown",
   "id": "5d7a7044",
   "metadata": {},
   "source": [
    "예외 또는 런타임 오류는 실행중 발생하는 오류"
   ]
  },
  {
   "cell_type": "code",
   "execution_count": 5,
   "id": "6239fcf4",
   "metadata": {},
   "outputs": [
    {
     "name": "stdout",
     "output_type": "stream",
     "text": [
      "오류는 아주 사소한것 으로부터 발생\n"
     ]
    },
    {
     "ename": "NameError",
     "evalue": "name 'dogs' is not defined",
     "output_type": "error",
     "traceback": [
      "\u001b[31m---------------------------------------------------------------------------\u001b[39m",
      "\u001b[31mNameError\u001b[39m                                 Traceback (most recent call last)",
      "\u001b[36mCell\u001b[39m\u001b[36m \u001b[39m\u001b[32mIn[5]\u001b[39m\u001b[32m, line 5\u001b[39m\n\u001b[32m      2\u001b[39m \u001b[38;5;28mprint\u001b[39m(\u001b[33m\"\u001b[39m\u001b[33m오류는 아주 사소한것 으로부터 발생\u001b[39m\u001b[33m\"\u001b[39m)\n\u001b[32m      4\u001b[39m \u001b[38;5;66;03m#예외 발생\u001b[39;00m\n\u001b[32m----> \u001b[39m\u001b[32m5\u001b[39m \u001b[43mdogs\u001b[49m.append(\u001b[33m\"\u001b[39m\u001b[33m말티즈\u001b[39m\u001b[33m\"\u001b[39m)\n",
      "\u001b[31mNameError\u001b[39m: name 'dogs' is not defined"
     ]
    }
   ],
   "source": [
    "#정상실행\n",
    "print(\"오류는 아주 사소한것 으로부터 발생\")\n",
    "\n",
    "#예외 발생\n",
    "dogs.append(\"말티즈\")"
   ]
  },
  {
   "cell_type": "code",
   "execution_count": 6,
   "id": "b837bd35",
   "metadata": {},
   "outputs": [
    {
     "name": "stdout",
     "output_type": "stream",
     "text": [
      "오류는 아주 사소한것부터 발생\n",
      "['닥스훈트', '시바견', '말티즈']\n"
     ]
    }
   ],
   "source": [
    "#정상실행\n",
    "print(\"오류는 아주 사소한것부터 발생\")\n",
    "\n",
    "\n",
    "#예외 발생 코드 해결\n",
    "dogs = [\"닥스훈트\",\"시바견\"]\n",
    "dogs.append(\"말티즈\")\n",
    "print(dogs)\n"
   ]
  },
  {
   "cell_type": "markdown",
   "id": "73f9ed45",
   "metadata": {},
   "source": []
  },
  {
   "cell_type": "code",
   "execution_count": 8,
   "id": "81cbb262",
   "metadata": {},
   "outputs": [
    {
     "name": "stdout",
     "output_type": "stream",
     "text": [
      "삼각형의 넓이는3.0입니다\n"
     ]
    }
   ],
   "source": [
    "x,y = map(int, input(\"밑변과 높이 입력\").split(\" \"))\n",
    "print(f\"삼각형의 넓이는{x*y/2}입니다\")"
   ]
  },
  {
   "cell_type": "code",
   "execution_count": 11,
   "id": "f889c420",
   "metadata": {},
   "outputs": [
    {
     "ename": "ValueError",
     "evalue": "invalid literal for int() with base 10: '3cm'",
     "output_type": "error",
     "traceback": [
      "\u001b[31m---------------------------------------------------------------------------\u001b[39m",
      "\u001b[31mValueError\u001b[39m                                Traceback (most recent call last)",
      "\u001b[36mCell\u001b[39m\u001b[36m \u001b[39m\u001b[32mIn[11]\u001b[39m\u001b[32m, line 2\u001b[39m\n\u001b[32m      1\u001b[39m \u001b[38;5;66;03m# x=3cm, y= 5cm\u001b[39;00m\n\u001b[32m----> \u001b[39m\u001b[32m2\u001b[39m x,y = \u001b[38;5;28mmap\u001b[39m(\u001b[38;5;28mint\u001b[39m, \u001b[38;5;28minput\u001b[39m(\u001b[33m\"\u001b[39m\u001b[33m밑변과 높이를 입력\u001b[39m\u001b[33m\"\u001b[39m).split(\u001b[33m\"\u001b[39m\u001b[33m \u001b[39m\u001b[33m\"\u001b[39m))\n\u001b[32m      4\u001b[39m \u001b[38;5;28mprint\u001b[39m(\u001b[33mf\u001b[39m\u001b[33m'\u001b[39m\u001b[33m삼각형 넓이는 \u001b[39m\u001b[38;5;132;01m{\u001b[39;00mx*y/\u001b[32m2\u001b[39m\u001b[38;5;132;01m}\u001b[39;00m\u001b[33m입니다\u001b[39m\u001b[33m'\u001b[39m)\n",
      "\u001b[31mValueError\u001b[39m: invalid literal for int() with base 10: '3cm'"
     ]
    }
   ],
   "source": [
    "# x=3cm, y= 5cm\n",
    "x,y = map(int, input(\"밑변과 높이를 입력\").split(\" \"))\n",
    "\n",
    "print(f'삼각형 넓이는 {x*y/2}입니다')"
   ]
  },
  {
   "cell_type": "code",
   "execution_count": null,
   "id": "8602169f",
   "metadata": {},
   "outputs": [],
   "source": [
    "x,y = int, input(\"밑변과 높이를 입력해주세요\".split(\" \"))\n",
    "\n",
    "if x.isdigit() and y.isdigit():\n",
    "    x,y = int(x), int(y)\n",
    "\n",
    "    print(f'삼각형의 넓이는 {x*y/2}입니다')\n",
    "else:\n",
    "    print(\"정수로 입력하지 않아 계산이 불가합니다\")"
   ]
  },
  {
   "cell_type": "markdown",
   "id": "23372a03",
   "metadata": {},
   "source": [
    "오류의 종류는?\n",
    "\n",
    "오류의 종류별로 해결할수있는 방법은?\n",
    "\n",
    "isdigit()함수란?\n"
   ]
  }
 ],
 "metadata": {
  "kernelspec": {
   "display_name": "Python 3",
   "language": "python",
   "name": "python3"
  },
  "language_info": {
   "codemirror_mode": {
    "name": "ipython",
    "version": 3
   },
   "file_extension": ".py",
   "mimetype": "text/x-python",
   "name": "python",
   "nbconvert_exporter": "python",
   "pygments_lexer": "ipython3",
   "version": "3.12.6"
  }
 },
 "nbformat": 4,
 "nbformat_minor": 5
}
