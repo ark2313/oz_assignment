{
 "cells": [
  {
   "cell_type": "markdown",
   "id": "80a87c66",
   "metadata": {},
   "source": [
    "try except 구문 기본 구조\n",
    "\n",
    "try :\n",
    "    예외가 발생할 가능성이 있는 코드\n",
    "\n",
    "except\n",
    "    예외가 발생했을 때 실행할 코드\n",
    "    "
   ]
  },
  {
   "cell_type": "code",
   "execution_count": 2,
   "id": "4c258f23",
   "metadata": {},
   "outputs": [
    {
     "name": "stdout",
     "output_type": "stream",
     "text": [
      "삼각형의 넓이는 6.0입니다.\n"
     ]
    }
   ],
   "source": [
    "# 조건문으로 예외처리한 코드\n",
    "# x=3cm, y=5cm\n",
    "\n",
    "x,y = input(\"밑변과 높이를 입력해주세요\").split(\" \")\n",
    "\n",
    "if x.isdigit() and y.isdigit():\n",
    "#계산과 출력\n",
    "    x,y= int(x), int(y)\n",
    "    print(f'삼각형의 넓이는 {x*y/2}입니다.')\n",
    "\n",
    "else:\n",
    "    print(\"정수로 입력하지 않아 계산이 불가능\")\n"
   ]
  },
  {
   "cell_type": "markdown",
   "id": "21f328f1",
   "metadata": {},
   "source": [
    "try except 구문과 pass 키워드 조합 구조\n",
    "    예외가 발생하더라도 지금 당장 처리하지 않아도 되는 구문이면 pass 키워드 사용가능\n",
    "try:\n",
    "    예외가 발생할 가능성이있는 코드\n",
    "except\n",
    "    pass"
   ]
  },
  {
   "cell_type": "code",
   "execution_count": 3,
   "id": "251233d3",
   "metadata": {},
   "outputs": [
    {
     "name": "stdout",
     "output_type": "stream",
     "text": [
      "['1', '7', '3', '스파이', '4'] 내부에 있는 숫자는\n",
      "['1', '7', '3', '4']입니다\n"
     ]
    }
   ],
   "source": [
    "list_input=[\"1\",\"7\",\"3\",\"스파이\",\"4\"]\n",
    "\n",
    "list_number =[]\n",
    "for item in list_input:\n",
    "    try:\n",
    "        int(item)\n",
    "        list_number.append(item)\n",
    "    except:\n",
    "        pass\n",
    "print(f'{list_input} 내부에 있는 숫자는')\n",
    "print(f'{list_number}입니다')"
   ]
  },
  {
   "cell_type": "markdown",
   "id": "61edabfc",
   "metadata": {},
   "source": [
    "else 구문을 붙여서 사용하면 예외가 발생하지 않았을 때 실행할 코드를 지정가능\n",
    "\n",
    "try:\n",
    "    예외가 발생할 가능성이 있는 코드\n",
    "except:\n",
    "    예외가 발생했을 때 실행할 코드\n",
    "else:\n",
    "    예외가 발생하지 않았을 때 실행할 코드"
   ]
  },
  {
   "cell_type": "code",
   "execution_count": 5,
   "id": "5a85b72e",
   "metadata": {},
   "outputs": [
    {
     "name": "stdout",
     "output_type": "stream",
     "text": [
      "삼각형의 넓이는 7.0입니다.\n"
     ]
    }
   ],
   "source": [
    "try :\n",
    "    x,y = map(int, input(\"밑변과 높이를 입력해주세요\").split(\" \"))\n",
    "except:\n",
    "    print(\"정수로 입력하지 않아 계산 불가능\")\n",
    "\n",
    "else : \n",
    "    print(f\"삼각형의 넓이는 {x*y/2}입니다.\")"
   ]
  },
  {
   "cell_type": "markdown",
   "id": "ab383c28",
   "metadata": {},
   "source": [
    "finally 구문\n",
    "    예외처리 구문에서 가장 마지막에 사용할수 있는 구문\n",
    "    예외가 발생하든 안하든 무조건 실행할때 쓰는 코드\n",
    "\n",
    "try:\n",
    "    예외가 발생할 가능성이 있는 코드\n",
    "except:\n",
    "    예외가 발생했을때 코드\n",
    "else:\n",
    "예외가 발생하지 않았을때 코드\n",
    "finally:\n",
    "    무조건 실행할 코드"
   ]
  },
  {
   "cell_type": "code",
   "execution_count": null,
   "id": "b9fdbb4a",
   "metadata": {},
   "outputs": [
    {
     "name": "stdout",
     "output_type": "stream",
     "text": [
      "삼각형의 넓이는 3.0)\n",
      "프로그램 종료\n"
     ]
    }
   ],
   "source": [
    "try:\n",
    "    x,y=map(int, input(\"밑변과 높이를 입력\").split(\" \"))\n",
    "except:\n",
    "    print(\"정수로 입력하지 않아 개선 불가능\")\n",
    "else:\n",
    "    print(f'삼각형의 넓이는 {x*y/2}')\n",
    "finally:\n",
    "    print(\"프로그램 종료\")"
   ]
  },
  {
   "cell_type": "markdown",
   "id": "ddcee9c2",
   "metadata": {},
   "source": [
    "\n",
    "try ~ except 구문 사용 이유와 방법을 설명\n",
    "\n",
    "finally 구문의 기능과 특징은?"
   ]
  }
 ],
 "metadata": {
  "kernelspec": {
   "display_name": "Python 3",
   "language": "python",
   "name": "python3"
  },
  "language_info": {
   "codemirror_mode": {
    "name": "ipython",
    "version": 3
   },
   "file_extension": ".py",
   "mimetype": "text/x-python",
   "name": "python",
   "nbconvert_exporter": "python",
   "pygments_lexer": "ipython3",
   "version": "3.12.6"
  }
 },
 "nbformat": 4,
 "nbformat_minor": 5
}
