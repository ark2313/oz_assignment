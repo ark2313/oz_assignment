{
 "cells": [
  {
   "cell_type": "markdown",
   "id": "91303aa3",
   "metadata": {},
   "source": [
    "1. 예외 객체(Exception)\n",
    "\n",
    "Exception을 사용하면 예외의 종류에 대해 알 수 있습니다."
   ]
  },
  {
   "cell_type": "code",
   "execution_count": null,
   "id": "92db75cd",
   "metadata": {},
   "outputs": [],
   "source": [
    "try:\n",
    "    # 사용자로부터 밑변과 높이를 입력받습니다.\n",
    "    # 입력받은 값들을 공백을 기준으로 나누고, 각각 정수로 변환합니다.\n",
    "    x, y = map(int, input(\"밑변과 높이를 입력해주세요\").split(\" \"))\n",
    "    \n",
    "    # 삼각형의 넓이를 계산하여 출력합니다.\n",
    "    # 넓이는 밑변 * 높이 / 2 로 계산됩니다.\n",
    "    print(f'삼각형의 넓이는 {x * y / 2}입니다.')\n",
    "except Exception as exception:\n",
    "    # 예외가 발생했을 때 예외의 타입과 내용을 출력합니다.\n",
    "    print(\"type(exception):\", type(exception))  # 발생한 예외의 타입을 출력합니다.\n",
    "    print(\"exception:\", exception)  # 발생한 예외의 구체적인 내용을 출력합니다.\n",
    "\n",
    "# 입력\n",
    "3cm 5cm\n",
    "\n",
    "# 출력\n",
    "type(exception): <class 'ValueError'>\n",
    "exception: invalid literal for int() with base 10: '3cm' "
   ]
  },
  {
   "cell_type": "code",
   "execution_count": null,
   "id": "7e9970af",
   "metadata": {},
   "outputs": [],
   "source": [
    "numbers = [23, 11, 7, 4, 12]\n",
    "\n",
    "try:\n",
    "    # 사용자로부터 찾고 싶은 값의 위치를 정수로 입력받습니다.\n",
    "    number_input = int(input(\"찾고싶은 값의 위치를 입력해주세요\"))\n",
    "    \n",
    "    # 입력받은 위치에 해당하는 리스트의 요소를 출력합니다.\n",
    "    # 리스트 'numbers'의 'number_input' 번째 요소를 출력합니다.\n",
    "    print(f'{number_input}번째 요소 : {numbers[number_input]}')\n",
    "except Exception as exception:\n",
    "    # 예외가 발생했을 때 예외의 타입과 내용을 출력합니다.\n",
    "    print(\"type(exception):\", type(exception))  # 발생한 예외의 타입을 출력합니다.\n",
    "    print(\"exception:\", exception)  # 발생한 예외의 구체적인 내용을 출력합니다.\n",
    "\n",
    "# 입력\n",
    "3\n",
    "\n",
    "# 출력\n",
    "4\n",
    "\n",
    "# 입력\n",
    "100\n",
    "\n",
    "# 출력\n",
    "type(exception): <class 'IndexError'>\n",
    "exception: list index out of range"
   ]
  },
  {
   "cell_type": "markdown",
   "id": "d2dccbdf",
   "metadata": {},
   "source": [
    "2. 예외 구분하기\n",
    "\n",
    "여러 가지 예외가 발생하는 상황을 구분지어 대비하기 위하여 예외 구분을 합니다.\n",
    "\n",
    "파이썬은 에러를 구분하고 처리할 수 있는 기능을 제공합니다."
   ]
  },
  {
   "cell_type": "code",
   "execution_count": null,
   "id": "a9a83f30",
   "metadata": {},
   "outputs": [],
   "source": [
    "# 예외 구분 구조\n",
    "try:\n",
    "\t예외가 발생할 가능성이 있는 구문\n",
    "except 예외 a:\n",
    "\t예외 a가 발생했을 때 실행할 구문\n",
    "except 예외 b:\n",
    "\t예외 b가 발생했을 때 실행할 구문\n",
    "except 예외 c:\n",
    "\t예외 c가 발생했을 때 실행할 구"
   ]
  },
  {
   "cell_type": "code",
   "execution_count": null,
   "id": "3d2aeaa7",
   "metadata": {},
   "outputs": [],
   "source": [
    "# 예외 구분\n",
    "\n",
    "numbers = [23, 11, 7, 4, 12]\n",
    "\n",
    "try:\n",
    "    # 사용자로부터 찾고 싶은 값의 위치를 정수로 입력받습니다.\n",
    "    number_input = int(input(\"찾고싶은 값의 위치를 입력해주세요\"))\n",
    "    \n",
    "    # 입력받은 위치에 해당하는 리스트의 요소를 출력합니다.\n",
    "    # 리스트 'numbers'의 'number_input' 번째 요소를 출력합니다.\n",
    "    print(f'{number_input}번째 요소 : {numbers[number_input]}')\n",
    "except ValueError:\n",
    "    # 입력값이 정수가 아닌 경우 발생하는 예외를 처리합니다.\n",
    "    print(\"정수로 입력해주세요\")\n",
    "except IndexError:\n",
    "    # 입력값이 리스트의 범위를 벗어난 경우 발생하는 예외를 처리합니다.\n",
    "    print(\"리스트의 범위를 벗어났습니다. 입력값을 다시 확인해주세요\")\n",
    "    \n",
    "# 입력\n",
    "oz\n",
    "\n",
    "# 출력\n",
    "정수로 입력해주세요\n",
    "\n",
    "# 입력\n",
    "100\n",
    "\n",
    "# 출력\n",
    "리스트의 범위를 벗어났습니다. 입력값을 다시 확인해주세요"
   ]
  },
  {
   "cell_type": "markdown",
   "id": "1ac21cdb",
   "metadata": {},
   "source": [
    "3. 예외 구분 구문과 예외 객체\n",
    "\n",
    "as 키워드를 이용해 as ‘변수’를 사용할 수 있습니다.\n",
    "\n",
    "예외가 발생하면 as다음에 오는 변수에 예외에 대한 값이 할당되어, 예외 객체의 속성 및 메서드에 접근할 수 있습니다."
   ]
  },
  {
   "cell_type": "code",
   "execution_count": null,
   "id": "9cda7620",
   "metadata": {},
   "outputs": [],
   "source": [
    "try:\n",
    "    # 사용자로부터 찾고 싶은 값의 위치를 정수로 입력받습니다.\n",
    "    number_input = int(input(\"찾고싶은 값의 위치를 입력해주세요\"))\n",
    "    \n",
    "    # 입력받은 위치에 해당하는 리스트의 요소를 출력합니다.\n",
    "    # 리스트 'numbers'의 'number_input' 번째 요소를 출력합니다.\n",
    "    print(f'{number_input}번째 요소 : {numbers[number_input]}')\n",
    "except ValueError as exception:\n",
    "    # 입력값이 정수가 아닌 경우 발생하는 예외를 처리합니다.\n",
    "    print(\"정수로 입력해주세요\")\n",
    "    # 발생한 예외의 구체적인 내용을 출력합니다.\n",
    "    print(\"Exception:\", exception)\n",
    "except IndexError as exception:\n",
    "    # 입력값이 리스트의 범위를 벗어난 경우 발생하는 예외를 처리합니다.\n",
    "    print(\"리스트의 범위를 벗어났습니다. 입력값을 다시 확인해주세요\")\n",
    "    # 발생한 예외의 구체적인 내용을 출력합니다.\n",
    "    print(\"Exception:\", exception)\n",
    "\n",
    "    \n",
    "# 입력\n",
    "oz\n",
    "\n",
    "# 출력\n",
    "정수로 입력해주세요\n",
    "Exception: invalid literal for int() with base 10: 'oz'"
   ]
  },
  {
   "cell_type": "markdown",
   "id": "1936b2ff",
   "metadata": {},
   "source": [
    "4. 모든 예외처리(Exception)\n",
    "\n",
    "위 2가지 예외 처리로 처리가 불가능한 경우를 대비해 모든 예외 처리가 가능한 Exception을 이용할 수 있습니다."
   ]
  },
  {
   "cell_type": "code",
   "execution_count": null,
   "id": "a9636497",
   "metadata": {},
   "outputs": [],
   "source": [
    "# 모든 예외처리가 가능한 Exception\n",
    "try:\n",
    "    # 사용자로부터 찾고 싶은 값의 위치를 정수로 입력받습니다.\n",
    "    number_input = int(input(\"찾고싶은 값의 위치를 입력해주세요\"))\n",
    "    \n",
    "    # 입력받은 위치에 해당하는 리스트의 요소를 출력합니다.\n",
    "    # 리스트 'numbers'의 'number_input' 번째 요소를 출력합니다.\n",
    "    print(f'{number_input}번째 요소 : {numbers[number_input]}')\n",
    "    \n",
    "    # 고의로 예외를 발생시키는 코드입니다.\n",
    "    에러를.만들꺼야\n",
    "except ValueError as exception:\n",
    "    # 입력값이 정수가 아닌 경우 발생하는 예외를 처리합니다.\n",
    "    print(\"정수로 입력해주세요\")\n",
    "    # 발생한 예외의 구체적인 내용을 출력합니다.\n",
    "    print(\"Exception:\", exception)\n",
    "except Exception as exception:\n",
    "    # 그 외의 예외가 발생했을 때 처리합니다.\n",
    "    print(\"대처 불가한 예외가 발생했습니다.\")\n",
    "    # 발생한 예외의 구체적인 내용을 출력합니다.\n",
    "    print(\"Exception:\", exception)\n",
    "    \n",
    "# 입력\n",
    "3\n",
    "\n",
    "# 출력\n",
    "대처 불가한 예외가 발생했습니다.\n",
    "Exception: name '에러를' is not defined"
   ]
  }
 ],
 "metadata": {
  "language_info": {
   "name": "python"
  }
 },
 "nbformat": 4,
 "nbformat_minor": 5
}
