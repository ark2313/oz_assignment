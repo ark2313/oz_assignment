{
 "cells": [
  {
   "cell_type": "code",
   "execution_count": 1,
   "id": "97d50d8a",
   "metadata": {},
   "outputs": [
    {
     "data": {
      "text/plain": [
       "29500"
      ]
     },
     "execution_count": 1,
     "metadata": {},
     "output_type": "execute_result"
    }
   ],
   "source": [
    "#아아 : 5000원 /아샷추 : 6500원\n",
    "#아아 2잔 /아샷추 3잔\n",
    "\n",
    "(5000*2) + (6500 *3)"
   ]
  },
  {
   "cell_type": "code",
   "execution_count": 2,
   "id": "99a7dea2",
   "metadata": {},
   "outputs": [
    {
     "data": {
      "text/plain": [
       "29500"
      ]
     },
     "execution_count": 2,
     "metadata": {},
     "output_type": "execute_result"
    }
   ],
   "source": [
    "# 어제 아아 2잔이랑 아샷추 3잔결제 금액\n",
    "(5000*2) + (6500 *3)\n",
    "\n"
   ]
  },
  {
   "cell_type": "code",
   "execution_count": 3,
   "id": "e4e01853",
   "metadata": {},
   "outputs": [
    {
     "data": {
      "text/plain": [
       "29500"
      ]
     },
     "execution_count": 3,
     "metadata": {},
     "output_type": "execute_result"
    }
   ],
   "source": [
    "(5000*2) + (6500 *3)\n"
   ]
  },
  {
   "cell_type": "markdown",
   "id": "618ca421",
   "metadata": {},
   "source": [
    "###변수란? (근본 그 자체) : 하나의 값을 저장할수있는 공간\n",
    "변수에도 이름 지정 가능\n",
    "\n",
    "하나의 변수에 하나의 값을 넣을때\n",
    "변수이름 = 값\n",
    "\n",
    "두개의 변수에 하나의 값을 각각 넣을때\n",
    "변수이름1,변수이름2 = 값1,값2"
   ]
  },
  {
   "cell_type": "code",
   "execution_count": 6,
   "id": "adab1533",
   "metadata": {},
   "outputs": [
    {
     "name": "stdout",
     "output_type": "stream",
     "text": [
      "1\n",
      "2\n",
      "1 2\n"
     ]
    }
   ],
   "source": [
    "#하나의 값을 변수에 넣을때\n",
    "num = 1\n",
    "#print (num)\n",
    "\n",
    "#두개의 값을 변수에 넣을대\n",
    "\n",
    "num_1 , num_2 = 1, 2\n",
    "print (num_1)\n",
    "print (num_2)\n",
    "\n",
    "print(num_1,num_2)"
   ]
  },
  {
   "cell_type": "code",
   "execution_count": 8,
   "id": "b3ad0624",
   "metadata": {},
   "outputs": [
    {
     "data": {
      "text/plain": [
       "15"
      ]
     },
     "execution_count": 8,
     "metadata": {},
     "output_type": "execute_result"
    }
   ],
   "source": [
    "#변수를 사용하지 않을때 \n",
    "#이전에 계산된 결과를 저장할 방법이 없음\n",
    "\n",
    "1 + 2  \n",
    "1 + 2 + 3\n",
    "1 + 2 + 3 + 4\n",
    "1 + 2 + 3 + 4 + 5"
   ]
  },
  {
   "cell_type": "code",
   "execution_count": 14,
   "id": "d492e1c7",
   "metadata": {},
   "outputs": [
    {
     "name": "stdout",
     "output_type": "stream",
     "text": [
      "15\n"
     ]
    }
   ],
   "source": [
    "#변수를 사용할때\n",
    "#이전에 계산된 결과를 저장해서 사용가능\n",
    "\n",
    "sum = 1+2\n",
    "sum = sum +3\n",
    "sum = sum + 4\n",
    "sum = sum + 5\n",
    "\n",
    "print (sum)\n"
   ]
  },
  {
   "cell_type": "code",
   "execution_count": null,
   "id": "14b67dbe",
   "metadata": {},
   "outputs": [],
   "source": []
  },
  {
   "cell_type": "markdown",
   "id": "424076bb",
   "metadata": {},
   "source": [
    "### 변수에 값을 넣는것 = 할당\n",
    "\n",
    "sum 1+2 => 1+2의 계산결과를 sum이라는 변수에 할당  \n",
    "\n",
    "sum = 변수명 ,\"=\" 같다는 의미가 아닌 할당(assignment)이라고 한다\n",
    "\n",
    "\"=\" : 할당 연산자  \n",
    "\"+\" : 산술 연산자  \n",
    "\n",
    "+= 산술후 바로 할당하는 문법  \n",
    "\n",
    "/=, -=, *= 모두 가능  \n",
    "\n",
    "공백 두칸은 한칸 띄우기\n",
    "\n"
   ]
  },
  {
   "cell_type": "code",
   "execution_count": 17,
   "id": "f5dd6265",
   "metadata": {},
   "outputs": [
    {
     "name": "stdout",
     "output_type": "stream",
     "text": [
      "15\n",
      "15\n"
     ]
    }
   ],
   "source": [
    "#변수를 사용하면서 사용 가능한 문법\n",
    "\n",
    "sum = 1+2\n",
    "sum = sum + 3\n",
    "sum = sum + 4\n",
    "sum = sum + 5\n",
    "\n",
    "print(sum)\n",
    "\n",
    "sum2 = 1 + 2\n",
    "sum2 += 3\n",
    "sum2 += 4\n",
    "sum2 += 5\n",
    "\n",
    "print(sum2)"
   ]
  },
  {
   "cell_type": "code",
   "execution_count": 22,
   "id": "c19d2bea",
   "metadata": {},
   "outputs": [
    {
     "data": {
      "text/plain": [
       "1"
      ]
     },
     "execution_count": 22,
     "metadata": {},
     "output_type": "execute_result"
    }
   ],
   "source": [
    "#선언되지 않은 변수 사용시 에러 발생\n",
    "\n",
    "sum3 = 0 \n",
    "\n",
    "sum3 += 1\n",
    "\n",
    "\n",
    "sum3"
   ]
  },
  {
   "cell_type": "code",
   "execution_count": null,
   "id": "56e67607",
   "metadata": {},
   "outputs": [],
   "source": [
    "#변수에 어떤것도 할당하지 않을때\n",
    "\n",
    "nothing = None\n",
    "\n",
    "nothing\n",
    "\n",
    "print(None)"
   ]
  },
  {
   "cell_type": "markdown",
   "id": "21b2834a",
   "metadata": {},
   "source": [
    "### 변수를 만드는 규칙\n",
    "\n",
    "영문 문자와 숫자를 사용할수 있다\n",
    "대소문자 구분\n",
    "첫글자는 대문자로 쓰는걸 지향\n",
    "문자부터 시작해야하며 숫자부터 시작불가\n",
    "_(밑줄)로 시작가능\n",
    "특수문자(@#$%등)는 사용 불가\n",
    "파이썬 키워드(if,for,while,and,or)는 사용불가"
   ]
  },
  {
   "cell_type": "code",
   "execution_count": 24,
   "id": "d45def91",
   "metadata": {},
   "outputs": [
    {
     "name": "stdout",
     "output_type": "stream",
     "text": [
      "크다 작다\n"
     ]
    }
   ],
   "source": [
    "#대소문자를 구분하는 변수\n",
    "BIG = \"크다\"\n",
    "big = '작다'\n",
    "\n",
    "\n",
    "print(BIG,big)"
   ]
  },
  {
   "cell_type": "markdown",
   "id": "77ac4030",
   "metadata": {},
   "source": [
    "스네이크케이스(snake case)\n",
    "변수명 : snake_case \n",
    "\n",
    "카멜케이스(camel case)\n",
    "변수 : camel|Case \n"
   ]
  },
  {
   "cell_type": "code",
   "execution_count": 25,
   "id": "e81b91ab",
   "metadata": {},
   "outputs": [
    {
     "name": "stdout",
     "output_type": "stream",
     "text": [
      "스니커즈 슈프림 모자\n"
     ]
    }
   ],
   "source": [
    "#우리는 변수를 만들때 스네이크케이스로 진행한다 언더바는 2개 적용\n",
    "#개발에 관련된 여러 조건을 명시하는 것들을 코드 컨벤션이라고한다\n",
    "\n",
    "box__shose = \"스니커즈\"\n",
    "box__hat = \"슈프림 모자\"\n",
    "\n",
    "print(box__shose,box__hat)"
   ]
  },
  {
   "cell_type": "code",
   "execution_count": 26,
   "id": "b1545df2",
   "metadata": {},
   "outputs": [
    {
     "name": "stdout",
     "output_type": "stream",
     "text": [
      "bullea만 빼고 고양이 다 있어\n"
     ]
    }
   ],
   "source": [
    "#print() 포메팅 3가지 f-string : print(f'{변수명}')\n",
    "\n",
    "me = \"bullea\"\n",
    "print(f'{me}만 빼고 고양이 다 있어')"
   ]
  },
  {
   "cell_type": "code",
   "execution_count": 40,
   "id": "90e6df0c",
   "metadata": {},
   "outputs": [
    {
     "name": "stdout",
     "output_type": "stream",
     "text": [
      "주문이 완료되었습니다. 슈크림붕어빵,2개 잡채붕어빵,3개 총 5개 결제 금액은14000 원 입니다\n"
     ]
    }
   ],
   "source": [
    "#붕어빵(팥) : 2000원, 슈크림 : 2500, 잡채 : 3000원\n",
    "#슈크림2개,잡채3개 총 5개 결제금액 14000원\n",
    "#스네이크케이스 언더바 2개/print()문 포메팅 f-string\n",
    "\n",
    "#상품\n",
    "fish__cream = \"슈크림붕어빵\"\n",
    "fish__mix = \"잡채붕어빵\"\n",
    "\n",
    "\n",
    "#주문 수\n",
    "order__cream = 2\n",
    "order__mix = 3\n",
    "total__order = order__cream+order__mix\n",
    "\n",
    "#가격\n",
    "price__cream = 2500\n",
    "price__mix = 3000\n",
    "total__price = (price__cream*2) + (price__mix*3)\n",
    "\n",
    "\n",
    "print(\"주문이 완료되었습니다. \"f'{fish__cream},{order__cream}'\"개\", f'{fish__mix},{order__mix}'\"개 총 \"f'{total__order}' \"개 결제 금액은\" f'{total}'\" 원 입니다\")"
   ]
  }
 ],
 "metadata": {
  "kernelspec": {
   "display_name": "Python 3",
   "language": "python",
   "name": "python3"
  },
  "language_info": {
   "codemirror_mode": {
    "name": "ipython",
    "version": 3
   },
   "file_extension": ".py",
   "mimetype": "text/x-python",
   "name": "python",
   "nbconvert_exporter": "python",
   "pygments_lexer": "ipython3",
   "version": "3.12.6"
  }
 },
 "nbformat": 4,
 "nbformat_minor": 5
}
