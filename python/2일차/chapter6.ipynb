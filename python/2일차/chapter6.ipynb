{
 "cells": [
  {
   "cell_type": "markdown",
   "id": "c31e6a7c",
   "metadata": {},
   "source": [
    "변수 : 하나의 값을 저장할수있는 공간을 생성하는 것\n",
    "\n",
    "변수명 만들때 컨벤션\n",
    "변수를 표현하는 방법 : 스네이크, 카멜\n",
    "변수를 활용해서 다양한 문제 \n"
   ]
  },
  {
   "cell_type": "code",
   "execution_count": 2,
   "id": "e3265047",
   "metadata": {},
   "outputs": [],
   "source": [
    "#1. int(integer) : 정수\n",
    "#2. float(float) : 실수\n",
    "#3 str(string) : 문자\n",
    "#4 bool(bool, boolean) : 참 or 거짓, ture or false, 1 or 0\n",
    "#5. list\n",
    "#6. tuple\n",
    "#7. dict\n",
    "#8. set"
   ]
  },
  {
   "cell_type": "code",
   "execution_count": 3,
   "id": "b507368b",
   "metadata": {},
   "outputs": [
    {
     "data": {
      "text/plain": [
       "2.0"
      ]
     },
     "execution_count": 3,
     "metadata": {},
     "output_type": "execute_result"
    }
   ],
   "source": [
    "1.1+2\n",
    "4/2"
   ]
  },
  {
   "cell_type": "code",
   "execution_count": 5,
   "id": "572a2774",
   "metadata": {},
   "outputs": [
    {
     "data": {
      "text/plain": [
       "11.0"
      ]
     },
     "execution_count": 5,
     "metadata": {},
     "output_type": "execute_result"
    }
   ],
   "source": [
    "#정수 : 1,2,3,4 -1,-2,-3\n",
    "#실수 : 1.2, 3.3, 4.5, 4.0\n",
    "\n",
    "9.0+2"
   ]
  },
  {
   "cell_type": "code",
   "execution_count": 12,
   "id": "e167e004",
   "metadata": {},
   "outputs": [
    {
     "ename": "TypeError",
     "evalue": "can only concatenate str (not \"int\") to str",
     "output_type": "error",
     "traceback": [
      "\u001b[31m---------------------------------------------------------------------------\u001b[39m",
      "\u001b[31mTypeError\u001b[39m                                 Traceback (most recent call last)",
      "\u001b[36mCell\u001b[39m\u001b[36m \u001b[39m\u001b[32mIn[12]\u001b[39m\u001b[32m, line 4\u001b[39m\n\u001b[32m      1\u001b[39m \u001b[38;5;66;03m#box_num에 숫자만 넣자는 약속을 했다, 누군가 한글 표기법으로 숫자를 넣었다\u001b[39;00m\n\u001b[32m      3\u001b[39m box_num = \u001b[33m\"\u001b[39m\u001b[33m화\u001b[39m\u001b[33m\"\u001b[39m\n\u001b[32m----> \u001b[39m\u001b[32m4\u001b[39m \u001b[43mbox_num\u001b[49m\u001b[43m \u001b[49m\u001b[43m+\u001b[49m\u001b[43m=\u001b[49m\u001b[43m \u001b[49m\u001b[32;43m1\u001b[39;49m\n\u001b[32m      5\u001b[39m \u001b[38;5;28mprint\u001b[39m(box_num)\n",
      "\u001b[31mTypeError\u001b[39m: can only concatenate str (not \"int\") to str"
     ]
    }
   ],
   "source": [
    "#box_num에 숫자만 넣자는 약속을 했다, 누군가 한글 표기법으로 숫자를 넣었다\n",
    "\n",
    "box_num = \"화\"\n",
    "box_num += 1\n",
    "print(box_num)"
   ]
  },
  {
   "cell_type": "code",
   "execution_count": 14,
   "id": "7727d3fb",
   "metadata": {},
   "outputs": [
    {
     "data": {
      "text/plain": [
       "str"
      ]
     },
     "execution_count": 14,
     "metadata": {},
     "output_type": "execute_result"
    }
   ],
   "source": [
    "type(box_num)"
   ]
  },
  {
   "cell_type": "code",
   "execution_count": 17,
   "id": "260bb95e",
   "metadata": {},
   "outputs": [
    {
     "data": {
      "text/plain": [
       "float"
      ]
     },
     "execution_count": 17,
     "metadata": {},
     "output_type": "execute_result"
    }
   ],
   "source": [
    "type(1)\n",
    "type(1.2)"
   ]
  },
  {
   "cell_type": "code",
   "execution_count": null,
   "id": "4cba7759",
   "metadata": {},
   "outputs": [
    {
     "data": {
      "text/plain": [
       "2.0"
      ]
     },
     "execution_count": 18,
     "metadata": {},
     "output_type": "execute_result"
    }
   ],
   "source": [
    "#왜 2가 아닌데 (형변환)\n",
    "\n",
    "\n",
    "\n",
    "4/2"
   ]
  },
  {
   "cell_type": "markdown",
   "id": "5d66b335",
   "metadata": {},
   "source": [
    "###말 그대로 형태변형 : 형변환\n",
    "\n",
    "int,float\n",
    "int-> float  ex) 5->5.0  float(5)"
   ]
  },
  {
   "cell_type": "code",
   "execution_count": 21,
   "id": "bb7c7729",
   "metadata": {},
   "outputs": [
    {
     "name": "stdout",
     "output_type": "stream",
     "text": [
      "5.0\n",
      "5\n"
     ]
    }
   ],
   "source": [
    "print(float(5))\n",
    "print(int(5.0))"
   ]
  },
  {
   "cell_type": "code",
   "execution_count": 24,
   "id": "07c38c31",
   "metadata": {},
   "outputs": [
    {
     "name": "stdout",
     "output_type": "stream",
     "text": [
      "['__abs__', '__add__', '__and__', '__bool__', '__ceil__', '__class__', '__delattr__', '__dir__', '__divmod__', '__doc__', '__eq__', '__float__', '__floor__', '__floordiv__', '__format__', '__ge__', '__getattribute__', '__getnewargs__', '__getstate__', '__gt__', '__hash__', '__index__', '__init__', '__init_subclass__', '__int__', '__invert__', '__le__', '__lshift__', '__lt__', '__mod__', '__mul__', '__ne__', '__neg__', '__new__', '__or__', '__pos__', '__pow__', '__radd__', '__rand__', '__rdivmod__', '__reduce__', '__reduce_ex__', '__repr__', '__rfloordiv__', '__rlshift__', '__rmod__', '__rmul__', '__ror__', '__round__', '__rpow__', '__rrshift__', '__rshift__', '__rsub__', '__rtruediv__', '__rxor__', '__setattr__', '__sizeof__', '__str__', '__sub__', '__subclasshook__', '__truediv__', '__trunc__', '__xor__', 'as_integer_ratio', 'bit_count', 'bit_length', 'conjugate', 'denominator', 'from_bytes', 'imag', 'is_integer', 'numerator', 'real', 'to_bytes']\n"
     ]
    }
   ],
   "source": [
    "나이 = 10\n",
    "type(나이)\n",
    "print(dir(나이))"
   ]
  },
  {
   "cell_type": "code",
   "execution_count": 28,
   "id": "48842a9c",
   "metadata": {},
   "outputs": [
    {
     "name": "stdout",
     "output_type": "stream",
     "text": [
      "4\n",
      "0b1010\n"
     ]
    }
   ],
   "source": [
    "print(나이.bit_length())\n",
    "print(bin(나이))"
   ]
  },
  {
   "cell_type": "markdown",
   "id": "d41248dd",
   "metadata": {},
   "source": [
    "메소드/내장 함수 /함수"
   ]
  },
  {
   "cell_type": "code",
   "execution_count": null,
   "id": "02f85590",
   "metadata": {},
   "outputs": [],
   "source": []
  }
 ],
 "metadata": {
  "kernelspec": {
   "display_name": "Python 3",
   "language": "python",
   "name": "python3"
  },
  "language_info": {
   "codemirror_mode": {
    "name": "ipython",
    "version": 3
   },
   "file_extension": ".py",
   "mimetype": "text/x-python",
   "name": "python",
   "nbconvert_exporter": "python",
   "pygments_lexer": "ipython3",
   "version": "3.12.6"
  }
 },
 "nbformat": 4,
 "nbformat_minor": 5
}
