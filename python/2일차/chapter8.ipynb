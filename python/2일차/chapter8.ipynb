{
 "cells": [
  {
   "cell_type": "markdown",
   "id": "fb6b0735",
   "metadata": {},
   "source": [
    "자료형 종류\n",
    "int(integer) : 정수형\n",
    "float(float) : 실수\n",
    "str(string) : 문자\n",
    "bool(bool,boolean) : 참 또는 거짓\n",
    "\n",
    "---\n",
    "list  \n",
    "tuple  \n",
    "dict  \n",
    "set  "
   ]
  },
  {
   "cell_type": "code",
   "execution_count": 4,
   "id": "55b9936f",
   "metadata": {},
   "outputs": [
    {
     "data": {
      "text/plain": [
       "False"
      ]
     },
     "execution_count": 4,
     "metadata": {},
     "output_type": "execute_result"
    }
   ],
   "source": [
    "#bool의 쇼타임이 시작됩니다.\n",
    "# 주의할점 true x true False x False\n",
    "#부등호\n",
    "\n",
    "3>1\n",
    "\n",
    "3 == 1\n",
    "\n",
    "3==3\n",
    "\n",
    "20!=6\n",
    "20 !=20"
   ]
  },
  {
   "cell_type": "code",
   "execution_count": 10,
   "id": "38acda6c",
   "metadata": {},
   "outputs": [
    {
     "data": {
      "text/plain": [
       "True"
      ]
     },
     "execution_count": 10,
     "metadata": {},
     "output_type": "execute_result"
    }
   ],
   "source": [
    "#문자열 비교\n",
    "\n",
    "\"python\" == \"Python\"\n",
    "\"Python\" == \"Python\"\n",
    "\"Python\" != \"python\""
   ]
  },
  {
   "cell_type": "code",
   "execution_count": 12,
   "id": "9b5521e7",
   "metadata": {},
   "outputs": [
    {
     "data": {
      "text/plain": [
       "False"
      ]
     },
     "execution_count": 12,
     "metadata": {},
     "output_type": "execute_result"
    }
   ],
   "source": [
    "#부등호\n",
    "5>=5\n",
    "5 < 4"
   ]
  },
  {
   "cell_type": "code",
   "execution_count": 17,
   "id": "2a383496",
   "metadata": {},
   "outputs": [
    {
     "name": "stdout",
     "output_type": "stream",
     "text": [
      "4426550768\n",
      "4390363568\n"
     ]
    },
    {
     "name": "stderr",
     "output_type": "stream",
     "text": [
      "<>:4: SyntaxWarning: \"is\" with 'float' literal. Did you mean \"==\"?\n",
      "<>:4: SyntaxWarning: \"is\" with 'float' literal. Did you mean \"==\"?\n",
      "/var/folders/cs/jly87wf55js1jdbn1fyssv_r0000gn/T/ipykernel_35834/1538516895.py:4: SyntaxWarning: \"is\" with 'float' literal. Did you mean \"==\"?\n",
      "  3.0 is 3\n"
     ]
    }
   ],
   "source": [
    "#중요\n",
    "# == , is\n",
    "\n",
    "3.0 is 3\n",
    "\n",
    "3==3\n",
    "3.0 == 3\n",
    "\n",
    "print(id(3.0))\n",
    "print(id(3))"
   ]
  },
  {
   "cell_type": "markdown",
   "id": "3586059b",
   "metadata": {},
   "source": [
    "값 비교에 is를 쓰면 안되는 이유\n",
    "is 는 (==)처럼 단순한 수치를 비교하는것이 아닌 python데이터 내의 메모리에서 같은 대상인지를 비교하기 때문에 \n",
    "같은 숫자라도 할당된 변수가 다르다면 is는 다르다고 판단한다"
   ]
  },
  {
   "cell_type": "code",
   "execution_count": 22,
   "id": "dfebec68",
   "metadata": {},
   "outputs": [
    {
     "data": {
      "text/plain": [
       "False"
      ]
     },
     "execution_count": 22,
     "metadata": {},
     "output_type": "execute_result"
    }
   ],
   "source": [
    "#본격적인 논리연산자\n",
    "#True : 1 / False : 0\n",
    "\n",
    "True and True # 1 * 1 = 1 True\n",
    "True and False # 1 * 0 = 0 False\n",
    "False and True # 0 * 1 = 0  False\n",
    "False and False # 0 * 0 = 0 False\n",
    "\n"
   ]
  },
  {
   "cell_type": "code",
   "execution_count": null,
   "id": "2fbf5140",
   "metadata": {},
   "outputs": [
    {
     "data": {
      "text/plain": [
       "False"
      ]
     },
     "execution_count": 23,
     "metadata": {},
     "output_type": "execute_result"
    }
   ],
   "source": [
    "#본격적인 논리연산자\n",
    "#True : 1 / False : 0\n",
    "\n",
    "True or True # 1 + 1 = 1 True\n",
    "True or False # 1 + 0 = 1 True\n",
    "False or True # 0 + 1 = 1 True\n",
    "False or False # 0 + 0 = 0 False\n"
   ]
  },
  {
   "cell_type": "code",
   "execution_count": 25,
   "id": "62673f52",
   "metadata": {},
   "outputs": [
    {
     "data": {
      "text/plain": [
       "True"
      ]
     },
     "execution_count": 25,
     "metadata": {},
     "output_type": "execute_result"
    }
   ],
   "source": [
    "#not\n",
    "\n",
    "not True\n",
    "\n",
    "not False"
   ]
  },
  {
   "cell_type": "code",
   "execution_count": 26,
   "id": "de90909e",
   "metadata": {},
   "outputs": [
    {
     "name": "stderr",
     "output_type": "stream",
     "text": [
      "<>:6: SyntaxWarning: \"is not\" with 'int' literal. Did you mean \"!=\"?\n",
      "<>:6: SyntaxWarning: \"is not\" with 'int' literal. Did you mean \"!=\"?\n",
      "/var/folders/cs/jly87wf55js1jdbn1fyssv_r0000gn/T/ipykernel_35834/31866975.py:6: SyntaxWarning: \"is not\" with 'int' literal. Did you mean \"!=\"?\n",
      "  not 7 is 7.0\n"
     ]
    },
    {
     "data": {
      "text/plain": [
       "True"
      ]
     },
     "execution_count": 26,
     "metadata": {},
     "output_type": "execute_result"
    }
   ],
   "source": [
    "#점점 복잡해지는 조건들 !!\n",
    "\n",
    "10 == 12 or 6 !=2\n",
    "2>5 and 7==7\n",
    "not 14 <= 15\n",
    "not 7 is 7.0\n",
    "\n",
    "#True\n",
    "#False\n",
    "#False\n",
    "#True\n"
   ]
  },
  {
   "cell_type": "code",
   "execution_count": 27,
   "id": "0b544969",
   "metadata": {},
   "outputs": [
    {
     "data": {
      "text/plain": [
       "True"
      ]
     },
     "execution_count": 27,
     "metadata": {},
     "output_type": "execute_result"
    }
   ],
   "source": [
    "#문자열 True\n",
    "\n",
    "bool(\"힘들어요\")"
   ]
  },
  {
   "cell_type": "code",
   "execution_count": 31,
   "id": "1af2ea19",
   "metadata": {},
   "outputs": [
    {
     "name": "stdout",
     "output_type": "stream",
     "text": [
      "False\n",
      "False\n",
      "False\n",
      "힘들어요\n"
     ]
    }
   ],
   "source": [
    "#굉장히 중요한 내용\n",
    "#단락 평가\n",
    "print(False and True)\n",
    "print(False and \"힘들어요\") \n",
    "\n",
    "print(True and False)\n",
    "\n",
    "print(True and '힘들어요')"
   ]
  },
  {
   "cell_type": "code",
   "execution_count": null,
   "id": "3329b426",
   "metadata": {},
   "outputs": [],
   "source": []
  }
 ],
 "metadata": {
  "kernelspec": {
   "display_name": "Python 3",
   "language": "python",
   "name": "python3"
  },
  "language_info": {
   "codemirror_mode": {
    "name": "ipython",
    "version": 3
   },
   "file_extension": ".py",
   "mimetype": "text/x-python",
   "name": "python",
   "nbconvert_exporter": "python",
   "pygments_lexer": "ipython3",
   "version": "3.12.6"
  }
 },
 "nbformat": 4,
 "nbformat_minor": 5
}
