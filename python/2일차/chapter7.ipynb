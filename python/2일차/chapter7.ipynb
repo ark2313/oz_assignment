{
 "cells": [
  {
   "cell_type": "markdown",
   "id": "c5b710a2",
   "metadata": {},
   "source": [
    "### 자료형 종류\n",
    "1.int(integer) : 정수형\n",
    "2.float(float) : 실수형\n",
    "3.str(string) : 문자\n",
    "4.bool(bool, booleam) : 참 또는 거짓, true or flase, 1또는0\n",
    "\n",
    "---\n",
    "5.list  \n",
    "6.tuple  \n",
    "7.dict  \n",
    "8.set  "
   ]
  },
  {
   "cell_type": "code",
   "execution_count": 2,
   "id": "70994baa",
   "metadata": {},
   "outputs": [],
   "source": [
    "이름 = \"뒤마\"\n",
    "나이 = 10\n",
    "키 = 180.3\n",
    "소속 ='자하트 왕가 직속경비대'"
   ]
  },
  {
   "cell_type": "code",
   "execution_count": 6,
   "id": "db9394e0",
   "metadata": {},
   "outputs": [
    {
     "name": "stdout",
     "output_type": "stream",
     "text": [
      "<class 'str'>\n",
      "<class 'int'>\n",
      "<class 'float'>\n",
      "<class 'str'>\n",
      "이름 : 뒤마,나이 : 10 키 : 180.3 소속 : 자하트 왕가 직속경비대\n"
     ]
    }
   ],
   "source": [
    "print(type(이름))\n",
    "print(type(나이))\n",
    "print(type(키))\n",
    "print(type(소속))\n",
    "print(\"이름 : \" f'{이름}' \",\" \"나이 : \" f'{나이}', \"키 : \" f'{키}', \"소속 : \" f'{소속}')"
   ]
  },
  {
   "cell_type": "code",
   "execution_count": 10,
   "id": "54f9791d",
   "metadata": {},
   "outputs": [
    {
     "name": "stdout",
     "output_type": "stream",
     "text": [
      "5.0\n",
      "5\n",
      "5 5.0\n",
      "<class 'str'> <class 'str'>\n"
     ]
    }
   ],
   "source": [
    "print(float(5))\n",
    "print(int(5.0))\n",
    "print(\"5\", \"5.0\")\n",
    "print(type(\"5\"), type(\"5.0\"))"
   ]
  },
  {
   "cell_type": "markdown",
   "id": "626e692f",
   "metadata": {},
   "source": [
    "str : 문자열\n",
    "특징 : 시퀀스 자료형\n",
    "시퀀스란? 요소들이 연속적으로 이어진 자료형\n",
    "값 하나하나를 요소라고 한다"
   ]
  },
  {
   "cell_type": "code",
   "execution_count": 15,
   "id": "faaa2921",
   "metadata": {},
   "outputs": [
    {
     "name": "stdout",
     "output_type": "stream",
     "text": [
      "자하트 왕가 직속경비대\n",
      "자\n",
      "하\n",
      "트\n",
      " \n",
      "왕\n",
      "가\n",
      " \n",
      "직\n"
     ]
    }
   ],
   "source": [
    "#인덱스\n",
    "\n",
    "print(소속)\n",
    "print(소속[0])\n",
    "print(소속[1])\n",
    "print(소속[2])\n",
    "print(소속[3])\n",
    "print(소속[4])\n",
    "print(소속[5])\n",
    "print(소속[6])\n",
    "print(소속[7])"
   ]
  },
  {
   "cell_type": "code",
   "execution_count": 18,
   "id": "e38a98d6",
   "metadata": {},
   "outputs": [
    {
     "data": {
      "text/plain": [
       "False"
      ]
     },
     "execution_count": 18,
     "metadata": {},
     "output_type": "execute_result"
    }
   ],
   "source": [
    "\"하\" in 소속\n",
    "\"3\" in 소속"
   ]
  },
  {
   "cell_type": "code",
   "execution_count": 20,
   "id": "813d2d81",
   "metadata": {},
   "outputs": [
    {
     "data": {
      "text/plain": [
       "'13금요일'"
      ]
     },
     "execution_count": 20,
     "metadata": {},
     "output_type": "execute_result"
    }
   ],
   "source": [
    "#문자열 즉 시퀀스 끼리 합치기\n",
    "\n",
    "\"13\" + \"금요일\""
   ]
  },
  {
   "cell_type": "code",
   "execution_count": 24,
   "id": "363eb084",
   "metadata": {},
   "outputs": [
    {
     "name": "stdout",
     "output_type": "stream",
     "text": [
      "바니바니 당근당근 바니바니 당근당근 바니바니 당근당근 바니바니 당근당근 바니바니 당근당근 바니바니 당근당근 바니바니 당근당근 바니바니 당근당근 바니바니 당근당근 바니바니 당근당근 바니바니 당근당근 바니바니 당근당근 바니바니 당근당근 바니바니 당근당근 바니바니 당근당근 바니바니 당근당근 바니바니 당근당근 바니바니 당근당근 바니바니 당근당근 바니바니 당근당근 \n"
     ]
    },
    {
     "data": {
      "text/plain": [
       "200"
      ]
     },
     "execution_count": 24,
     "metadata": {},
     "output_type": "execute_result"
    }
   ],
   "source": [
    "#복사가 가능하다\n",
    "\n",
    "옛날게임 = \"바니바니 당근당근 \"*20\n",
    "print(옛날게임)\n",
    "\n",
    "len(옛날게임)"
   ]
  },
  {
   "cell_type": "markdown",
   "id": "57049a28",
   "metadata": {},
   "source": []
  },
  {
   "cell_type": "code",
   "execution_count": 28,
   "id": "df9218b5",
   "metadata": {},
   "outputs": [
    {
     "name": "stdout",
     "output_type": "stream",
     "text": [
      "카포에라\n",
      "카포에\n"
     ]
    }
   ],
   "source": [
    "퀴즈 = \"차 4대가 고장나면? 카포에라\"\n",
    "print(퀴즈[12:16])\n",
    "print(퀴즈[12:15])\n"
   ]
  },
  {
   "cell_type": "code",
   "execution_count": 30,
   "id": "d5deb4ad",
   "metadata": {},
   "outputs": [
    {
     "data": {
      "text/plain": [
       "'라'"
      ]
     },
     "execution_count": 30,
     "metadata": {},
     "output_type": "execute_result"
    }
   ],
   "source": [
    "퀴즈[15]\n",
    "퀴즈[-1]"
   ]
  },
  {
   "cell_type": "code",
   "execution_count": 37,
   "id": "f0b0c40e",
   "metadata": {},
   "outputs": [
    {
     "name": "stdout",
     "output_type": "stream",
     "text": [
      "2000\n",
      "12\n",
      "25\n",
      "2000,12,25\n"
     ]
    }
   ],
   "source": [
    "생년월일 = \"2000.12.25\"\n",
    "년 = 생년월일[0:4]\n",
    "월 = 생년월일[5:7]\n",
    "일 = 생년월일[8:11]\n",
    "\n",
    "\n",
    "#2000 12 25\n",
    "print(생년월일[0:4]); print(생년월일[5:7]);print(생년월일[8:10])\n",
    "\n",
    "print(f'{년},{월},{일}')"
   ]
  },
  {
   "cell_type": "code",
   "execution_count": 40,
   "id": "303f85ab",
   "metadata": {},
   "outputs": [
    {
     "name": "stdout",
     "output_type": "stream",
     "text": [
      "12343433131245235\n",
      "53254213133434321\n",
      "133311425\n",
      "343\n"
     ]
    }
   ],
   "source": [
    "숫자 = \"12343433131245235\"\n",
    "#전체 출력\n",
    "print(숫자[::])\n",
    "\n",
    "#전체 출력\n",
    "print(숫자[::-1])\n",
    "\n",
    "#첫번째 인덱스 기준으로 2칸씩 띄어쓰기 출력\n",
    "print(숫자[::2])\n",
    "\n",
    "print(숫자[4:1:-1])"
   ]
  },
  {
   "cell_type": "code",
   "execution_count": 45,
   "id": "220806b4",
   "metadata": {},
   "outputs": [
    {
     "name": "stdout",
     "output_type": "stream",
     "text": [
      "어중이떠중이\n"
     ]
    }
   ],
   "source": [
    "퀴즈 ='스님이 공중에 뜬다를 6글자로 말하면? 어중이떠중이'\n",
    "\n",
    "print(퀴즈[22:28])\n"
   ]
  },
  {
   "cell_type": "code",
   "execution_count": 48,
   "id": "39c909fb",
   "metadata": {},
   "outputs": [
    {
     "data": {
      "text/plain": [
       "1"
      ]
     },
     "execution_count": 48,
     "metadata": {},
     "output_type": "execute_result"
    }
   ],
   "source": [
    "과일 = 'apple'\n",
    "과일.count(\"e\")"
   ]
  },
  {
   "cell_type": "code",
   "execution_count": 52,
   "id": "1063dc5d",
   "metadata": {},
   "outputs": [
    {
     "data": {
      "text/plain": [
       "0"
      ]
     },
     "execution_count": 52,
     "metadata": {},
     "output_type": "execute_result"
    }
   ],
   "source": [
    "과일[2]\n",
    "과일.index(\"a\")"
   ]
  },
  {
   "cell_type": "code",
   "execution_count": 56,
   "id": "3e567845",
   "metadata": {},
   "outputs": [
    {
     "name": "stdout",
     "output_type": "stream",
     "text": [
      "은 걸 상기시켜 주니까\n"
     ]
    }
   ],
   "source": [
    "라라랜드 = \"사람들은 다른 사람들의 열정에 끌리게 되어있어 자신이 잊은 걸 상기시켜 주니까\"\n",
    "\n",
    "print(라라랜드[31:43])"
   ]
  }
 ],
 "metadata": {
  "kernelspec": {
   "display_name": "Python 3",
   "language": "python",
   "name": "python3"
  },
  "language_info": {
   "codemirror_mode": {
    "name": "ipython",
    "version": 3
   },
   "file_extension": ".py",
   "mimetype": "text/x-python",
   "name": "python",
   "nbconvert_exporter": "python",
   "pygments_lexer": "ipython3",
   "version": "3.12.6"
  }
 },
 "nbformat": 4,
 "nbformat_minor": 5
}
