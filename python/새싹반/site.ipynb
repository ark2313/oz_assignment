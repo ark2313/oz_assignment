{
 "cells": [
  {
   "cell_type": "code",
   "execution_count": null,
   "id": "175019fa",
   "metadata": {},
   "outputs": [],
   "source": [
    "# 아이디 비번 입력받기\n",
    "# 아이디, 비밀번호 다 입력됐는지 확인하기\n",
    "# 아이디 앞부분 abc인지 확인하기\n",
    "# 비밀번호 뒷부분 123인지 확인하기\n",
    "# 중복된 아이디 있는지 검증하기\n",
    "\n",
    "\n",
    "user_id=(input(\"아이디를 입력하세요\"))\n",
    "user_pw=(input(\"비밀번호를 입력하세요\"))\n",
    "\n",
    "user_ids = (\n",
    "    \"abcjohn123\",\n",
    "    \"abcmaria89\",\n",
    "    \"abcdavidk\",\n",
    "    \"abcalex007\",\n",
    "    \"abcchris21\",\n",
    "    \"abcluna84\",\n",
    "    \"abctommyx\",\n",
    "    \"abcsophia88\",\n",
    "    \"abcnatedev\",\n",
    "    \"abckevin92\",\n",
    "    \"abcellar\",\n",
    "    \"abcmike23\",\n",
    "    \"abcjuliekim\",\n",
    "    \"abcrachel777\",\n",
    "    \"abcianworks\",\n",
    "    \"abcemilyj\",\n",
    "    \"abcjayden34\",\n",
    "    \"abcnoras\",\n",
    "    \"abczackx99\",\n",
    "    \"abclisadev\"\n",
    ")\n",
    "\n",
    "if not user_id.startwith(\"abc\")\n",
    "\n",
    "if user_id in (\" \"):\n",
    "    print(\"아이디를 입력해주세요\")\n",
    "if user_pw in (\" \"):\n",
    "    print(\"비밀번호를 입력해주세요\")\n",
    "\n",
    "if user_id in user_ids:\n",
    "    print(\"아이디가 중복됩니다\")\n"
   ]
  }
 ],
 "metadata": {
  "kernelspec": {
   "display_name": "Python 3",
   "language": "python",
   "name": "python3"
  },
  "language_info": {
   "codemirror_mode": {
    "name": "ipython",
    "version": 3
   },
   "file_extension": ".py",
   "mimetype": "text/x-python",
   "name": "python",
   "nbconvert_exporter": "python",
   "pygments_lexer": "ipython3",
   "version": "3.12.6"
  }
 },
 "nbformat": 4,
 "nbformat_minor": 5
}
