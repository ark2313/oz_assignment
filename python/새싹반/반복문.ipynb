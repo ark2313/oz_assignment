{
 "cells": [
  {
   "cell_type": "markdown",
   "id": "ff383663",
   "metadata": {},
   "source": [
    "메뉴선택\n",
    "\n",
    "번호선택\n",
    "번호 내역\n",
    "끝\n",
    "\n",
    "메뉴선택 : if \n",
    "무한반복 : while"
   ]
  },
  {
   "cell_type": "code",
   "execution_count": null,
   "id": "3471dcbf",
   "metadata": {},
   "outputs": [],
   "source": [
    "chose = input(\"번호를 선택해주세요\")\n",
    "\n",
    "while chose \n",
    "if chose == \"1\" :\n",
    "        print(\"1번선택\")\n",
    "\n",
    "\n",
    "elif chose == \"2\" :\n",
    "        print(\"2번선택\")\n",
    "\n",
    "elif chose == \"3\" :\n",
    "        quit\n",
    "else :\n",
    "        print(\"1,2,3중에 선택해주세요\")\n",
    "\n"
   ]
  },
  {
   "cell_type": "code",
   "execution_count": 47,
   "id": "53837a06",
   "metadata": {},
   "outputs": [
    {
     "data": {
      "text/plain": [
       "6"
      ]
     },
     "execution_count": 47,
     "metadata": {},
     "output_type": "execute_result"
    }
   ],
   "source": [
    "import random\n",
    "\n",
    "list = [1,2,3,4,5,5,6]\n",
    "\n",
    "random.choice(list)"
   ]
  },
  {
   "cell_type": "code",
   "execution_count": 124,
   "id": "f02160bd",
   "metadata": {},
   "outputs": [
    {
     "name": "stdout",
     "output_type": "stream",
     "text": [
      "[3, 10, 14, 21, 38]\n",
      "[3, 10, 14, 21, 38]\n"
     ]
    }
   ],
   "source": [
    "import random\n",
    "\n",
    "lotto = []\n",
    "# for num in range(5):\n",
    "#     lott.append(random.randint(1,45))\n",
    "\n",
    "# print(lotto)\n",
    "\n",
    "while len(lotto) < 5:\n",
    "    num = random.randint(1, 45)\n",
    "\n",
    "    if num not in lotto:\n",
    "        lotto.append(num)\n",
    "\n",
    "\n",
    "lotto.sort()\n",
    "sorted_lotto = sorted(lotto)\n",
    "print(lotto)\n",
    "print(sorted_lotto)"
   ]
  }
 ],
 "metadata": {
  "kernelspec": {
   "display_name": "Python 3",
   "language": "python",
   "name": "python3"
  },
  "language_info": {
   "codemirror_mode": {
    "name": "ipython",
    "version": 3
   },
   "file_extension": ".py",
   "mimetype": "text/x-python",
   "name": "python",
   "nbconvert_exporter": "python",
   "pygments_lexer": "ipython3",
   "version": "3.12.6"
  }
 },
 "nbformat": 4,
 "nbformat_minor": 5
}
