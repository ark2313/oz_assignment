{
 "cells": [
  {
   "cell_type": "markdown",
   "id": "2382fa53",
   "metadata": {},
   "source": [
    "### list\n",
    "* list란? 원소들이 연속적으로 저장되는 형태의 자료형\n",
    "* 시퀀스 자료형\n",
    "    * str, list, tuple, dict, set\n",
    "* 만드는 방법은 쉬움 대괄호로 묶어주고, 값들은 쉼표로 구분"
   ]
  },
  {
   "cell_type": "code",
   "execution_count": 2,
   "id": "c3b96c01",
   "metadata": {},
   "outputs": [
    {
     "name": "stdout",
     "output_type": "stream",
     "text": [
      "[]\n",
      "[23, '이게 리스트다', 3.23, True, False]\n"
     ]
    }
   ],
   "source": [
    "#list\n",
    "\n",
    "리스트 = []\n",
    "print(리스트)\n",
    "\n",
    "리스트 = [23, \"이게 리스트다\", 3.23, True, False]\n",
    "print(리스트)"
   ]
  },
  {
   "cell_type": "code",
   "execution_count": 7,
   "id": "f833c91a",
   "metadata": {},
   "outputs": [
    {
     "data": {
      "text/plain": [
       "[0, 1, 2, 3, 4, 5, 6, 7, 8, 9, 10, 11, 12, 13, 14, 15, 16, 17, 18, 19]"
      ]
     },
     "execution_count": 7,
     "metadata": {},
     "output_type": "execute_result"
    }
   ],
   "source": [
    "# 리스트 다시 한번 선언\n",
    "\n",
    "리스트 = [\"이\",\"렇\",\"게\",\"만\",\"들\",\"어\",\"요\"]\n",
    "\n",
    "리스트\n",
    "\n",
    "리스트2 = list()\n",
    "리스트2\n",
    "\n",
    "#range 연속된 숫자를 생산하는 기능\n",
    "range(10)\n",
    "\n",
    "#list(range(시작, 끝))\n",
    "\n",
    "리스트_매직_들어간다 = list(range(0,20))\n",
    "\n",
    "리스트_매직_들어간다\n"
   ]
  },
  {
   "cell_type": "code",
   "execution_count": 12,
   "id": "fc5f9f41",
   "metadata": {},
   "outputs": [
    {
     "name": "stdout",
     "output_type": "stream",
     "text": [
      "[0, 2, 4, 6, 8, 10, 12, 14, 16, 18]\n",
      "[20, 19, 18, 17, 16, 15, 14, 13, 12, 11, 10, 9, 8, 7, 6, 5, 4, 3, 2, 1]\n",
      "[]\n"
     ]
    }
   ],
   "source": [
    "#list(range(시작,끝,증가))\n",
    "\n",
    "리스트_매직2 = list(range(0,20,2))\n",
    "print(리스트_매직2)\n",
    "\n",
    "리스트_매직3 = list(range(20,0,-1))\n",
    "print(리스트_매직3)\n",
    "\n",
    "리스트_매직4 = list(range(20,0))\n",
    "print(리스트_매직4)"
   ]
  },
  {
   "cell_type": "code",
   "execution_count": 15,
   "id": "cb49a6f1",
   "metadata": {},
   "outputs": [
    {
     "name": "stdout",
     "output_type": "stream",
     "text": [
      "들 어 가\n",
      "7 7 8\n",
      "10000 2장, 50003장, 10001장\n"
     ]
    }
   ],
   "source": [
    "#리스트를 이용해 변수에 값 넣기\n",
    "\n",
    "a,b,c = [\"들\",\"어\",\"가\"]\n",
    "\n",
    "print(a,b,c)\n",
    "\n",
    "d,e,f = [7,7,8]\n",
    "print(7,7,8)\n",
    "\n",
    "지갑 = [10000,5000,1000]\n",
    "만원, 오천원, 천원 =지갑\n",
    "\n",
    "print(f'{만원} 2장, {오천원}3장, {천원}1장')"
   ]
  },
  {
   "cell_type": "code",
   "execution_count": 17,
   "id": "2a0b54ee",
   "metadata": {},
   "outputs": [
    {
     "data": {
      "text/plain": [
       "['기억', '나요?']"
      ]
     },
     "execution_count": 17,
     "metadata": {},
     "output_type": "execute_result"
    }
   ],
   "source": [
    "#리스트 패킹, 리스트 언패킹\n",
    "\n",
    "\n",
    "input().split()\n"
   ]
  },
  {
   "cell_type": "code",
   "execution_count": 40,
   "id": "4174118b",
   "metadata": {},
   "outputs": [
    {
     "name": "stdout",
     "output_type": "stream",
     "text": [
      "[5, 15]\n",
      "44\n",
      "[44, 41, 33, 15, 5, 3]\n",
      "True\n",
      "[3, 5, 15, 33, 41, 44, 2, 12, 15, 24, 33, 39]\n",
      "[2, 4, 6, 8, 10]\n",
      "[2, 4, 6, 8, 10, 2, 4, 6, 8, 10]\n",
      "10\n",
      "8\n",
      "10\n"
     ]
    }
   ],
   "source": [
    "# 슬라이싱 \n",
    "\n",
    "로또 = [3,5,15,33,41,44]\n",
    "#로또 변수에 있는 리스트의 인덱스 1번부터 2번까지의 값을 출력\n",
    "\n",
    "\n",
    "print(로또[1:3])\n",
    "\n",
    "#로또 변수의 마지막 위치 출력\n",
    "print(로또[-1])\n",
    "\n",
    "#반대로 출력하기\n",
    "print(로또[::-1])\n",
    "\n",
    "\n",
    "#리스트 안에 33있는지 확인\n",
    "print(33 in 로또)\n",
    "\n",
    "#로또 + 로또2\n",
    "로또2 =[2,12,15,24,33,39]\n",
    "\n",
    "로또합 = 로또+로또2\n",
    "\n",
    "print(로또합)\n",
    "#range를 이용해서 1부터 10사이에 짝수만 들어있는 짝수(변수명) 리스트 만들기\n",
    "리스트_짝수= list(range(2,12,2))\n",
    "print(리스트_짝수)\n",
    "\n",
    "#짝수 리스트에 있는값을 2배 늘리고 다시 짝수변수에 담기\n",
    "리스트_짝수 = 리스트_짝수*2\n",
    "print(리스트_짝수)\n",
    "\n",
    "#짝수리스트에 있는 요소 개수\n",
    "\n",
    "print(len(리스트_짝수))\n",
    "\n",
    "#짝수 리스트에 3번째 인덱스 출력\n",
    "\n",
    "print(리스트_짝수[3])\n",
    "\n",
    "#len함수로 인덱스 마지막 값 출력하기\n",
    "print(리스트_짝수[len(리스트_짝수)-1])"
   ]
  },
  {
   "cell_type": "code",
   "execution_count": 66,
   "id": "4d913952",
   "metadata": {},
   "outputs": [
    {
     "name": "stdout",
     "output_type": "stream",
     "text": [
      "['숙주', '분모자', '마라', '소세지', '소고기', '옥수수면', '고수']\n",
      "['탕후루', '숙주', '분모자', '마라', '소세지', '소고기', '옥수수면', '고수']\n",
      "['탕후루', '숙주', '분모자', '마라', '소세지', '소고기', '옥수수면']\n",
      "['숙주', '분모자', '마라', '소세지', '소고기', '옥수수면']\n",
      "['숙주', '분모자', '마라', '소세지', '양고기', '옥수수면']\n"
     ]
    }
   ],
   "source": [
    "#list 값 넣고, 바꾸고, 지우고\n",
    "\n",
    "mzfood = ['숙주','분모자','마라','소세지','소고기','옥수수면']\n",
    "\n",
    "#값을 넣는 방법 두가지 : append():마지막 요소에 값을 넣어, insert(): 원하는 곳에 넣어\n",
    "\n",
    "mzfood.append('고수')\n",
    "print(mzfood)\n",
    "\n",
    "mzfood.insert(0,'탕후루')\n",
    "\n",
    "print(mzfood)\n",
    "\n",
    "\n",
    "#값 지우기\n",
    "del mzfood[-1]\n",
    "\n",
    "print(mzfood)\n",
    "\n",
    "del mzfood[0]\n",
    "print(mzfood)\n",
    "\n",
    "#값 바꾸기\n",
    "mzfood[-2]=\"양고기\"\n",
    "print(mzfood) \n",
    "\n",
    "#문자열이 시퀸스면 저거 다 되는거 아니냐\n",
    "인사 = \"반가워\"\n"
   ]
  },
  {
   "cell_type": "code",
   "execution_count": 50,
   "id": "c7f402cb",
   "metadata": {},
   "outputs": [
    {
     "name": "stdout",
     "output_type": "stream",
     "text": [
      "['__add__', '__class__', '__class_getitem__', '__contains__', '__delattr__', '__delitem__', '__dir__', '__doc__', '__eq__', '__format__', '__ge__', '__getattribute__', '__getitem__', '__getstate__', '__gt__', '__hash__', '__iadd__', '__imul__', '__init__', '__init_subclass__', '__iter__', '__le__', '__len__', '__lt__', '__mul__', '__ne__', '__new__', '__reduce__', '__reduce_ex__', '__repr__', '__reversed__', '__rmul__', '__setattr__', '__setitem__', '__sizeof__', '__str__', '__subclasshook__', 'append', 'clear', 'copy', 'count', 'extend', 'index', 'insert', 'pop', 'remove', 'reverse', 'sort']\n"
     ]
    }
   ],
   "source": [
    "print(dir(list))"
   ]
  },
  {
   "cell_type": "code",
   "execution_count": null,
   "id": "83762fc7",
   "metadata": {},
   "outputs": [
    {
     "name": "stdout",
     "output_type": "stream",
     "text": [
      "['숙주', '분모자', '마라', '소세지', '양고기', '옥수수면']\n",
      "['옥수수면', '양고기', '소세지', '마라', '분모자', '숙주']\n",
      "['마라', '분모자', '소세지', '숙주', '양고기', '옥수수면']\n"
     ]
    }
   ],
   "source": [
    "#왜 print문을 쓰면 none이 뜨는가\n",
    "print(mzfood)\n",
    "\n",
    "mzfood.reverse()\n",
    "\n",
    "print(mzfood)\n",
    "\n",
    "mzfood.sort()\n",
    "print(mzfood)"
   ]
  },
  {
   "cell_type": "code",
   "execution_count": 65,
   "id": "7f6b4c0b",
   "metadata": {},
   "outputs": [
    {
     "data": {
      "text/plain": [
       "[[2, 0], [3, 1], [4, 1]]"
      ]
     },
     "execution_count": 65,
     "metadata": {},
     "output_type": "execute_result"
    }
   ],
   "source": [
    "#2차원 리스트에 대해서\n",
    "양파같은 = [[2,0],[3,1]]\n",
    "\n",
    "양파같은\n",
    "\n",
    "양파같은[0]\n",
    "양파같은[1]\n",
    "\n",
    "#3을 출력\n",
    "양파같은[1][0]\n",
    "\n",
    "양파같은.append([4,1])\n",
    "양파같은"
   ]
  }
 ],
 "metadata": {
  "kernelspec": {
   "display_name": "Python 3",
   "language": "python",
   "name": "python3"
  },
  "language_info": {
   "codemirror_mode": {
    "name": "ipython",
    "version": 3
   },
   "file_extension": ".py",
   "mimetype": "text/x-python",
   "name": "python",
   "nbconvert_exporter": "python",
   "pygments_lexer": "ipython3",
   "version": "3.12.6"
  }
 },
 "nbformat": 4,
 "nbformat_minor": 5
}
