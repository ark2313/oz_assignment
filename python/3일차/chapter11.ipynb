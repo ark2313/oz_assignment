{
 "cells": [
  {
   "cell_type": "markdown",
   "id": "f1eca39e",
   "metadata": {},
   "source": [
    "## 시퀀스 자료형\n",
    "* 문자열 : \n",
    "        * 시퀀스형에서 사용할수있는 메소드(count(),index(),split() 등...)\n",
    "        * 슬라이싱 ([:] [::])\n",
    "        * 요소들로 이루어져 가능했던 기능들 (요소 합치기, 요소 찾기 등)\n",
    "* list : \n",
    "        *시퀀스형에서 사용할수있는 메소드(count(),index(),split() 등...)\n",
    "        * 슬라이싱 ([:] [::])\n",
    "        * 요소들로 이루어져 가능했던 기능들 (요소 합치기, 요소 찾기 등)\n",
    "        * list 지원하는 다양한 메소드 (append(), insert, del, sort(), reverse\n",
    "        ())\n",
    "* tuple :\n",
    "        * 리스트처럼 요소를 일렬로 저장하지만 안에 저장된 요소를 변경, 추가 삭제 불가능\n",
    "        * 값을 추가, 삭제, 변경이 불가능해서 사용못하는 메소드가 많다\n",
    "        * tuple의 생성 방법은 tuple = 값, 값 또는 tuple = (값,값)\n",
    "        * 튜블은 소괄호\n",
    "        "
   ]
  },
  {
   "cell_type": "code",
   "execution_count": 2,
   "id": "a8616116",
   "metadata": {},
   "outputs": [
    {
     "name": "stdout",
     "output_type": "stream",
     "text": [
      "<class 'tuple'>\n",
      "(1, '이', 3.0)\n",
      "<class 'tuple'>\n",
      "(1, '이', 3)\n",
      "<class 'tuple'>\n",
      "(1,)\n",
      "<class 'int'>\n",
      "(1,)\n"
     ]
    }
   ],
   "source": [
    "# 리스트 [], 튜플은 ()\n",
    "튜플 = (1, \"이\", 3.0)\n",
    "print(type(튜플))\n",
    "print(튜플)\n",
    "\n",
    "#리스트 = [1, \"아\", 3.0]\n",
    "#print(type[리스트])\n",
    "#print(리스트)\n",
    "\n",
    "튜플2 = 1, \"이\",3\n",
    "print (type(튜플2))\n",
    "print(튜플2)\n",
    "\n",
    "#하나의 값만 들어있는 튜플만 만들고싶다면\n",
    "튜플_솔로 =(1, )\n",
    "print(type(튜플_솔로))\n",
    "print(튜플_솔로)\n",
    "\n",
    "튜플_나는솔로 =(1)\n",
    "print(type(튜플_나는솔로))\n",
    "print(튜플_솔로)"
   ]
  },
  {
   "cell_type": "code",
   "execution_count": 6,
   "id": "2ea5b70b",
   "metadata": {},
   "outputs": [
    {
     "name": "stdout",
     "output_type": "stream",
     "text": [
      "(1, '이', 3.0)\n",
      "['__add__', '__class__', '__class_getitem__', '__contains__', '__delattr__', '__dir__', '__doc__', '__eq__', '__format__', '__ge__', '__getattribute__', '__getitem__', '__getnewargs__', '__getstate__', '__gt__', '__hash__', '__init__', '__init_subclass__', '__iter__', '__le__', '__len__', '__lt__', '__mul__', '__ne__', '__new__', '__reduce__', '__reduce_ex__', '__repr__', '__rmul__', '__setattr__', '__sizeof__', '__str__', '__subclasshook__', 'count', 'index']\n",
      "<class 'list'>\n"
     ]
    }
   ],
   "source": [
    "# 값 추가, 삭제, 변견 불가\n",
    "\n",
    "print(튜플)\n",
    "print(dir(튜플))\n",
    "\n",
    "튜플_리스트화=list(튜플)\n",
    "\n",
    "\n",
    "print(type(튜플_리스트화))"
   ]
  },
  {
   "cell_type": "code",
   "execution_count": 9,
   "id": "75466fd1",
   "metadata": {},
   "outputs": [
    {
     "ename": "TypeError",
     "evalue": "'tuple' object does not support item assignment",
     "output_type": "error",
     "traceback": [
      "\u001b[31m---------------------------------------------------------------------------\u001b[39m",
      "\u001b[31mTypeError\u001b[39m                                 Traceback (most recent call last)",
      "\u001b[36mCell\u001b[39m\u001b[36m \u001b[39m\u001b[32mIn[9]\u001b[39m\u001b[32m, line 5\u001b[39m\n\u001b[32m      1\u001b[39m \u001b[38;5;66;03m#정말로 값의 삽입, 삭제 변경을 지원하지 않는지 확인\u001b[39;00m\n\u001b[32m      2\u001b[39m \n\u001b[32m      3\u001b[39m \u001b[38;5;66;03m#튜플.append('두리안')\u001b[39;00m\n\u001b[32m      4\u001b[39m \u001b[38;5;66;03m#del 튜플[2]\u001b[39;00m\n\u001b[32m----> \u001b[39m\u001b[32m5\u001b[39m \u001b[43m튜플\u001b[49m\u001b[43m[\u001b[49m\u001b[32;43m1\u001b[39;49m\u001b[43m]\u001b[49m = \u001b[33m\"\u001b[39m\u001b[33m너만 믿는다\u001b[39m\u001b[33m\"\u001b[39m\n\u001b[32m      6\u001b[39m 튜플\n",
      "\u001b[31mTypeError\u001b[39m: 'tuple' object does not support item assignment"
     ]
    }
   ],
   "source": [
    "#정말로 값의 삽입, 삭제 변경을 지원하지 않는지 확인\n",
    "\n",
    "#튜플.append('두리안')\n",
    "#del 튜플[2]\n",
    "튜플[1] = \"너만 믿는다\"\n",
    "튜플"
   ]
  },
  {
   "cell_type": "code",
   "execution_count": 13,
   "id": "28aa58f0",
   "metadata": {},
   "outputs": [
    {
     "name": "stdout",
     "output_type": "stream",
     "text": [
      "['중', '꺾', '마']\n",
      "('중', '꺾', '마')\n",
      "['중', '뿌', '마']\n",
      "중뿌마\n"
     ]
    }
   ],
   "source": [
    "#번외\n",
    "\n",
    "수강생 = \"중꺾마\"\n",
    "\n",
    "수강생_list = list(수강생)\n",
    "수강생_tuple = tuple(수강생)\n",
    "\n",
    "print(수강생_list)\n",
    "print(수강생_tuple)\n",
    "\n",
    "수강생_list[1] = \"뿌\"\n",
    "print(수강생_list)\n",
    "\n",
    "#join함수 공부 알고 있으면 코딩테스트에 좋다\n",
    "취뽀_수강생 = \"\".join(수강생_list)\n",
    "print(취뽀_수강생)"
   ]
  },
  {
   "cell_type": "code",
   "execution_count": 15,
   "id": "2efe4ce7",
   "metadata": {},
   "outputs": [
    {
     "name": "stdout",
     "output_type": "stream",
     "text": [
      "(1, '이', 3.0)\n"
     ]
    },
    {
     "data": {
      "text/plain": [
       "('이', 3.0)"
      ]
     },
     "execution_count": 15,
     "metadata": {},
     "output_type": "execute_result"
    }
   ],
   "source": [
    "# 공통점\n",
    "print(튜플)\n",
    "\n",
    "#길이를 구할 수 있다\n",
    "len(튜플)\n",
    "#곱하기 연산으로 요소 복사 가능\n",
    "튜플 * 3\n",
    "#튜플은 요소들끼리 더할 수 잇다\n",
    "튜플 + 튜플\n",
    "#튜플은 인덱싱이 가능하다\n",
    "튜플[2]\n",
    "\n",
    "#튜플의 인덱스\n",
    "튜플.index(3.0)\n",
    "\n",
    "#튜플 요소의 개수\n",
    "튜플.count(1)\n",
    "#튜플도 슬라이싱이 가능하다\n",
    "튜플[1:3]"
   ]
  },
  {
   "cell_type": "markdown",
   "id": "fd8e3453",
   "metadata": {},
   "source": [
    "# tuple 왜 쓸까요\n",
    "1.3Go 불가능 (넣고,삭제하고,바꾸고)\n",
    "    여러명이 코딩을 하는 경우 변경되면 안되는 변수를 건드리는 경우  \n",
    "    또는 값이 변경되면 안되는 중요한 데이터를 넣어서 보안적으로 관리하기 좋다 (은행계좌, 비밀번호)\n",
    "\n",
    "2.list는 tuple보다 무겁다\n",
    "    파이썬 made by -> C\n",
    "\n",
    "    파이썬은 동적배열 지원\n",
    "    -처음 list = [1,2,3,4] todtjdgotj 4개에 값을 모두 넣었다\n",
    "    -문제는 그 다음 값을 추가할때 이미 공간이 다 차서 추가 할당을 해줘야한다\n",
    "    추가 할당시 메모리 크기는 4,5,16,25.... 더블링 진행"
   ]
  },
  {
   "cell_type": "markdown",
   "id": "64a90f38",
   "metadata": {},
   "source": [
    "* 가변객체와,불변객체(이미 써봄)\n",
    "* 파이썬 리스트의 동적배열\n",
    "* 자료구조 책 사보는거 추천 (파이썬 클린코드)"
   ]
  }
 ],
 "metadata": {
  "kernelspec": {
   "display_name": "Python 3",
   "language": "python",
   "name": "python3"
  },
  "language_info": {
   "codemirror_mode": {
    "name": "ipython",
    "version": 3
   },
   "file_extension": ".py",
   "mimetype": "text/x-python",
   "name": "python",
   "nbconvert_exporter": "python",
   "pygments_lexer": "ipython3",
   "version": "3.12.6"
  }
 },
 "nbformat": 4,
 "nbformat_minor": 5
}
