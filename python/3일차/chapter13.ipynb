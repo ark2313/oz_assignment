{
 "cells": [
  {
   "cell_type": "markdown",
   "id": "215637b8",
   "metadata": {},
   "source": [
    "## 시퀀스 자료형\n",
    "* 문자열 : \n",
    "        * 시퀀스형에서 사용할수있는 메소드(count(),index(),split() 등...)\n",
    "        * 슬라이싱 ([:] [::])\n",
    "        * 요소들로 이루어져 가능했던 기능들 (요소 합치기, 요소 찾기 등)\n",
    "* list : \n",
    "        *시퀀스형에서 사용할수있는 메소드(count(),index(),split() 등...)\n",
    "        * 슬라이싱 ([:] [::])\n",
    "        * 요소들로 이루어져 가능했던 기능들 (요소 합치기, 요소 찾기 등)\n",
    "        * list 지원하는 다양한 메소드 (append(), insert, del, sort(), reverse\n",
    "        ())\n",
    "* tuple :\n",
    "        * 리스트처럼 요소를 일렬로 저장하지만 안에 저장된 요소를 변경, 추가 삭제 불가능\n",
    "        * 값을 추가, 삭제, 변경이 불가능해서 사용못하는 메소드가 많다\n",
    "        * tuple의 생성 방법은 tuple = 값, 값 또는 tuple = (값,값)\n",
    "        * 튜블은 소괄호\n",
    "\n",
    "* dict(딕셔너리)\n",
    "        * list, tuple, str, range(범위안에 연속된 데이터를 만드는 시퀸스였다)\n",
    "        공통적인 특징이 있다 데이터의 연관성이 없다\n",
    "        dict는 여러개의 값이 일렬로 정렬 되면서도 값끼리의 연관성이 존재\n",
    "        (예시 : 게임 캐릭터 힘:30, 지능:20,체력:40,민첩:90)\n",
    "        * dict 생성방법은 중괄호\n",
    "* set\n",
    "        * set은 수학의 집합을 의미한다\n",
    "        * 딕셔너리와 같이 순서가 없다\n",
    "        * 값의 중복을 허락하지 않는다, 중요함\n",
    "        * set 생성방법도 중괄호"
   ]
  },
  {
   "cell_type": "code",
   "execution_count": 9,
   "id": "9f234476",
   "metadata": {},
   "outputs": [
    {
     "name": "stdout",
     "output_type": "stream",
     "text": [
      "{'양파', '대파', '배추', '당근'}\n"
     ]
    },
    {
     "data": {
      "text/plain": [
       "{}"
      ]
     },
     "execution_count": 9,
     "metadata": {},
     "output_type": "execute_result"
    }
   ],
   "source": [
    "채소 = {\"당근\",\"배추\",\"대파\",\"양파\"}\n",
    "type(채소)\n",
    "print(채소)\n",
    "\n",
    "#순서가 없고, 출력하면 요소가 다르게 나온다\n",
    "\n",
    "#세트를 만드는 방법\n",
    "세트 = set()\n",
    "세트\n",
    "세트2 = {}\n",
    "세트2 "
   ]
  },
  {
   "cell_type": "code",
   "execution_count": 11,
   "id": "d27ddee9",
   "metadata": {},
   "outputs": [
    {
     "name": "stdout",
     "output_type": "stream",
     "text": [
      "['a', 'p', 'p', 'l', 'e']\n",
      "('a', 'p', 'p', 'l', 'e')\n",
      "{'p', 'l', 'e', 'a'}\n"
     ]
    },
    {
     "data": {
      "text/plain": [
       "set()"
      ]
     },
     "execution_count": 11,
     "metadata": {},
     "output_type": "execute_result"
    }
   ],
   "source": [
    "#중복을 허용하지않는 set\n",
    "\n",
    "사과_리스트 = list(\"apple\")\n",
    "print(사과_리스트)\n",
    "사과_튜플= tuple(\"apple\")\n",
    "print(사과_튜플)\n",
    "\n",
    "\n",
    "사과_세트 = set(\"apple\")\n",
    "print(사과_세트)\n",
    "세트\n"
   ]
  },
  {
   "cell_type": "code",
   "execution_count": 24,
   "id": "de655bf7",
   "metadata": {},
   "outputs": [
    {
     "data": {
      "text/plain": [
       "{'당근', '양파', '토마토'}"
      ]
     },
     "execution_count": 24,
     "metadata": {},
     "output_type": "execute_result"
    }
   ],
   "source": [
    "#set() 자료형의 데이터 추가, 삭제, 변경\n",
    "\n",
    "채소\n",
    "\n",
    "#set() 함수의 데이터 삽입\n",
    "채소.add('토마토')\n",
    "채소\n",
    "\n",
    "#채소.update(\"깻잎\")\n",
    "#채소\n",
    "\n",
    "#set() 함수의 데이터 삭제\n",
    "#채소.remove(\"잎\")\n",
    "채소.discard(\"깻\")\n",
    "채소\n",
    "\n",
    "채소.pop()\n",
    "채소\n"
   ]
  },
  {
   "cell_type": "code",
   "execution_count": null,
   "id": "f06e0c1f",
   "metadata": {},
   "outputs": [],
   "source": [
    "채소 = {\"당근\",\"배추\",\"대파\",\"양파\"}\n",
    "반환된_채소 = 채소.pop()\n",
    "print(f\"{반환된_채소}\")"
   ]
  }
 ],
 "metadata": {
  "kernelspec": {
   "display_name": "Python 3",
   "language": "python",
   "name": "python3"
  },
  "language_info": {
   "codemirror_mode": {
    "name": "ipython",
    "version": 3
   },
   "file_extension": ".py",
   "mimetype": "text/x-python",
   "name": "python",
   "nbconvert_exporter": "python",
   "pygments_lexer": "ipython3",
   "version": "3.12.6"
  }
 },
 "nbformat": 4,
 "nbformat_minor": 5
}
