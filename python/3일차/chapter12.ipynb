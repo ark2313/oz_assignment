{
 "cells": [
  {
   "cell_type": "markdown",
   "id": "1a37f0e4",
   "metadata": {},
   "source": [
    "## 시퀀스 자료형\n",
    "* 문자열 : \n",
    "        * 시퀀스형에서 사용할수있는 메소드(count(),index(),split() 등...)\n",
    "        * 슬라이싱 ([:] [::])\n",
    "        * 요소들로 이루어져 가능했던 기능들 (요소 합치기, 요소 찾기 등)\n",
    "* list : \n",
    "        *시퀀스형에서 사용할수있는 메소드(count(),index(),split() 등...)\n",
    "        * 슬라이싱 ([:] [::])\n",
    "        * 요소들로 이루어져 가능했던 기능들 (요소 합치기, 요소 찾기 등)\n",
    "        * list 지원하는 다양한 메소드 (append(), insert, del, sort(), reverse\n",
    "        ())\n",
    "* tuple :\n",
    "        * 리스트처럼 요소를 일렬로 저장하지만 안에 저장된 요소를 변경, 추가 삭제 불가능\n",
    "        * 값을 추가, 삭제, 변경이 불가능해서 사용못하는 메소드가 많다\n",
    "        * tuple의 생성 방법은 tuple = 값, 값 또는 tuple = (값,값)\n",
    "        * 튜블은 소괄호\n",
    "\n",
    "* dict(딕셔너리)\n",
    "        * list, tuple, str, range(범위안에 연속된 데이터를 만드는 시퀸스였다)\n",
    "        공통적인 특징이 있다 데이터의 연관성이 없다\n",
    "        dict는 여러개의 값이 일렬로 정렬 되면서도 값끼리의 연관성이 존재\n",
    "        (예시 : 게임 캐릭터 힘:30, 지능:20,체력:40,민첩:90)\n",
    "        * dict 생성방법은 중괄호\n",
    "    "
   ]
  },
  {
   "cell_type": "code",
   "execution_count": 4,
   "id": "fcdd9339",
   "metadata": {},
   "outputs": [
    {
     "name": "stdout",
     "output_type": "stream",
     "text": [
      "도둑넘은 힘이 30입니다\n"
     ]
    }
   ],
   "source": [
    "# list [], tuple (). dict()\n",
    "\n",
    "도둑넘 = {\"힘\":30,\"지능\":20,\"체력\":40, \"민첩\":90}\n",
    "도둑넘\n",
    "\n",
    "#{키:값}\n",
    "#{key1:value1, key2:value2}\n",
    "\n",
    "#시퀀스 데이터는 인덱싱을 이용해 데이터를 찾는다\n",
    "\n",
    "#도둑넘\n",
    "도둑넘[\"힘\"]\n",
    "print(f'도둑넘은 힘이 {도둑넘[\"힘\"]}입니다')"
   ]
  },
  {
   "cell_type": "code",
   "execution_count": 9,
   "id": "5e2d1c5c",
   "metadata": {},
   "outputs": [
    {
     "data": {
      "text/plain": [
       "{'힘': 30, '지능': 20, '체력': 40, '민첩': 90}"
      ]
     },
     "execution_count": 9,
     "metadata": {},
     "output_type": "execute_result"
    }
   ],
   "source": [
    "#딕셔너리를 만드는 다양한 방법\n",
    "\n",
    "#빈 딕셔너리 만들기\n",
    "딕셔너리 = {}\n",
    "딕셔너리 \n",
    "\n",
    "딕셔너리2 = dict()\n",
    "딕셔너리2\n",
    "\n",
    "#값을 넣어 만드는 방법\n",
    "#dict()로 생성시 값을 넣는 기호 \"\", : 주의해주세요\n",
    "딕셔너리3 = dict (힘=30, 지능=20,체력=40,민첩=90)\n",
    "딕셔너리3\n",
    "\n",
    "#zip() : 병렬처리를 도와준다\n",
    "딕셔너리4 = dict(zip([\"힘\",\"지능\",\"체력\",\"민첩\"],[30,20,40,90]))\n",
    "딕셔너리4"
   ]
  },
  {
   "cell_type": "code",
   "execution_count": 12,
   "id": "9dad6550",
   "metadata": {},
   "outputs": [
    {
     "data": {
      "text/plain": [
       "True"
      ]
     },
     "execution_count": 12,
     "metadata": {},
     "output_type": "execute_result"
    }
   ],
   "source": [
    "# 값의 중복은 허락되지만, 키의 중복은 허락하지 않는다\n",
    "\n",
    "\n",
    "도둑넘 = {\"힘\":30,\"지능\":20,\"체력\":40, \"민첩\":90, \"힘\":40, \"지구력\":90}\n",
    "도둑넘\n",
    "\n",
    "\"체력\" in 도둑넘\n"
   ]
  },
  {
   "cell_type": "code",
   "execution_count": null,
   "id": "3d52119f",
   "metadata": {},
   "outputs": [
    {
     "name": "stdout",
     "output_type": "stream",
     "text": [
      "dict_keys(['힘', '지능', '체력', '민첩', '지구력'])\n",
      "dict_values([40, 20, 40, 90, 90])\n",
      "dict_items([('힘', 40), ('지능', 20), ('체력', 40), ('민첩', 90), ('지구력', 90)])\n",
      "<class 'builtin_function_or_method'>\n"
     ]
    },
    {
     "data": {
      "text/plain": [
       "('힘', 40)"
      ]
     },
     "execution_count": 14,
     "metadata": {},
     "output_type": "execute_result"
    }
   ],
   "source": [
    "#딕셔너리에 다양한 메소드\n",
    "\n",
    "print(도둑넘.keys())\n",
    "print(도둑넘.values())\n",
    "\n",
    "print(도둑넘.items())\n",
    "print(type(도둑넘.items))\n",
    "\n",
    "리스트화된_도둑넘 = list(도둑넘.items())\n",
    "리스트화된_도둑넘[0][1]\n",
    "\n"
   ]
  },
  {
   "cell_type": "code",
   "execution_count": 18,
   "id": "6633d78b",
   "metadata": {},
   "outputs": [
    {
     "data": {
      "text/plain": [
       "{'힘': 40, '지능': 100, '체력': 40, '민첩': 90, '손재주': 44, '매력': 100}"
      ]
     },
     "execution_count": 18,
     "metadata": {},
     "output_type": "execute_result"
    }
   ],
   "source": [
    "# 딕셔너리 값 추가, 삭제, 변경\n",
    "\n",
    "도둑넘\n",
    "\n",
    "#del 도둑넘[\"지구력\"]\n",
    "\n",
    "#딕셔너리의 값 변경\n",
    "#도둑넘[\"지능\"] = 100\n",
    "\n",
    "#딕셔너리 값 추가\n",
    "도둑넘.update({\"손재주\":44, \"매력\":100})\n",
    "\n",
    "도둑넘"
   ]
  },
  {
   "cell_type": "code",
   "execution_count": 23,
   "id": "9740b544",
   "metadata": {},
   "outputs": [
    {
     "data": {
      "text/plain": [
       "'발렌시아'"
      ]
     },
     "execution_count": 23,
     "metadata": {},
     "output_type": "execute_result"
    }
   ],
   "source": [
    "코디 = {\n",
    "    \"모자\" : {\n",
    "        \"캡\" : \"발렌시아\",\n",
    "        \"비니\" : \"셀린느\"\n",
    "\n",
    "    },\n",
    "    \"상의\" : {\n",
    "        \"후드티\":\"칼하트\",\n",
    "        \"맨투맨\":\"슈프림\"\n",
    "    }\n",
    "\n",
    "}\n",
    "\n",
    "코디\n",
    "코디[\"모자\"]\n",
    "코디[\"모자\"][\"캡\"]"
   ]
  },
  {
   "cell_type": "markdown",
   "id": "d96b4e36",
   "metadata": {},
   "source": [
    "* 해시, 해시맵, 해시테이블"
   ]
  },
  {
   "cell_type": "code",
   "execution_count": null,
   "id": "837ba910",
   "metadata": {},
   "outputs": [],
   "source": [
    "#붕어빵(팥) : 2000원, 슈크림 : 2500, 잡채 : 3000원\n",
    "#슈크림2개,잡채3개 총 5개 결제금액 14000원\n",
    "#스네이크케이스 언더바 2개/print()문 포메팅 f-string\n",
    "\n",
    "#상품\n",
    "fish__cream = \"슈크림붕어빵\"\n",
    "fish__mix = \"잡채붕어빵\"\n",
    "\n",
    "\n",
    "#주문 수\n",
    "order__cream = 2\n",
    "order__mix = 3\n",
    "total__order = order__cream+order__mix\n",
    "\n",
    "#가격\n",
    "price__cream = 2500\n",
    "price__mix = 3000\n",
    "total__price = (price__cream*2) + (price__mix*3)\n",
    "\n",
    "\n",
    "print(\"주문이 완료되었습니다. \"f'{fish__cream},{order__cream}'\"개\", f'{fish__mix},{order__mix}'\"개 총 \"f'{total__order}' \"개 결제 금액은\" f'{total}'\" 원 입니다\")"
   ]
  }
 ],
 "metadata": {
  "kernelspec": {
   "display_name": "Python 3",
   "language": "python",
   "name": "python3"
  },
  "language_info": {
   "codemirror_mode": {
    "name": "ipython",
    "version": 3
   },
   "file_extension": ".py",
   "mimetype": "text/x-python",
   "name": "python",
   "nbconvert_exporter": "python",
   "pygments_lexer": "ipython3",
   "version": "3.12.6"
  }
 },
 "nbformat": 4,
 "nbformat_minor": 5
}
