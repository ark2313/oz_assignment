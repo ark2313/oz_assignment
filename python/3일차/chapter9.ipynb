{
 "cells": [
  {
   "cell_type": "markdown",
   "id": "5d9076d0",
   "metadata": {},
   "source": [
    "##입력과 출력\n",
    "\n",
    "* 입력 : input()\n",
    "* 출력 : pint()\n",
    "\n",
    "\n",
    "#### 함수와 메서드\n",
    ">함수 : 어디에도 속해있지 않고 단독 모듈이라 함수를 그냥 호출하여 사용가능\n",
    "ex) print(), input()\n",
    "\n",
    ">메소드 : 함수의 클래스 안에 속해 있고 클래스의 멤버 변수들을 이용해서 구현된 것\n",
    "예) \"까먹으신건가요?\".count(\"까\") / \"까먹으신건가요?\".index(\"까\")"
   ]
  },
  {
   "cell_type": "code",
   "execution_count": 1,
   "id": "f1f68ee1",
   "metadata": {},
   "outputs": [
    {
     "data": {
      "text/plain": [
       "1"
      ]
     },
     "execution_count": 1,
     "metadata": {},
     "output_type": "execute_result"
    }
   ],
   "source": [
    "\"까먹으신건가요\".count(\"까\")"
   ]
  },
  {
   "cell_type": "code",
   "execution_count": 2,
   "id": "be8fee80",
   "metadata": {},
   "outputs": [
    {
     "data": {
      "text/plain": [
       "0"
      ]
     },
     "execution_count": 2,
     "metadata": {},
     "output_type": "execute_result"
    }
   ],
   "source": [
    "\"까먹으신건가요?\".index(\"까\")"
   ]
  },
  {
   "cell_type": "code",
   "execution_count": 4,
   "id": "e785fe98",
   "metadata": {},
   "outputs": [
    {
     "name": "stdout",
     "output_type": "stream",
     "text": [
      "5 5\n"
     ]
    }
   ],
   "source": [
    "숫자, 문자 = 5, \"5\"\n",
    "print(숫자, 문자)"
   ]
  },
  {
   "cell_type": "code",
   "execution_count": 14,
   "id": "17402919",
   "metadata": {},
   "outputs": [
    {
     "name": "stdout",
     "output_type": "stream",
     "text": [
      "럼ㄴ\n"
     ]
    }
   ],
   "source": [
    "인사=input(\"(학교 최고 아싸)ㅎㅇ\")\n",
    "\n",
    "print(인사)"
   ]
  },
  {
   "cell_type": "code",
   "execution_count": 18,
   "id": "9a732134",
   "metadata": {},
   "outputs": [
    {
     "name": "stdout",
     "output_type": "stream",
     "text": [
      "5 <class 'int'>\n",
      "5.0 <class 'float'>\n"
     ]
    }
   ],
   "source": [
    "#int(), float(), str(), bool()\n",
    "\n",
    "정수 = input()\n",
    "정수 = int(정수)\n",
    "print(정수, type(정수))\n",
    "\n",
    "실수 = input()\n",
    "실수 = float(실수)\n",
    "print(실수, type(실수))"
   ]
  },
  {
   "cell_type": "code",
   "execution_count": 21,
   "id": "c1f91122",
   "metadata": {},
   "outputs": [
    {
     "name": "stdout",
     "output_type": "stream",
     "text": [
      "5 <class 'int'>\n",
      "5.0 <class 'float'>\n"
     ]
    }
   ],
   "source": [
    "\n",
    "정수 = int(input())\n",
    "print(정수, type(정수))\n",
    "\n",
    "실수 = float(input())\n",
    "print(실수, type(실수))"
   ]
  },
  {
   "cell_type": "markdown",
   "id": "c5e28098",
   "metadata": {},
   "source": [
    "그 외의 입력값의 형변환이 가능한 종류\n",
    "\n",
    "* tuple()\n",
    "* list()\n",
    "* dict()\n",
    "* set()"
   ]
  },
  {
   "cell_type": "code",
   "execution_count": 26,
   "id": "2218c9af",
   "metadata": {},
   "outputs": [
    {
     "name": "stdout",
     "output_type": "stream",
     "text": [
      "넌센스 퀴즈 : 스페인에서 에스파를 만나면?\n",
      "정답 :  에스파냐\n"
     ]
    }
   ],
   "source": [
    "넌센스, 정답 = input().split(\",\")\n",
    "\n",
    "print(f'넌센스 퀴즈 : {넌센스}')\n",
    "print(f'정답 : {정답}')"
   ]
  },
  {
   "cell_type": "code",
   "execution_count": 27,
   "id": "a08ad8f2",
   "metadata": {},
   "outputs": [
    {
     "name": "stdout",
     "output_type": "stream",
     "text": [
      "<class 'int'> 31231 12321 3121\n"
     ]
    }
   ],
   "source": [
    "#시퀸스 자료형에 다 지원되는 메소드\n",
    "\n",
    "번호1, 번호2, 번호3, 번호4 = input().split(\",\")\n",
    "\n",
    "번호1 = int(번호1)\n",
    "번호2 = int(번호2)\n",
    "번호3 = int(번호3)\n",
    "번호4 = int(번호4)\n",
    "\n",
    "print(type(번호1),번호2,번호3,번호4)"
   ]
  },
  {
   "cell_type": "code",
   "execution_count": 29,
   "id": "fbda1598",
   "metadata": {},
   "outputs": [
    {
     "name": "stdout",
     "output_type": "stream",
     "text": [
      "<class 'int'> 312321412345 412414124 12412\n"
     ]
    }
   ],
   "source": [
    "#map()\n",
    "\n",
    "번호1, 번호2, 번호3, 번호4 = map(int, input().split(\",\"))\n",
    "\n",
    "print(type(번호1),번호2,번호3,번호4)"
   ]
  },
  {
   "cell_type": "code",
   "execution_count": 33,
   "id": "61581929",
   "metadata": {},
   "outputs": [
    {
     "name": "stdout",
     "output_type": "stream",
     "text": [
      "주문이 완료되었습니다. 슈크림붕어빵,2개 잡채붕어빵,3개 총 5개 결제 금액은14000 원 입니다\n"
     ]
    }
   ],
   "source": [
    "#레거시 : 누군가 남겨두고간 코드\n",
    "#리팩토링 : 결과에 변경없이 코드의 구조를 재 조정하는 것\n",
    "#input()\n",
    "\n",
    "\n",
    "#붕어빵(팥) : 2000원, 슈크림 : 2500, 잡채 : 3000원\n",
    "#슈크림2개,잡채3개 총 5개 결제금액 14000원\n",
    "#스네이크케이스 언더바 2개/print()문 포메팅 f-string\n",
    "\n",
    "\n",
    "\n",
    "#상품\n",
    "fish__cream = \"슈크림붕어빵\"\n",
    "fish__mix = \"잡채붕어빵\"\n",
    "fish_p, fish_s, fish_j = input('팥붕,슈붕,잡붕를 순서대로 개수 입력 쉼표입력 안살거면 0입력').split(\",\")\n",
    "\n",
    "\n",
    "#주문 수\n",
    "order__cream = 2\n",
    "order__mix = 3\n",
    "total__order = order__cream+order__mix\n",
    "\n",
    "#가격\n",
    "price__cream = 2500\n",
    "price__mix = 3000\n",
    "total__price = (price__cream*2) + (price__mix*3)\n",
    "\n",
    "\n",
    "print(\"주문이 완료되었습니다. \"f'{fish__cream},{fish_s}'\"개\", f'{fish__mix},{fish_j}'\"개 총 \"f'{total__order}' \"개 결제 금액은\" f'{total__price}'\" 원 입니다\")"
   ]
  },
  {
   "cell_type": "code",
   "execution_count": 35,
   "id": "1fe4f338",
   "metadata": {},
   "outputs": [
    {
     "name": "stdout",
     "output_type": "stream",
     "text": [
      "초코칩 민트 샷추가 휘핑크림\n",
      "초코칩/민트/샷추가/휘핑크림\n",
      "초코칩:민트:샷추가:휘핑크림\n",
      "초코칩\n",
      "민트\n",
      "샷추가\n",
      "휘핑크림\n",
      "초코칩    민트    샷추가    휘핑크림\n"
     ]
    }
   ],
   "source": [
    "#print() 함수에 기능을 이용\n",
    "\n",
    "print(\"초코칩\",\"민트\",\"샷추가\",\"휘핑크림\")\n",
    "print(\"초코칩\",\"민트\",\"샷추가\",\"휘핑크림\", sep='/')\n",
    "print(\"초코칩\",\"민트\",\"샷추가\",\"휘핑크림\",sep=':')\n",
    "print(\"초코칩\",\"민트\",\"샷추가\",\"휘핑크림\",sep='\\n')\n",
    "print(\"초코칩\",\"민트\",\"샷추가\",\"휘핑크림\", sep='    ')"
   ]
  },
  {
   "cell_type": "code",
   "execution_count": 37,
   "id": "53a5f921",
   "metadata": {},
   "outputs": [
    {
     "name": "stdout",
     "output_type": "stream",
     "text": [
      "초코칩 민트 샷추가 휘핑크림 초코칩 민트 샷추가 휘핑크림 초코칩 민트 샷추가 휘핑크림 "
     ]
    }
   ],
   "source": [
    "#end\n",
    "\n",
    "print(\"초코칩\",\"민트\",\"샷추가\",\"휘핑크림\", end=' ')\n",
    "print(\"초코칩\",\"민트\",\"샷추가\",\"휘핑크림\", end = ' ')\n",
    "print(\"초코칩\",\"민트\",\"샷추가\",\"휘핑크림\", end = ' ')"
   ]
  }
 ],
 "metadata": {
  "kernelspec": {
   "display_name": "Python 3",
   "language": "python",
   "name": "python3"
  },
  "language_info": {
   "codemirror_mode": {
    "name": "ipython",
    "version": 3
   },
   "file_extension": ".py",
   "mimetype": "text/x-python",
   "name": "python",
   "nbconvert_exporter": "python",
   "pygments_lexer": "ipython3",
   "version": "3.12.6"
  }
 },
 "nbformat": 4,
 "nbformat_minor": 5
}
