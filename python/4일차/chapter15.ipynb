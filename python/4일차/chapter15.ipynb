{
 "cells": [
  {
   "cell_type": "markdown",
   "id": "e9cbdf11",
   "metadata": {},
   "source": [
    "## for문이란?\n",
    "* 프로그래밍 언어에서 반복되는 작업을 간단하게 처리하기 위해서 사용하는 기능"
   ]
  },
  {
   "cell_type": "code",
   "execution_count": 1,
   "id": "2cedd403",
   "metadata": {},
   "outputs": [],
   "source": [
    "#2. for문으로 만들어보기\n",
    "# for 변수 in range(횟수):\n",
    "# print()\n"
   ]
  },
  {
   "cell_type": "code",
   "execution_count": 2,
   "id": "01ce583c",
   "metadata": {},
   "outputs": [
    {
     "name": "stdout",
     "output_type": "stream",
     "text": [
      "반복이 된다\n",
      "반복이 된다\n",
      "반복이 된다\n",
      "반복이 된다\n",
      "반복이 된다\n"
     ]
    }
   ],
   "source": [
    "#3. for문 만들어보기\n",
    "\n",
    "for i in range(5):\n",
    "    print(\"반복이 된다\")"
   ]
  },
  {
   "cell_type": "code",
   "execution_count": 3,
   "id": "b98e77e2",
   "metadata": {},
   "outputs": [
    {
     "name": "stdout",
     "output_type": "stream",
     "text": [
      "반복이 된다 0\n",
      "반복이 된다 1\n",
      "반복이 된다 2\n",
      "반복이 된다 3\n",
      "반복이 된다 4\n"
     ]
    }
   ],
   "source": [
    "# 4.for문의 흐름 확인해보기\n",
    "\n",
    "for i in range(5):\n",
    "    print(\"반복이 된다\",i)"
   ]
  },
  {
   "cell_type": "code",
   "execution_count": 7,
   "id": "1dcbe967",
   "metadata": {},
   "outputs": [
    {
     "name": "stdout",
     "output_type": "stream",
     "text": [
      "10\n",
      "9\n",
      "8\n",
      "7\n",
      "6\n",
      "5\n",
      "9\n",
      "8\n",
      "7\n",
      "6\n",
      "5\n",
      "4\n",
      "3\n",
      "2\n",
      "1\n",
      "0\n"
     ]
    }
   ],
   "source": [
    "#5. for 문에서 range() 함수 활용하기\n",
    "\n",
    "#for i in range(4,10):\n",
    "#    print(i)\n",
    "\n",
    "# for i  in range(4,10,2):\n",
    "#     print(i)\n",
    "\n",
    "for i  in range(10,4,-1):\n",
    "    print(i)\n",
    "\n",
    "for i  in reversed(range(10)):\n",
    "    print(i)"
   ]
  },
  {
   "cell_type": "code",
   "execution_count": 11,
   "id": "06198141",
   "metadata": {},
   "outputs": [
    {
     "name": "stdout",
     "output_type": "stream",
     "text": [
      "닥 스 훈 트 트 훈 스 닥   "
     ]
    }
   ],
   "source": [
    "#6. for문에서 시퀸스 객체로 반복하기\n",
    "\n",
    "과일 = [\"두리안\",\"망고\",\"바나나\",\"멜론\"]\n",
    "\n",
    "#for i in 과일 :\n",
    "#   print(i)\n",
    "\n",
    "for i in \"닥스훈트\" :\n",
    "    print(i, end=' ')\n",
    "\n",
    "for i in reversed(\" 닥스훈트\" ):\n",
    "    print(i,end=' ')"
   ]
  },
  {
   "cell_type": "code",
   "execution_count": 19,
   "id": "0d001fb0",
   "metadata": {},
   "outputs": [
    {
     "name": "stdout",
     "output_type": "stream",
     "text": [
      "총 합은 13입니다.\n"
     ]
    }
   ],
   "source": [
    "#7. 예제로 for문 익혀보기\n",
    "#문제 절대값 정수가 담긴 정수변수 그 정수의 부호를 차례로 담은 부호 변수\n",
    "# 두 변수를 이용해 실제 정수의 합을 구하라 (True:양수, False:음수)\n",
    "\n",
    "정수 = [10,5,8]\n",
    "부호 = [True,False,True]\n",
    "\n",
    "합 = 0\n",
    "\n",
    "for k,v in zip(부호,정수) :\n",
    "    if k : \n",
    "        합 += v\n",
    "    else:\n",
    "        합 -= v\n",
    "\n",
    "print(f'총 합은 {합}입니다.')"
   ]
  },
  {
   "cell_type": "code",
   "execution_count": null,
   "id": "f4504dc3",
   "metadata": {},
   "outputs": [],
   "source": []
  }
 ],
 "metadata": {
  "kernelspec": {
   "display_name": "Python 3",
   "language": "python",
   "name": "python3"
  },
  "language_info": {
   "codemirror_mode": {
    "name": "ipython",
    "version": 3
   },
   "file_extension": ".py",
   "mimetype": "text/x-python",
   "name": "python",
   "nbconvert_exporter": "python",
   "pygments_lexer": "ipython3",
   "version": "3.12.6"
  }
 },
 "nbformat": 4,
 "nbformat_minor": 5
}
