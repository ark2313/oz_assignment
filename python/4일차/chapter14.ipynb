{
 "cells": [
  {
   "cell_type": "markdown",
   "id": "02648475",
   "metadata": {},
   "source": [
    "### if 문이란\n",
    "* 특정 조건일때 코드를 실행하는 문법\n",
    "\n",
    "'''\n",
    "if 파이썬을 정복한다면 :\n",
    "    개발자로 취직가능\n",
    "'''\n"
   ]
  },
  {
   "cell_type": "markdown",
   "id": "6fee5867",
   "metadata": {},
   "source": [
    "### if 문법과 주의사항(콤마, 들여쓰기)\n"
   ]
  },
  {
   "cell_type": "code",
   "execution_count": null,
   "id": "032feebc",
   "metadata": {},
   "outputs": [
    {
     "name": "stdout",
     "output_type": "stream",
     "text": [
      "개당 1800원 입니다\n"
     ]
    }
   ],
   "source": [
    "#2. if문 문법과 주의사항(콜론, 들여쓰기)\n",
    "\n",
    "계수 = int(input(\"붕어빵 몇개 사실건가요?\"))\n",
    "\n",
    "if 계수 > 3 :\n",
    "    print(\"개당 1800원 입니다\")"
   ]
  },
  {
   "cell_type": "code",
   "execution_count": 8,
   "id": "d5b8d78d",
   "metadata": {},
   "outputs": [
    {
     "name": "stdout",
     "output_type": "stream",
     "text": [
      "개당 1800원 입니다\n"
     ]
    }
   ],
   "source": [
    "#3. if문의 흐름 (작동원리)\n",
    "#코드는 위에서 아래 순서로 작동\n",
    "\n",
    "\n",
    "# 2)계수라는 변수에 담음        1)입력을 받음\n",
    "계수 = int(input(\"붕어빵 몇개 사실건가요?\"))\n",
    "\n",
    "# 3) 변수의 값 추정 4>3 True 또는 False\n",
    "\n",
    "if 계수 > 3 :\n",
    "    print(\"개당 1800원 입니다\") #4) 조건이 True이면 if문 안의 코드 실행\n",
    "\n",
    "if 계수 <= 3 :\n",
    "    print(\"개당 2000원 입니다\")"
   ]
  },
  {
   "cell_type": "code",
   "execution_count": 12,
   "id": "5182ba08",
   "metadata": {},
   "outputs": [
    {
     "name": "stdout",
     "output_type": "stream",
     "text": [
      "의문의 숫자는 5보다 크고 10보다 작다\n"
     ]
    }
   ],
   "source": [
    "#4 if 중첩문\n",
    "\n",
    "의문의_숫자 = 12\n",
    "if 의문의_숫자 > 5 :\n",
    "    if 의문의_숫자 < 15 :\n",
    "        print(\"의문의 숫자는 5보다 크고 10보다 작다\")\n"
   ]
  },
  {
   "cell_type": "code",
   "execution_count": null,
   "id": "ebd8dca6",
   "metadata": {},
   "outputs": [
    {
     "name": "stdout",
     "output_type": "stream",
     "text": [
      "개당 2000원 입니다\n"
     ]
    }
   ],
   "source": [
    "#5. if ~ else 문법과 주의사항(콜론, 들여쓰기)\n",
    "#True일때는 if문 안에 작성된 코드가 실행됩니다.\n",
    "#False일때는 if문 안에 작성된 코드가 실행됩니다.\n",
    "\n",
    "계수 = int(input(\"붕어빵 몇개 사실건가요?\"))\n",
    "\n",
    "# 3) 변수의 값 추정 4>3 True 또는 False\n",
    "\n",
    "if 계수 > 3 :\n",
    "    print(\"개당 1800원 입니다\") #4) 조건이 True이면 if문 안의 코드 실행\n",
    "else :\n",
    "    print(\"개당 2000원 입니다\")"
   ]
  },
  {
   "cell_type": "code",
   "execution_count": null,
   "id": "fb7f990b",
   "metadata": {},
   "outputs": [],
   "source": [
    "#6. if ~ else문 흐름(작동원리)\n",
    "\n",
    "계수 = int(input(\"붕어빵 몇개 사실건가요?\"))\n",
    "\n",
    "# 3) 변수의 값 추정 4>3 True 또는 False\n",
    "\n",
    "if 계수 > 3 :\n",
    "    print(\"개당 1800원 입니다\") #4) 조건이 True이면 if문 안의 코드 실행\n",
    "\n",
    "else :\n",
    "    print(\"개당 2000원 입니다\")"
   ]
  },
  {
   "cell_type": "code",
   "execution_count": 22,
   "id": "bd68a816",
   "metadata": {},
   "outputs": [
    {
     "name": "stdout",
     "output_type": "stream",
     "text": [
      "True\n",
      "False\n",
      "False\n",
      "False\n",
      "True\n",
      "True\n",
      "True\n",
      "False\n",
      "False\n",
      "True\n"
     ]
    }
   ],
   "source": [
    "#7.조건문 조건(True. False)\n",
    "#True\n",
    "\n",
    "if True :\n",
    "    print(True)\n",
    "else:\n",
    "    print(False)\n",
    "\n",
    "#False\n",
    "if False:\n",
    "    print(True)\n",
    "else:\n",
    "    print(False)\n",
    "\n",
    "#None\n",
    "if None :\n",
    "    print(True)\n",
    "else:\n",
    "    print(False)\n",
    "\n",
    "#0\n",
    "if 0:\n",
    "    print(True)\n",
    "else:\n",
    "    print(False)\n",
    "\n",
    "#1\n",
    "if 1:\n",
    "    print(True)\n",
    "else:\n",
    "    print(False)\n",
    "\n",
    "#1.1\n",
    "if 1.1 :\n",
    "    print(True)\n",
    "else:\n",
    "    print(False)\n",
    "\n",
    "#hello\n",
    "if \"hello\" :\n",
    "    print(True)\n",
    "else:\n",
    "    print(False)\n",
    "\n",
    "# '' (공백)\n",
    "if '':\n",
    "    print(True)\n",
    "else:\n",
    "    print(False)\n",
    "\n",
    "#not\n",
    "\n",
    "if not True:\n",
    "    print(True)\n",
    "else:\n",
    "    print(False)\n",
    "\n",
    "if not '' :\n",
    "    print(True)\n",
    "else:\n",
    "    print(False)"
   ]
  },
  {
   "cell_type": "code",
   "execution_count": 29,
   "id": "04bd7ce6",
   "metadata": {},
   "outputs": [
    {
     "name": "stdout",
     "output_type": "stream",
     "text": [
      "동일\n",
      "동일\n",
      "10보다 크고 20 보다작다\n",
      "10보다 크고 20보다 작다\n"
     ]
    }
   ],
   "source": [
    "#8. 조건식 여러개 설정하기\n",
    "\n",
    "a, b = 10, 30\n",
    "\n",
    "if a==10 and b == 30:\n",
    "    print(\"동일\")\n",
    "else :\n",
    "    print(\"불일치\")\n",
    "    \n",
    "if a==10 or b == 30:\n",
    "    print(\"동일\")\n",
    "else :\n",
    "    print(\"불일치\")\n",
    "\n",
    "if a>=10 and a<20 :\n",
    "    print(\"10보다 크고 20 보다작다\")\n",
    "\n",
    "if 10 <= a < 20 :\n",
    "    print(\"10보다 크고 20보다 작다\")"
   ]
  },
  {
   "cell_type": "code",
   "execution_count": 35,
   "id": "baa8ae11",
   "metadata": {},
   "outputs": [
    {
     "name": "stdout",
     "output_type": "stream",
     "text": [
      "잡채을 선택하셧습니다\n"
     ]
    }
   ],
   "source": [
    "#9. elis ~ if 문\n",
    "\n",
    "맛 = input(\"붕어빵 맛을 골라주세요(팥,슈크림,잡채)\")\n",
    "\n",
    "if 맛 == '팥':\n",
    "    print(f\"{맛}을 선택하셧습니다.\")\n",
    "elif 맛 == \"슈크림\":\n",
    "    print(f\"{맛}을 선택하셧습니다\")\n",
    "\n",
    "else :\n",
    "    print(f\"{맛}을 선택하셧습니다\")"
   ]
  },
  {
   "cell_type": "code",
   "execution_count": 44,
   "id": "7fb606b0",
   "metadata": {},
   "outputs": [
    {
     "name": "stdout",
     "output_type": "stream",
     "text": [
      "df\n"
     ]
    }
   ],
   "source": [
    "#10. 예제로 if문 익혀보기\n",
    "#문제 : 단어 a의 가운데 글자를 반환하는 코드\n",
    "#조건 : 단어의 길이가 짝수라면 가운데 두 글자를 출력하면 된다.\n",
    "\n",
    "#입력값1 : \"abcde\"  =>  c\n",
    "#입력값2 : \"qwer\"  => we\n",
    "\n",
    "a = input()\n",
    "함수1 = \"abcde\"\n",
    "함수2 = \"qwer\"\n",
    "\n",
    "가운데_인덱스 = int(len(a) / 2)\n",
    "\n",
    "\n",
    "if len(a)%2  != 0:\n",
    "   print(a[가운데_인덱스])\n",
    "else :\n",
    "    print(a[가운데_인덱스-1:가운데_인덱스+1])"
   ]
  },
  {
   "cell_type": "code",
   "execution_count": null,
   "id": "e72fe73b",
   "metadata": {},
   "outputs": [],
   "source": []
  }
 ],
 "metadata": {
  "kernelspec": {
   "display_name": "Python 3",
   "language": "python",
   "name": "python3"
  },
  "language_info": {
   "codemirror_mode": {
    "name": "ipython",
    "version": 3
   },
   "file_extension": ".py",
   "mimetype": "text/x-python",
   "name": "python",
   "nbconvert_exporter": "python",
   "pygments_lexer": "ipython3",
   "version": "3.12.6"
  }
 },
 "nbformat": 4,
 "nbformat_minor": 5
}
